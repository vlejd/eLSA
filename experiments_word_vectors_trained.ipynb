{
 "cells": [
  {
   "cell_type": "code",
   "execution_count": 1,
   "metadata": {},
   "outputs": [],
   "source": [
    "%load_ext autoreload\n",
    "%autoreload 2\n",
    "%matplotlib inline\n",
    "\n",
    "import dill\n",
    "from IPython.core import display as ICD  # to print multiple nice pandas tables\n",
    "import json\n",
    "import logging\n",
    "import matplotlib.pyplot as plt\n",
    "import numpy as np\n",
    "import pandas as pd\n",
    "import pickle\n",
    "import seaborn as sns\n",
    "import tqdm\n",
    "from tqdm import tqdm_notebook, tnrange\n",
    "sns.set()"
   ]
  },
  {
   "cell_type": "code",
   "execution_count": 2,
   "metadata": {},
   "outputs": [],
   "source": [
    "import datasets\n",
    "import classify"
   ]
  },
  {
   "cell_type": "code",
   "execution_count": 3,
   "metadata": {},
   "outputs": [],
   "source": [
    "from utils import subtract_baseline"
   ]
  },
  {
   "cell_type": "code",
   "execution_count": 4,
   "metadata": {},
   "outputs": [],
   "source": [
    "from collections import defaultdict\n",
    "results = defaultdict(dict)\n",
    "dump = defaultdict(dict)"
   ]
  },
  {
   "cell_type": "code",
   "execution_count": 5,
   "metadata": {},
   "outputs": [],
   "source": [
    "import gensim, logging\n",
    "logging.basicConfig(format='%(asctime)s : %(levelname)s : %(message)s', level=logging.INFO)"
   ]
  },
  {
   "cell_type": "code",
   "execution_count": 32,
   "metadata": {},
   "outputs": [],
   "source": [
    "model_path = 'word2vec/{}_{}.model'"
   ]
  },
  {
   "cell_type": "code",
   "execution_count": 33,
   "metadata": {
    "scrolled": true
   },
   "outputs": [
    {
     "name": "stderr",
     "output_type": "stream",
     "text": [
      "2018-04-23 13:30:08,871 : INFO : collecting all words and their counts\n",
      "2018-04-23 13:30:08,873 : INFO : PROGRESS: at sentence #0, processed 0 words, keeping 0 word types\n",
      "2018-04-23 13:30:08,895 : INFO : collected 5674 word types from a corpus of 75932 raw words and 3775 sentences\n",
      "2018-04-23 13:30:08,898 : INFO : Loading a fresh vocabulary\n",
      "2018-04-23 13:30:08,920 : INFO : min_count=1 retains 5674 unique words (100% of original 5674, drops 0)\n",
      "2018-04-23 13:30:08,924 : INFO : min_count=1 leaves 75932 word corpus (100% of original 75932, drops 0)\n",
      "2018-04-23 13:30:08,953 : INFO : deleting the raw counts dictionary of 5674 items\n",
      "2018-04-23 13:30:08,957 : INFO : sample=0.001 downsamples 49 most-common words\n",
      "2018-04-23 13:30:08,960 : INFO : downsampling leaves estimated 52763 word corpus (69.5% of prior 75932)\n",
      "2018-04-23 13:30:08,963 : INFO : estimated required memory for 5674 words and 200 dimensions: 11915400 bytes\n",
      "2018-04-23 13:30:09,020 : INFO : resetting layer weights\n"
     ]
    },
    {
     "name": "stdout",
     "output_type": "stream",
     "text": [
      "CRDataset 200\n"
     ]
    },
    {
     "name": "stderr",
     "output_type": "stream",
     "text": [
      "2018-04-23 13:30:09,216 : INFO : training model with 3 workers on 5674 vocabulary and 200 features, using sg=0 hs=0 sample=0.001 negative=5 window=5\n",
      "2018-04-23 13:30:10,005 : INFO : worker thread finished; awaiting finish of 2 more threads\n",
      "2018-04-23 13:30:10,029 : INFO : worker thread finished; awaiting finish of 1 more threads\n",
      "2018-04-23 13:30:10,077 : INFO : worker thread finished; awaiting finish of 0 more threads\n",
      "2018-04-23 13:30:10,078 : INFO : training on 379660 raw words (263735 effective words) took 0.8s, 311733 effective words/s\n",
      "2018-04-23 13:30:10,078 : INFO : saving Word2Vec object under word2vec/CRDataset_200.model, separately None\n",
      "2018-04-23 13:30:10,079 : INFO : not storing attribute syn0norm\n",
      "2018-04-23 13:30:10,081 : INFO : not storing attribute cum_table\n",
      "2018-04-23 13:30:10,352 : INFO : saved word2vec/CRDataset_200.model\n",
      "2018-04-23 13:30:10,361 : INFO : collecting all words and their counts\n",
      "2018-04-23 13:30:10,364 : INFO : PROGRESS: at sentence #0, processed 0 words, keeping 0 word types\n",
      "2018-04-23 13:30:10,390 : INFO : collected 5674 word types from a corpus of 75932 raw words and 3775 sentences\n",
      "2018-04-23 13:30:10,399 : INFO : Loading a fresh vocabulary\n",
      "2018-04-23 13:30:10,418 : INFO : min_count=1 retains 5674 unique words (100% of original 5674, drops 0)\n",
      "2018-04-23 13:30:10,421 : INFO : min_count=1 leaves 75932 word corpus (100% of original 75932, drops 0)\n",
      "2018-04-23 13:30:10,443 : INFO : deleting the raw counts dictionary of 5674 items\n",
      "2018-04-23 13:30:10,444 : INFO : sample=0.001 downsamples 49 most-common words\n",
      "2018-04-23 13:30:10,445 : INFO : downsampling leaves estimated 52763 word corpus (69.5% of prior 75932)\n",
      "2018-04-23 13:30:10,445 : INFO : estimated required memory for 5674 words and 300 dimensions: 16454600 bytes\n",
      "2018-04-23 13:30:10,464 : INFO : resetting layer weights\n",
      "2018-04-23 13:30:10,533 : INFO : training model with 3 workers on 5674 vocabulary and 300 features, using sg=0 hs=0 sample=0.001 negative=5 window=5\n"
     ]
    },
    {
     "name": "stdout",
     "output_type": "stream",
     "text": [
      "CRDataset 300\n"
     ]
    },
    {
     "name": "stderr",
     "output_type": "stream",
     "text": [
      "2018-04-23 13:30:10,803 : INFO : worker thread finished; awaiting finish of 2 more threads\n",
      "2018-04-23 13:30:10,809 : INFO : worker thread finished; awaiting finish of 1 more threads\n",
      "2018-04-23 13:30:10,820 : INFO : worker thread finished; awaiting finish of 0 more threads\n",
      "2018-04-23 13:30:10,821 : INFO : training on 379660 raw words (263884 effective words) took 0.3s, 940487 effective words/s\n",
      "2018-04-23 13:30:10,825 : INFO : saving Word2Vec object under word2vec/CRDataset_300.model, separately None\n",
      "2018-04-23 13:30:10,825 : INFO : not storing attribute syn0norm\n",
      "2018-04-23 13:30:10,826 : INFO : not storing attribute cum_table\n",
      "2018-04-23 13:30:11,116 : INFO : saved word2vec/CRDataset_300.model\n",
      "2018-04-23 13:30:11,116 : INFO : collecting all words and their counts\n",
      "2018-04-23 13:30:11,117 : INFO : PROGRESS: at sentence #0, processed 0 words, keeping 0 word types\n",
      "2018-04-23 13:30:11,131 : INFO : collected 5674 word types from a corpus of 75932 raw words and 3775 sentences\n",
      "2018-04-23 13:30:11,132 : INFO : Loading a fresh vocabulary\n",
      "2018-04-23 13:30:11,150 : INFO : min_count=1 retains 5674 unique words (100% of original 5674, drops 0)\n",
      "2018-04-23 13:30:11,151 : INFO : min_count=1 leaves 75932 word corpus (100% of original 75932, drops 0)\n",
      "2018-04-23 13:30:11,170 : INFO : deleting the raw counts dictionary of 5674 items\n",
      "2018-04-23 13:30:11,172 : INFO : sample=0.001 downsamples 49 most-common words\n",
      "2018-04-23 13:30:11,172 : INFO : downsampling leaves estimated 52763 word corpus (69.5% of prior 75932)\n",
      "2018-04-23 13:30:11,173 : INFO : estimated required memory for 5674 words and 400 dimensions: 20993800 bytes\n",
      "2018-04-23 13:30:11,203 : INFO : resetting layer weights\n",
      "2018-04-23 13:30:11,306 : INFO : training model with 3 workers on 5674 vocabulary and 400 features, using sg=0 hs=0 sample=0.001 negative=5 window=5\n"
     ]
    },
    {
     "name": "stdout",
     "output_type": "stream",
     "text": [
      "CRDataset 400\n"
     ]
    },
    {
     "name": "stderr",
     "output_type": "stream",
     "text": [
      "2018-04-23 13:30:11,620 : INFO : worker thread finished; awaiting finish of 2 more threads\n",
      "2018-04-23 13:30:11,637 : INFO : worker thread finished; awaiting finish of 1 more threads\n",
      "2018-04-23 13:30:11,640 : INFO : worker thread finished; awaiting finish of 0 more threads\n",
      "2018-04-23 13:30:11,640 : INFO : training on 379660 raw words (263786 effective words) took 0.3s, 810538 effective words/s\n",
      "2018-04-23 13:30:11,643 : INFO : saving Word2Vec object under word2vec/CRDataset_400.model, separately None\n",
      "2018-04-23 13:30:11,644 : INFO : not storing attribute syn0norm\n",
      "2018-04-23 13:30:11,645 : INFO : not storing attribute cum_table\n",
      "2018-04-23 13:30:11,886 : INFO : saved word2vec/CRDataset_400.model\n",
      "2018-04-23 13:30:11,886 : INFO : collecting all words and their counts\n",
      "2018-04-23 13:30:11,887 : INFO : PROGRESS: at sentence #0, processed 0 words, keeping 0 word types\n",
      "2018-04-23 13:30:11,925 : INFO : PROGRESS: at sentence #10000, processed 215795 words, keeping 19571 word types\n",
      "2018-04-23 13:30:11,929 : INFO : collected 20325 word types from a corpus of 230162 raw words and 10662 sentences\n",
      "2018-04-23 13:30:11,929 : INFO : Loading a fresh vocabulary\n",
      "2018-04-23 13:30:11,971 : INFO : min_count=1 retains 20325 unique words (100% of original 20325, drops 0)\n",
      "2018-04-23 13:30:11,971 : INFO : min_count=1 leaves 230162 word corpus (100% of original 230162, drops 0)\n",
      "2018-04-23 13:30:12,054 : INFO : deleting the raw counts dictionary of 20325 items\n",
      "2018-04-23 13:30:12,056 : INFO : sample=0.001 downsamples 41 most-common words\n",
      "2018-04-23 13:30:12,058 : INFO : downsampling leaves estimated 164497 word corpus (71.5% of prior 230162)\n",
      "2018-04-23 13:30:12,060 : INFO : estimated required memory for 20325 words and 200 dimensions: 42682500 bytes\n"
     ]
    },
    {
     "name": "stdout",
     "output_type": "stream",
     "text": [
      "MRDataset 200\n"
     ]
    },
    {
     "name": "stderr",
     "output_type": "stream",
     "text": [
      "2018-04-23 13:30:12,136 : INFO : resetting layer weights\n",
      "2018-04-23 13:30:12,415 : INFO : training model with 3 workers on 20325 vocabulary and 200 features, using sg=0 hs=0 sample=0.001 negative=5 window=5\n",
      "2018-04-23 13:30:13,429 : INFO : PROGRESS: at 71.13% examples, 579838 words/s, in_qsize 5, out_qsize 0\n",
      "2018-04-23 13:30:13,967 : INFO : worker thread finished; awaiting finish of 2 more threads\n",
      "2018-04-23 13:30:13,970 : INFO : worker thread finished; awaiting finish of 1 more threads\n",
      "2018-04-23 13:30:13,976 : INFO : worker thread finished; awaiting finish of 0 more threads\n",
      "2018-04-23 13:30:13,979 : INFO : training on 1150810 raw words (822685 effective words) took 1.6s, 527621 effective words/s\n",
      "2018-04-23 13:30:13,985 : INFO : saving Word2Vec object under word2vec/MRDataset_200.model, separately None\n",
      "2018-04-23 13:30:13,989 : INFO : not storing attribute syn0norm\n",
      "2018-04-23 13:30:13,992 : INFO : not storing attribute cum_table\n",
      "2018-04-23 13:30:14,550 : INFO : saved word2vec/MRDataset_200.model\n",
      "2018-04-23 13:30:14,567 : INFO : collecting all words and their counts\n",
      "2018-04-23 13:30:14,570 : INFO : PROGRESS: at sentence #0, processed 0 words, keeping 0 word types\n",
      "2018-04-23 13:30:14,627 : INFO : PROGRESS: at sentence #10000, processed 215795 words, keeping 19571 word types\n",
      "2018-04-23 13:30:14,641 : INFO : collected 20325 word types from a corpus of 230162 raw words and 10662 sentences\n",
      "2018-04-23 13:30:14,644 : INFO : Loading a fresh vocabulary\n"
     ]
    },
    {
     "name": "stdout",
     "output_type": "stream",
     "text": [
      "MRDataset 300\n"
     ]
    },
    {
     "name": "stderr",
     "output_type": "stream",
     "text": [
      "2018-04-23 13:30:14,798 : INFO : min_count=1 retains 20325 unique words (100% of original 20325, drops 0)\n",
      "2018-04-23 13:30:14,799 : INFO : min_count=1 leaves 230162 word corpus (100% of original 230162, drops 0)\n",
      "2018-04-23 13:30:14,855 : INFO : deleting the raw counts dictionary of 20325 items\n",
      "2018-04-23 13:30:14,856 : INFO : sample=0.001 downsamples 41 most-common words\n",
      "2018-04-23 13:30:14,856 : INFO : downsampling leaves estimated 164497 word corpus (71.5% of prior 230162)\n",
      "2018-04-23 13:30:14,856 : INFO : estimated required memory for 20325 words and 300 dimensions: 58942500 bytes\n",
      "2018-04-23 13:30:14,914 : INFO : resetting layer weights\n",
      "2018-04-23 13:30:15,147 : INFO : training model with 3 workers on 20325 vocabulary and 300 features, using sg=0 hs=0 sample=0.001 negative=5 window=5\n",
      "2018-04-23 13:30:16,168 : INFO : PROGRESS: at 94.58% examples, 768408 words/s, in_qsize 5, out_qsize 0\n",
      "2018-04-23 13:30:16,204 : INFO : worker thread finished; awaiting finish of 2 more threads\n",
      "2018-04-23 13:30:16,207 : INFO : worker thread finished; awaiting finish of 1 more threads\n",
      "2018-04-23 13:30:16,216 : INFO : worker thread finished; awaiting finish of 0 more threads\n",
      "2018-04-23 13:30:16,217 : INFO : training on 1150810 raw words (822606 effective words) took 1.1s, 775649 effective words/s\n",
      "2018-04-23 13:30:16,224 : INFO : saving Word2Vec object under word2vec/MRDataset_300.model, separately None\n",
      "2018-04-23 13:30:16,224 : INFO : not storing attribute syn0norm\n",
      "2018-04-23 13:30:16,225 : INFO : not storing attribute cum_table\n",
      "2018-04-23 13:30:16,900 : INFO : saved word2vec/MRDataset_300.model\n",
      "2018-04-23 13:30:16,901 : INFO : collecting all words and their counts\n",
      "2018-04-23 13:30:16,901 : INFO : PROGRESS: at sentence #0, processed 0 words, keeping 0 word types\n",
      "2018-04-23 13:30:16,942 : INFO : PROGRESS: at sentence #10000, processed 215795 words, keeping 19571 word types\n",
      "2018-04-23 13:30:16,946 : INFO : collected 20325 word types from a corpus of 230162 raw words and 10662 sentences\n",
      "2018-04-23 13:30:16,946 : INFO : Loading a fresh vocabulary\n",
      "2018-04-23 13:30:16,997 : INFO : min_count=1 retains 20325 unique words (100% of original 20325, drops 0)\n",
      "2018-04-23 13:30:16,998 : INFO : min_count=1 leaves 230162 word corpus (100% of original 230162, drops 0)\n",
      "2018-04-23 13:30:17,057 : INFO : deleting the raw counts dictionary of 20325 items\n",
      "2018-04-23 13:30:17,057 : INFO : sample=0.001 downsamples 41 most-common words\n",
      "2018-04-23 13:30:17,058 : INFO : downsampling leaves estimated 164497 word corpus (71.5% of prior 230162)\n",
      "2018-04-23 13:30:17,058 : INFO : estimated required memory for 20325 words and 400 dimensions: 75202500 bytes\n"
     ]
    },
    {
     "name": "stdout",
     "output_type": "stream",
     "text": [
      "MRDataset 400\n"
     ]
    },
    {
     "name": "stderr",
     "output_type": "stream",
     "text": [
      "2018-04-23 13:30:17,122 : INFO : resetting layer weights\n",
      "2018-04-23 13:30:17,530 : INFO : training model with 3 workers on 20325 vocabulary and 400 features, using sg=0 hs=0 sample=0.001 negative=5 window=5\n",
      "2018-04-23 13:30:18,581 : INFO : PROGRESS: at 42.55% examples, 345675 words/s, in_qsize 5, out_qsize 0\n",
      "2018-04-23 13:30:19,613 : INFO : PROGRESS: at 89.37% examples, 359531 words/s, in_qsize 5, out_qsize 0\n",
      "2018-04-23 13:30:19,761 : INFO : worker thread finished; awaiting finish of 2 more threads\n",
      "2018-04-23 13:30:19,775 : INFO : worker thread finished; awaiting finish of 1 more threads\n",
      "2018-04-23 13:30:19,778 : INFO : worker thread finished; awaiting finish of 0 more threads\n",
      "2018-04-23 13:30:19,785 : INFO : training on 1150810 raw words (822454 effective words) took 2.2s, 371397 effective words/s\n",
      "2018-04-23 13:30:19,798 : INFO : saving Word2Vec object under word2vec/MRDataset_400.model, separately None\n",
      "2018-04-23 13:30:19,802 : INFO : not storing attribute syn0norm\n",
      "2018-04-23 13:30:19,808 : INFO : not storing attribute cum_table\n",
      "2018-04-23 13:30:20,690 : INFO : saved word2vec/MRDataset_400.model\n",
      "2018-04-23 13:30:20,690 : INFO : collecting all words and their counts\n",
      "2018-04-23 13:30:20,691 : INFO : PROGRESS: at sentence #0, processed 0 words, keeping 0 word types\n",
      "2018-04-23 13:30:20,746 : INFO : collected 22636 word types from a corpus of 246015 raw words and 10000 sentences\n",
      "2018-04-23 13:30:20,747 : INFO : Loading a fresh vocabulary\n",
      "2018-04-23 13:30:20,796 : INFO : min_count=1 retains 22636 unique words (100% of original 22636, drops 0)\n",
      "2018-04-23 13:30:20,796 : INFO : min_count=1 leaves 246015 word corpus (100% of original 246015, drops 0)\n",
      "2018-04-23 13:30:20,854 : INFO : deleting the raw counts dictionary of 22636 items\n",
      "2018-04-23 13:30:20,855 : INFO : sample=0.001 downsamples 41 most-common words\n",
      "2018-04-23 13:30:20,856 : INFO : downsampling leaves estimated 178124 word corpus (72.4% of prior 246015)\n",
      "2018-04-23 13:30:20,856 : INFO : estimated required memory for 22636 words and 200 dimensions: 47535600 bytes\n"
     ]
    },
    {
     "name": "stdout",
     "output_type": "stream",
     "text": [
      "SUBJDataset 200\n"
     ]
    },
    {
     "name": "stderr",
     "output_type": "stream",
     "text": [
      "2018-04-23 13:30:20,925 : INFO : resetting layer weights\n",
      "2018-04-23 13:30:21,175 : INFO : training model with 3 workers on 22636 vocabulary and 200 features, using sg=0 hs=0 sample=0.001 negative=5 window=5\n",
      "2018-04-23 13:30:22,185 : INFO : PROGRESS: at 88.94% examples, 795693 words/s, in_qsize 5, out_qsize 0\n",
      "2018-04-23 13:30:22,306 : INFO : worker thread finished; awaiting finish of 2 more threads\n",
      "2018-04-23 13:30:22,313 : INFO : worker thread finished; awaiting finish of 1 more threads\n",
      "2018-04-23 13:30:22,322 : INFO : worker thread finished; awaiting finish of 0 more threads\n",
      "2018-04-23 13:30:22,325 : INFO : training on 1230075 raw words (891267 effective words) took 1.1s, 781764 effective words/s\n",
      "2018-04-23 13:30:22,343 : INFO : saving Word2Vec object under word2vec/SUBJDataset_200.model, separately None\n",
      "2018-04-23 13:30:22,347 : INFO : not storing attribute syn0norm\n",
      "2018-04-23 13:30:22,350 : INFO : not storing attribute cum_table\n",
      "2018-04-23 13:30:23,025 : INFO : saved word2vec/SUBJDataset_200.model\n",
      "2018-04-23 13:30:23,041 : INFO : collecting all words and their counts\n",
      "2018-04-23 13:30:23,044 : INFO : PROGRESS: at sentence #0, processed 0 words, keeping 0 word types\n",
      "2018-04-23 13:30:23,120 : INFO : collected 22636 word types from a corpus of 246015 raw words and 10000 sentences\n",
      "2018-04-23 13:30:23,123 : INFO : Loading a fresh vocabulary\n"
     ]
    },
    {
     "name": "stdout",
     "output_type": "stream",
     "text": [
      "SUBJDataset 300\n"
     ]
    },
    {
     "name": "stderr",
     "output_type": "stream",
     "text": [
      "2018-04-23 13:30:23,312 : INFO : min_count=1 retains 22636 unique words (100% of original 22636, drops 0)\n",
      "2018-04-23 13:30:23,325 : INFO : min_count=1 leaves 246015 word corpus (100% of original 246015, drops 0)\n",
      "2018-04-23 13:30:23,421 : INFO : deleting the raw counts dictionary of 22636 items\n",
      "2018-04-23 13:30:23,422 : INFO : sample=0.001 downsamples 41 most-common words\n",
      "2018-04-23 13:30:23,423 : INFO : downsampling leaves estimated 178124 word corpus (72.4% of prior 246015)\n",
      "2018-04-23 13:30:23,424 : INFO : estimated required memory for 22636 words and 300 dimensions: 65644400 bytes\n",
      "2018-04-23 13:30:23,526 : INFO : resetting layer weights\n",
      "2018-04-23 13:30:23,954 : INFO : training model with 3 workers on 22636 vocabulary and 300 features, using sg=0 hs=0 sample=0.001 negative=5 window=5\n",
      "2018-04-23 13:30:25,018 : INFO : PROGRESS: at 72.72% examples, 644755 words/s, in_qsize 5, out_qsize 0\n",
      "2018-04-23 13:30:25,308 : INFO : worker thread finished; awaiting finish of 2 more threads\n",
      "2018-04-23 13:30:25,317 : INFO : worker thread finished; awaiting finish of 1 more threads\n",
      "2018-04-23 13:30:25,324 : INFO : worker thread finished; awaiting finish of 0 more threads\n",
      "2018-04-23 13:30:25,325 : INFO : training on 1230075 raw words (890862 effective words) took 1.3s, 676392 effective words/s\n",
      "2018-04-23 13:30:25,333 : INFO : saving Word2Vec object under word2vec/SUBJDataset_300.model, separately None\n",
      "2018-04-23 13:30:25,334 : INFO : not storing attribute syn0norm\n",
      "2018-04-23 13:30:25,335 : INFO : not storing attribute cum_table\n",
      "2018-04-23 13:30:26,264 : INFO : saved word2vec/SUBJDataset_300.model\n",
      "2018-04-23 13:30:26,265 : INFO : collecting all words and their counts\n",
      "2018-04-23 13:30:26,265 : INFO : PROGRESS: at sentence #0, processed 0 words, keeping 0 word types\n",
      "2018-04-23 13:30:26,311 : INFO : collected 22636 word types from a corpus of 246015 raw words and 10000 sentences\n",
      "2018-04-23 13:30:26,312 : INFO : Loading a fresh vocabulary\n",
      "2018-04-23 13:30:26,362 : INFO : min_count=1 retains 22636 unique words (100% of original 22636, drops 0)\n",
      "2018-04-23 13:30:26,363 : INFO : min_count=1 leaves 246015 word corpus (100% of original 246015, drops 0)\n",
      "2018-04-23 13:30:26,420 : INFO : deleting the raw counts dictionary of 22636 items\n",
      "2018-04-23 13:30:26,421 : INFO : sample=0.001 downsamples 41 most-common words\n",
      "2018-04-23 13:30:26,421 : INFO : downsampling leaves estimated 178124 word corpus (72.4% of prior 246015)\n",
      "2018-04-23 13:30:26,422 : INFO : estimated required memory for 22636 words and 400 dimensions: 83753200 bytes\n"
     ]
    },
    {
     "name": "stdout",
     "output_type": "stream",
     "text": [
      "SUBJDataset 400\n"
     ]
    },
    {
     "name": "stderr",
     "output_type": "stream",
     "text": [
      "2018-04-23 13:30:26,516 : INFO : resetting layer weights\n",
      "2018-04-23 13:30:26,976 : INFO : training model with 3 workers on 22636 vocabulary and 400 features, using sg=0 hs=0 sample=0.001 negative=5 window=5\n",
      "2018-04-23 13:30:28,015 : INFO : PROGRESS: at 35.48% examples, 309438 words/s, in_qsize 5, out_qsize 0\n",
      "2018-04-23 13:30:29,024 : INFO : PROGRESS: at 74.40% examples, 326460 words/s, in_qsize 5, out_qsize 0\n",
      "2018-04-23 13:30:29,321 : INFO : worker thread finished; awaiting finish of 2 more threads\n",
      "2018-04-23 13:30:29,332 : INFO : worker thread finished; awaiting finish of 1 more threads\n",
      "2018-04-23 13:30:29,337 : INFO : worker thread finished; awaiting finish of 0 more threads\n",
      "2018-04-23 13:30:29,338 : INFO : training on 1230075 raw words (890850 effective words) took 2.4s, 378722 effective words/s\n",
      "2018-04-23 13:30:29,345 : INFO : saving Word2Vec object under word2vec/SUBJDataset_400.model, separately None\n",
      "2018-04-23 13:30:29,346 : INFO : not storing attribute syn0norm\n",
      "2018-04-23 13:30:29,347 : INFO : not storing attribute cum_table\n",
      "2018-04-23 13:30:30,437 : INFO : saved word2vec/SUBJDataset_400.model\n",
      "2018-04-23 13:30:30,437 : INFO : collecting all words and their counts\n",
      "2018-04-23 13:30:30,438 : INFO : PROGRESS: at sentence #0, processed 0 words, keeping 0 word types\n",
      "2018-04-23 13:30:30,447 : INFO : PROGRESS: at sentence #10000, processed 31301 words, keeping 6073 word types\n",
      "2018-04-23 13:30:30,449 : INFO : collected 6238 word types from a corpus of 32779 raw words and 10606 sentences\n",
      "2018-04-23 13:30:30,450 : INFO : Loading a fresh vocabulary\n",
      "2018-04-23 13:30:30,472 : INFO : min_count=1 retains 6238 unique words (100% of original 6238, drops 0)\n",
      "2018-04-23 13:30:30,473 : INFO : min_count=1 leaves 32779 word corpus (100% of original 32779, drops 0)\n",
      "2018-04-23 13:30:30,491 : INFO : deleting the raw counts dictionary of 6238 items\n",
      "2018-04-23 13:30:30,491 : INFO : sample=0.001 downsamples 40 most-common words\n",
      "2018-04-23 13:30:30,492 : INFO : downsampling leaves estimated 27094 word corpus (82.7% of prior 32779)\n",
      "2018-04-23 13:30:30,493 : INFO : estimated required memory for 6238 words and 200 dimensions: 13099800 bytes\n",
      "2018-04-23 13:30:30,514 : INFO : resetting layer weights\n",
      "2018-04-23 13:30:30,615 : INFO : training model with 3 workers on 6238 vocabulary and 200 features, using sg=0 hs=0 sample=0.001 negative=5 window=5\n"
     ]
    },
    {
     "name": "stdout",
     "output_type": "stream",
     "text": [
      "MPQADataset 200\n"
     ]
    },
    {
     "name": "stderr",
     "output_type": "stream",
     "text": [
      "2018-04-23 13:30:30,853 : INFO : worker thread finished; awaiting finish of 2 more threads\n",
      "2018-04-23 13:30:30,856 : INFO : worker thread finished; awaiting finish of 1 more threads\n",
      "2018-04-23 13:30:30,868 : INFO : worker thread finished; awaiting finish of 0 more threads\n",
      "2018-04-23 13:30:30,871 : INFO : training on 163895 raw words (135474 effective words) took 0.2s, 565319 effective words/s\n",
      "2018-04-23 13:30:30,873 : WARNING : under 10 jobs per worker: consider setting a smaller `batch_words' for smoother alpha decay\n",
      "2018-04-23 13:30:30,890 : INFO : saving Word2Vec object under word2vec/MPQADataset_200.model, separately None\n",
      "2018-04-23 13:30:30,891 : INFO : not storing attribute syn0norm\n",
      "2018-04-23 13:30:30,892 : INFO : not storing attribute cum_table\n",
      "2018-04-23 13:30:31,650 : INFO : saved word2vec/MPQADataset_200.model\n",
      "2018-04-23 13:30:31,669 : INFO : collecting all words and their counts\n",
      "2018-04-23 13:30:31,672 : INFO : PROGRESS: at sentence #0, processed 0 words, keeping 0 word types\n",
      "2018-04-23 13:30:31,699 : INFO : PROGRESS: at sentence #10000, processed 31301 words, keeping 6073 word types\n",
      "2018-04-23 13:30:31,703 : INFO : collected 6238 word types from a corpus of 32779 raw words and 10606 sentences\n",
      "2018-04-23 13:30:31,706 : INFO : Loading a fresh vocabulary\n",
      "2018-04-23 13:30:31,730 : INFO : min_count=1 retains 6238 unique words (100% of original 6238, drops 0)\n",
      "2018-04-23 13:30:31,733 : INFO : min_count=1 leaves 32779 word corpus (100% of original 32779, drops 0)\n",
      "2018-04-23 13:30:31,765 : INFO : deleting the raw counts dictionary of 6238 items\n",
      "2018-04-23 13:30:31,768 : INFO : sample=0.001 downsamples 40 most-common words\n",
      "2018-04-23 13:30:31,771 : INFO : downsampling leaves estimated 27094 word corpus (82.7% of prior 32779)\n",
      "2018-04-23 13:30:31,773 : INFO : estimated required memory for 6238 words and 300 dimensions: 18090200 bytes\n",
      "2018-04-23 13:30:31,800 : INFO : resetting layer weights\n"
     ]
    },
    {
     "name": "stdout",
     "output_type": "stream",
     "text": [
      "MPQADataset 300\n"
     ]
    },
    {
     "name": "stderr",
     "output_type": "stream",
     "text": [
      "2018-04-23 13:30:31,933 : INFO : training model with 3 workers on 6238 vocabulary and 300 features, using sg=0 hs=0 sample=0.001 negative=5 window=5\n",
      "2018-04-23 13:30:32,269 : INFO : worker thread finished; awaiting finish of 2 more threads\n",
      "2018-04-23 13:30:32,292 : INFO : worker thread finished; awaiting finish of 1 more threads\n",
      "2018-04-23 13:30:32,315 : INFO : worker thread finished; awaiting finish of 0 more threads\n",
      "2018-04-23 13:30:32,318 : INFO : training on 163895 raw words (135343 effective words) took 0.4s, 363031 effective words/s\n",
      "2018-04-23 13:30:32,320 : WARNING : under 10 jobs per worker: consider setting a smaller `batch_words' for smoother alpha decay\n",
      "2018-04-23 13:30:32,324 : INFO : saving Word2Vec object under word2vec/MPQADataset_300.model, separately None\n",
      "2018-04-23 13:30:32,327 : INFO : not storing attribute syn0norm\n",
      "2018-04-23 13:30:32,330 : INFO : not storing attribute cum_table\n",
      "2018-04-23 13:30:33,160 : INFO : saved word2vec/MPQADataset_300.model\n",
      "2018-04-23 13:30:33,161 : INFO : collecting all words and their counts\n",
      "2018-04-23 13:30:33,162 : INFO : PROGRESS: at sentence #0, processed 0 words, keeping 0 word types\n",
      "2018-04-23 13:30:33,170 : INFO : PROGRESS: at sentence #10000, processed 31301 words, keeping 6073 word types\n",
      "2018-04-23 13:30:33,171 : INFO : collected 6238 word types from a corpus of 32779 raw words and 10606 sentences\n",
      "2018-04-23 13:30:33,172 : INFO : Loading a fresh vocabulary\n",
      "2018-04-23 13:30:33,184 : INFO : min_count=1 retains 6238 unique words (100% of original 6238, drops 0)\n",
      "2018-04-23 13:30:33,185 : INFO : min_count=1 leaves 32779 word corpus (100% of original 32779, drops 0)\n",
      "2018-04-23 13:30:33,202 : INFO : deleting the raw counts dictionary of 6238 items\n",
      "2018-04-23 13:30:33,202 : INFO : sample=0.001 downsamples 40 most-common words\n",
      "2018-04-23 13:30:33,203 : INFO : downsampling leaves estimated 27094 word corpus (82.7% of prior 32779)\n",
      "2018-04-23 13:30:33,204 : INFO : estimated required memory for 6238 words and 400 dimensions: 23080600 bytes\n",
      "2018-04-23 13:30:33,223 : INFO : resetting layer weights\n",
      "2018-04-23 13:30:33,310 : INFO : training model with 3 workers on 6238 vocabulary and 400 features, using sg=0 hs=0 sample=0.001 negative=5 window=5\n"
     ]
    },
    {
     "name": "stdout",
     "output_type": "stream",
     "text": [
      "MPQADataset 400\n"
     ]
    },
    {
     "name": "stderr",
     "output_type": "stream",
     "text": [
      "2018-04-23 13:30:33,519 : INFO : worker thread finished; awaiting finish of 2 more threads\n",
      "2018-04-23 13:30:33,522 : INFO : worker thread finished; awaiting finish of 1 more threads\n",
      "2018-04-23 13:30:33,531 : INFO : worker thread finished; awaiting finish of 0 more threads\n",
      "2018-04-23 13:30:33,531 : INFO : training on 163895 raw words (135476 effective words) took 0.2s, 660467 effective words/s\n",
      "2018-04-23 13:30:33,532 : WARNING : under 10 jobs per worker: consider setting a smaller `batch_words' for smoother alpha decay\n",
      "2018-04-23 13:30:33,534 : INFO : saving Word2Vec object under word2vec/MPQADataset_400.model, separately None\n",
      "2018-04-23 13:30:33,535 : INFO : not storing attribute syn0norm\n",
      "2018-04-23 13:30:33,535 : INFO : not storing attribute cum_table\n",
      "2018-04-23 13:30:33,838 : INFO : saved word2vec/MPQADataset_400.model\n",
      "2018-04-23 13:30:33,839 : INFO : collecting all words and their counts\n",
      "2018-04-23 13:30:33,839 : INFO : PROGRESS: at sentence #0, processed 0 words, keeping 0 word types\n",
      "2018-04-23 13:30:33,851 : INFO : collected 8968 word types from a corpus of 58468 raw words and 5952 sentences\n",
      "2018-04-23 13:30:33,852 : INFO : Loading a fresh vocabulary\n",
      "2018-04-23 13:30:33,931 : INFO : min_count=1 retains 8968 unique words (100% of original 8968, drops 0)\n",
      "2018-04-23 13:30:33,931 : INFO : min_count=1 leaves 58468 word corpus (100% of original 58468, drops 0)\n",
      "2018-04-23 13:30:33,956 : INFO : deleting the raw counts dictionary of 8968 items\n",
      "2018-04-23 13:30:33,957 : INFO : sample=0.001 downsamples 31 most-common words\n",
      "2018-04-23 13:30:33,958 : INFO : downsampling leaves estimated 37315 word corpus (63.8% of prior 58468)\n",
      "2018-04-23 13:30:33,958 : INFO : estimated required memory for 8968 words and 200 dimensions: 18832800 bytes\n",
      "2018-04-23 13:30:33,981 : INFO : resetting layer weights\n"
     ]
    },
    {
     "name": "stdout",
     "output_type": "stream",
     "text": [
      "TRECDataset-NUM 200\n"
     ]
    },
    {
     "name": "stderr",
     "output_type": "stream",
     "text": [
      "2018-04-23 13:30:34,094 : INFO : training model with 3 workers on 8968 vocabulary and 200 features, using sg=0 hs=0 sample=0.001 negative=5 window=5\n",
      "2018-04-23 13:30:34,308 : INFO : worker thread finished; awaiting finish of 2 more threads\n",
      "2018-04-23 13:30:34,313 : INFO : worker thread finished; awaiting finish of 1 more threads\n",
      "2018-04-23 13:30:34,318 : INFO : worker thread finished; awaiting finish of 0 more threads\n",
      "2018-04-23 13:30:34,318 : INFO : training on 292340 raw words (186581 effective words) took 0.2s, 860522 effective words/s\n",
      "2018-04-23 13:30:34,321 : INFO : saving Word2Vec object under word2vec/TRECDataset-NUM_200.model, separately None\n",
      "2018-04-23 13:30:34,322 : INFO : not storing attribute syn0norm\n",
      "2018-04-23 13:30:34,323 : INFO : not storing attribute cum_table\n",
      "2018-04-23 13:30:35,131 : INFO : saved word2vec/TRECDataset-NUM_200.model\n",
      "2018-04-23 13:30:35,132 : INFO : collecting all words and their counts\n",
      "2018-04-23 13:30:35,133 : INFO : PROGRESS: at sentence #0, processed 0 words, keeping 0 word types\n",
      "2018-04-23 13:30:35,143 : INFO : collected 8968 word types from a corpus of 58468 raw words and 5952 sentences\n",
      "2018-04-23 13:30:35,144 : INFO : Loading a fresh vocabulary\n",
      "2018-04-23 13:30:35,161 : INFO : min_count=1 retains 8968 unique words (100% of original 8968, drops 0)\n",
      "2018-04-23 13:30:35,161 : INFO : min_count=1 leaves 58468 word corpus (100% of original 58468, drops 0)\n",
      "2018-04-23 13:30:35,187 : INFO : deleting the raw counts dictionary of 8968 items\n",
      "2018-04-23 13:30:35,188 : INFO : sample=0.001 downsamples 31 most-common words\n",
      "2018-04-23 13:30:35,189 : INFO : downsampling leaves estimated 37315 word corpus (63.8% of prior 58468)\n",
      "2018-04-23 13:30:35,189 : INFO : estimated required memory for 8968 words and 300 dimensions: 26007200 bytes\n",
      "2018-04-23 13:30:35,219 : INFO : resetting layer weights\n"
     ]
    },
    {
     "name": "stdout",
     "output_type": "stream",
     "text": [
      "TRECDataset-NUM 300\n"
     ]
    },
    {
     "name": "stderr",
     "output_type": "stream",
     "text": [
      "2018-04-23 13:30:35,420 : INFO : training model with 3 workers on 8968 vocabulary and 300 features, using sg=0 hs=0 sample=0.001 negative=5 window=5\n",
      "2018-04-23 13:30:35,963 : INFO : worker thread finished; awaiting finish of 2 more threads\n",
      "2018-04-23 13:30:35,967 : INFO : worker thread finished; awaiting finish of 1 more threads\n",
      "2018-04-23 13:30:35,977 : INFO : worker thread finished; awaiting finish of 0 more threads\n",
      "2018-04-23 13:30:35,978 : INFO : training on 292340 raw words (186450 effective words) took 0.5s, 342359 effective words/s\n",
      "2018-04-23 13:30:35,984 : INFO : saving Word2Vec object under word2vec/TRECDataset-NUM_300.model, separately None\n",
      "2018-04-23 13:30:35,987 : INFO : not storing attribute syn0norm\n",
      "2018-04-23 13:30:35,990 : INFO : not storing attribute cum_table\n",
      "2018-04-23 13:30:36,509 : INFO : saved word2vec/TRECDataset-NUM_300.model\n",
      "2018-04-23 13:30:36,525 : INFO : collecting all words and their counts\n",
      "2018-04-23 13:30:36,529 : INFO : PROGRESS: at sentence #0, processed 0 words, keeping 0 word types\n",
      "2018-04-23 13:30:36,564 : INFO : collected 8968 word types from a corpus of 58468 raw words and 5952 sentences\n",
      "2018-04-23 13:30:36,569 : INFO : Loading a fresh vocabulary\n",
      "2018-04-23 13:30:36,604 : INFO : min_count=1 retains 8968 unique words (100% of original 8968, drops 0)\n",
      "2018-04-23 13:30:36,608 : INFO : min_count=1 leaves 58468 word corpus (100% of original 58468, drops 0)\n",
      "2018-04-23 13:30:36,659 : INFO : deleting the raw counts dictionary of 8968 items\n",
      "2018-04-23 13:30:36,663 : INFO : sample=0.001 downsamples 31 most-common words\n",
      "2018-04-23 13:30:36,667 : INFO : downsampling leaves estimated 37315 word corpus (63.8% of prior 58468)\n",
      "2018-04-23 13:30:36,670 : INFO : estimated required memory for 8968 words and 400 dimensions: 33181600 bytes\n",
      "2018-04-23 13:30:36,709 : INFO : resetting layer weights\n"
     ]
    },
    {
     "name": "stdout",
     "output_type": "stream",
     "text": [
      "TRECDataset-NUM 400\n"
     ]
    },
    {
     "name": "stderr",
     "output_type": "stream",
     "text": [
      "2018-04-23 13:30:36,902 : INFO : training model with 3 workers on 8968 vocabulary and 400 features, using sg=0 hs=0 sample=0.001 negative=5 window=5\n",
      "2018-04-23 13:30:37,263 : INFO : worker thread finished; awaiting finish of 2 more threads\n",
      "2018-04-23 13:30:37,267 : INFO : worker thread finished; awaiting finish of 1 more threads\n",
      "2018-04-23 13:30:37,278 : INFO : worker thread finished; awaiting finish of 0 more threads\n",
      "2018-04-23 13:30:37,279 : INFO : training on 292340 raw words (186537 effective words) took 0.4s, 512350 effective words/s\n",
      "2018-04-23 13:30:37,283 : INFO : saving Word2Vec object under word2vec/TRECDataset-NUM_400.model, separately None\n",
      "2018-04-23 13:30:37,283 : INFO : not storing attribute syn0norm\n",
      "2018-04-23 13:30:37,284 : INFO : not storing attribute cum_table\n",
      "2018-04-23 13:30:37,648 : INFO : saved word2vec/TRECDataset-NUM_400.model\n",
      "2018-04-23 13:30:37,649 : INFO : collecting all words and their counts\n",
      "2018-04-23 13:30:37,650 : INFO : PROGRESS: at sentence #0, processed 0 words, keeping 0 word types\n",
      "2018-04-23 13:30:37,664 : INFO : collected 8968 word types from a corpus of 58468 raw words and 5952 sentences\n",
      "2018-04-23 13:30:37,664 : INFO : Loading a fresh vocabulary\n",
      "2018-04-23 13:30:37,694 : INFO : min_count=1 retains 8968 unique words (100% of original 8968, drops 0)\n",
      "2018-04-23 13:30:37,696 : INFO : min_count=1 leaves 58468 word corpus (100% of original 58468, drops 0)\n",
      "2018-04-23 13:30:37,727 : INFO : deleting the raw counts dictionary of 8968 items\n",
      "2018-04-23 13:30:37,728 : INFO : sample=0.001 downsamples 31 most-common words\n",
      "2018-04-23 13:30:37,729 : INFO : downsampling leaves estimated 37315 word corpus (63.8% of prior 58468)\n",
      "2018-04-23 13:30:37,729 : INFO : estimated required memory for 8968 words and 200 dimensions: 18832800 bytes\n",
      "2018-04-23 13:30:37,760 : INFO : resetting layer weights\n"
     ]
    },
    {
     "name": "stdout",
     "output_type": "stream",
     "text": [
      "TRECDataset-ABBR 200\n"
     ]
    },
    {
     "name": "stderr",
     "output_type": "stream",
     "text": [
      "2018-04-23 13:30:37,870 : INFO : training model with 3 workers on 8968 vocabulary and 200 features, using sg=0 hs=0 sample=0.001 negative=5 window=5\n",
      "2018-04-23 13:30:38,080 : INFO : worker thread finished; awaiting finish of 2 more threads\n",
      "2018-04-23 13:30:38,081 : INFO : worker thread finished; awaiting finish of 1 more threads\n",
      "2018-04-23 13:30:38,088 : INFO : worker thread finished; awaiting finish of 0 more threads\n",
      "2018-04-23 13:30:38,088 : INFO : training on 292340 raw words (186688 effective words) took 0.2s, 881805 effective words/s\n",
      "2018-04-23 13:30:38,093 : INFO : saving Word2Vec object under word2vec/TRECDataset-ABBR_200.model, separately None\n",
      "2018-04-23 13:30:38,094 : INFO : not storing attribute syn0norm\n",
      "2018-04-23 13:30:38,095 : INFO : not storing attribute cum_table\n",
      "2018-04-23 13:30:38,311 : INFO : saved word2vec/TRECDataset-ABBR_200.model\n",
      "2018-04-23 13:30:38,312 : INFO : collecting all words and their counts\n",
      "2018-04-23 13:30:38,312 : INFO : PROGRESS: at sentence #0, processed 0 words, keeping 0 word types\n",
      "2018-04-23 13:30:38,323 : INFO : collected 8968 word types from a corpus of 58468 raw words and 5952 sentences\n",
      "2018-04-23 13:30:38,324 : INFO : Loading a fresh vocabulary\n",
      "2018-04-23 13:30:38,344 : INFO : min_count=1 retains 8968 unique words (100% of original 8968, drops 0)\n",
      "2018-04-23 13:30:38,344 : INFO : min_count=1 leaves 58468 word corpus (100% of original 58468, drops 0)\n",
      "2018-04-23 13:30:38,389 : INFO : deleting the raw counts dictionary of 8968 items\n",
      "2018-04-23 13:30:38,390 : INFO : sample=0.001 downsamples 31 most-common words\n",
      "2018-04-23 13:30:38,390 : INFO : downsampling leaves estimated 37315 word corpus (63.8% of prior 58468)\n",
      "2018-04-23 13:30:38,391 : INFO : estimated required memory for 8968 words and 300 dimensions: 26007200 bytes\n",
      "2018-04-23 13:30:38,427 : INFO : resetting layer weights\n"
     ]
    },
    {
     "name": "stdout",
     "output_type": "stream",
     "text": [
      "TRECDataset-ABBR 300\n"
     ]
    },
    {
     "name": "stderr",
     "output_type": "stream",
     "text": [
      "2018-04-23 13:30:38,542 : INFO : training model with 3 workers on 8968 vocabulary and 300 features, using sg=0 hs=0 sample=0.001 negative=5 window=5\n",
      "2018-04-23 13:30:38,888 : INFO : worker thread finished; awaiting finish of 2 more threads\n",
      "2018-04-23 13:30:38,906 : INFO : worker thread finished; awaiting finish of 1 more threads\n",
      "2018-04-23 13:30:38,908 : INFO : worker thread finished; awaiting finish of 0 more threads\n",
      "2018-04-23 13:30:38,909 : INFO : training on 292340 raw words (186458 effective words) took 0.4s, 518242 effective words/s\n",
      "2018-04-23 13:30:38,913 : INFO : saving Word2Vec object under word2vec/TRECDataset-ABBR_300.model, separately None\n",
      "2018-04-23 13:30:38,914 : INFO : not storing attribute syn0norm\n",
      "2018-04-23 13:30:38,914 : INFO : not storing attribute cum_table\n",
      "2018-04-23 13:30:39,510 : INFO : saved word2vec/TRECDataset-ABBR_300.model\n",
      "2018-04-23 13:30:39,514 : INFO : collecting all words and their counts\n",
      "2018-04-23 13:30:39,516 : INFO : PROGRESS: at sentence #0, processed 0 words, keeping 0 word types\n",
      "2018-04-23 13:30:39,537 : INFO : collected 8968 word types from a corpus of 58468 raw words and 5952 sentences\n",
      "2018-04-23 13:30:39,541 : INFO : Loading a fresh vocabulary\n",
      "2018-04-23 13:30:39,575 : INFO : min_count=1 retains 8968 unique words (100% of original 8968, drops 0)\n",
      "2018-04-23 13:30:39,578 : INFO : min_count=1 leaves 58468 word corpus (100% of original 58468, drops 0)\n",
      "2018-04-23 13:30:39,621 : INFO : deleting the raw counts dictionary of 8968 items\n",
      "2018-04-23 13:30:39,624 : INFO : sample=0.001 downsamples 31 most-common words\n",
      "2018-04-23 13:30:39,627 : INFO : downsampling leaves estimated 37315 word corpus (63.8% of prior 58468)\n",
      "2018-04-23 13:30:39,630 : INFO : estimated required memory for 8968 words and 400 dimensions: 33181600 bytes\n",
      "2018-04-23 13:30:39,670 : INFO : resetting layer weights\n"
     ]
    },
    {
     "name": "stdout",
     "output_type": "stream",
     "text": [
      "TRECDataset-ABBR 400\n"
     ]
    },
    {
     "name": "stderr",
     "output_type": "stream",
     "text": [
      "2018-04-23 13:30:39,862 : INFO : training model with 3 workers on 8968 vocabulary and 400 features, using sg=0 hs=0 sample=0.001 negative=5 window=5\n",
      "2018-04-23 13:30:40,279 : INFO : worker thread finished; awaiting finish of 2 more threads\n",
      "2018-04-23 13:30:40,292 : INFO : worker thread finished; awaiting finish of 1 more threads\n",
      "2018-04-23 13:30:40,296 : INFO : worker thread finished; awaiting finish of 0 more threads\n",
      "2018-04-23 13:30:40,297 : INFO : training on 292340 raw words (186459 effective words) took 0.4s, 437840 effective words/s\n",
      "2018-04-23 13:30:40,302 : INFO : saving Word2Vec object under word2vec/TRECDataset-ABBR_400.model, separately None\n",
      "2018-04-23 13:30:40,304 : INFO : not storing attribute syn0norm\n",
      "2018-04-23 13:30:40,305 : INFO : not storing attribute cum_table\n",
      "2018-04-23 13:30:41,287 : INFO : saved word2vec/TRECDataset-ABBR_400.model\n",
      "2018-04-23 13:30:41,301 : INFO : collecting all words and their counts\n",
      "2018-04-23 13:30:41,304 : INFO : PROGRESS: at sentence #0, processed 0 words, keeping 0 word types\n",
      "2018-04-23 13:30:41,338 : INFO : collected 8968 word types from a corpus of 58468 raw words and 5952 sentences\n",
      "2018-04-23 13:30:41,340 : INFO : Loading a fresh vocabulary\n",
      "2018-04-23 13:30:41,454 : INFO : min_count=1 retains 8968 unique words (100% of original 8968, drops 0)\n",
      "2018-04-23 13:30:41,457 : INFO : min_count=1 leaves 58468 word corpus (100% of original 58468, drops 0)\n",
      "2018-04-23 13:30:41,497 : INFO : deleting the raw counts dictionary of 8968 items\n"
     ]
    },
    {
     "name": "stdout",
     "output_type": "stream",
     "text": [
      "TRECDataset-DESC 200\n"
     ]
    },
    {
     "name": "stderr",
     "output_type": "stream",
     "text": [
      "2018-04-23 13:30:41,504 : INFO : sample=0.001 downsamples 31 most-common words\n",
      "2018-04-23 13:30:41,507 : INFO : downsampling leaves estimated 37315 word corpus (63.8% of prior 58468)\n",
      "2018-04-23 13:30:41,510 : INFO : estimated required memory for 8968 words and 200 dimensions: 18832800 bytes\n",
      "2018-04-23 13:30:41,545 : INFO : resetting layer weights\n",
      "2018-04-23 13:30:41,700 : INFO : training model with 3 workers on 8968 vocabulary and 200 features, using sg=0 hs=0 sample=0.001 negative=5 window=5\n",
      "2018-04-23 13:30:41,980 : INFO : worker thread finished; awaiting finish of 2 more threads\n",
      "2018-04-23 13:30:41,984 : INFO : worker thread finished; awaiting finish of 1 more threads\n",
      "2018-04-23 13:30:41,991 : INFO : worker thread finished; awaiting finish of 0 more threads\n",
      "2018-04-23 13:30:41,992 : INFO : training on 292340 raw words (186489 effective words) took 0.3s, 665386 effective words/s\n",
      "2018-04-23 13:30:41,996 : INFO : saving Word2Vec object under word2vec/TRECDataset-DESC_200.model, separately None\n",
      "2018-04-23 13:30:41,997 : INFO : not storing attribute syn0norm\n",
      "2018-04-23 13:30:41,997 : INFO : not storing attribute cum_table\n",
      "2018-04-23 13:30:42,333 : INFO : saved word2vec/TRECDataset-DESC_200.model\n",
      "2018-04-23 13:30:42,334 : INFO : collecting all words and their counts\n",
      "2018-04-23 13:30:42,334 : INFO : PROGRESS: at sentence #0, processed 0 words, keeping 0 word types\n",
      "2018-04-23 13:30:42,346 : INFO : collected 8968 word types from a corpus of 58468 raw words and 5952 sentences\n",
      "2018-04-23 13:30:42,347 : INFO : Loading a fresh vocabulary\n",
      "2018-04-23 13:30:42,365 : INFO : min_count=1 retains 8968 unique words (100% of original 8968, drops 0)\n",
      "2018-04-23 13:30:42,366 : INFO : min_count=1 leaves 58468 word corpus (100% of original 58468, drops 0)\n",
      "2018-04-23 13:30:42,396 : INFO : deleting the raw counts dictionary of 8968 items\n",
      "2018-04-23 13:30:42,396 : INFO : sample=0.001 downsamples 31 most-common words\n",
      "2018-04-23 13:30:42,397 : INFO : downsampling leaves estimated 37315 word corpus (63.8% of prior 58468)\n",
      "2018-04-23 13:30:42,397 : INFO : estimated required memory for 8968 words and 300 dimensions: 26007200 bytes\n",
      "2018-04-23 13:30:42,422 : INFO : resetting layer weights\n",
      "2018-04-23 13:30:42,528 : INFO : training model with 3 workers on 8968 vocabulary and 300 features, using sg=0 hs=0 sample=0.001 negative=5 window=5\n"
     ]
    },
    {
     "name": "stdout",
     "output_type": "stream",
     "text": [
      "TRECDataset-DESC 300\n"
     ]
    },
    {
     "name": "stderr",
     "output_type": "stream",
     "text": [
      "2018-04-23 13:30:42,768 : INFO : worker thread finished; awaiting finish of 2 more threads\n",
      "2018-04-23 13:30:42,770 : INFO : worker thread finished; awaiting finish of 1 more threads\n",
      "2018-04-23 13:30:42,779 : INFO : worker thread finished; awaiting finish of 0 more threads\n",
      "2018-04-23 13:30:42,779 : INFO : training on 292340 raw words (186585 effective words) took 0.2s, 763180 effective words/s\n",
      "2018-04-23 13:30:42,784 : INFO : saving Word2Vec object under word2vec/TRECDataset-DESC_300.model, separately None\n",
      "2018-04-23 13:30:42,785 : INFO : not storing attribute syn0norm\n",
      "2018-04-23 13:30:42,786 : INFO : not storing attribute cum_table\n",
      "2018-04-23 13:30:43,257 : INFO : saved word2vec/TRECDataset-DESC_300.model\n",
      "2018-04-23 13:30:43,258 : INFO : collecting all words and their counts\n",
      "2018-04-23 13:30:43,259 : INFO : PROGRESS: at sentence #0, processed 0 words, keeping 0 word types\n",
      "2018-04-23 13:30:43,271 : INFO : collected 8968 word types from a corpus of 58468 raw words and 5952 sentences\n",
      "2018-04-23 13:30:43,271 : INFO : Loading a fresh vocabulary\n",
      "2018-04-23 13:30:43,295 : INFO : min_count=1 retains 8968 unique words (100% of original 8968, drops 0)\n",
      "2018-04-23 13:30:43,296 : INFO : min_count=1 leaves 58468 word corpus (100% of original 58468, drops 0)\n",
      "2018-04-23 13:30:43,325 : INFO : deleting the raw counts dictionary of 8968 items\n",
      "2018-04-23 13:30:43,326 : INFO : sample=0.001 downsamples 31 most-common words\n",
      "2018-04-23 13:30:43,326 : INFO : downsampling leaves estimated 37315 word corpus (63.8% of prior 58468)\n",
      "2018-04-23 13:30:43,326 : INFO : estimated required memory for 8968 words and 400 dimensions: 33181600 bytes\n",
      "2018-04-23 13:30:43,352 : INFO : resetting layer weights\n"
     ]
    },
    {
     "name": "stdout",
     "output_type": "stream",
     "text": [
      "TRECDataset-DESC 400\n"
     ]
    },
    {
     "name": "stderr",
     "output_type": "stream",
     "text": [
      "2018-04-23 13:30:43,480 : INFO : training model with 3 workers on 8968 vocabulary and 400 features, using sg=0 hs=0 sample=0.001 negative=5 window=5\n",
      "2018-04-23 13:30:43,753 : INFO : worker thread finished; awaiting finish of 2 more threads\n",
      "2018-04-23 13:30:43,754 : INFO : worker thread finished; awaiting finish of 1 more threads\n",
      "2018-04-23 13:30:43,768 : INFO : worker thread finished; awaiting finish of 0 more threads\n",
      "2018-04-23 13:30:43,769 : INFO : training on 292340 raw words (186590 effective words) took 0.3s, 675442 effective words/s\n",
      "2018-04-23 13:30:43,772 : INFO : saving Word2Vec object under word2vec/TRECDataset-DESC_400.model, separately None\n",
      "2018-04-23 13:30:43,773 : INFO : not storing attribute syn0norm\n",
      "2018-04-23 13:30:43,773 : INFO : not storing attribute cum_table\n",
      "2018-04-23 13:30:44,161 : INFO : saved word2vec/TRECDataset-DESC_400.model\n",
      "2018-04-23 13:30:44,162 : INFO : collecting all words and their counts\n",
      "2018-04-23 13:30:44,162 : INFO : PROGRESS: at sentence #0, processed 0 words, keeping 0 word types\n",
      "2018-04-23 13:30:44,176 : INFO : collected 8968 word types from a corpus of 58468 raw words and 5952 sentences\n",
      "2018-04-23 13:30:44,177 : INFO : Loading a fresh vocabulary\n",
      "2018-04-23 13:30:44,201 : INFO : min_count=1 retains 8968 unique words (100% of original 8968, drops 0)\n",
      "2018-04-23 13:30:44,204 : INFO : min_count=1 leaves 58468 word corpus (100% of original 58468, drops 0)\n",
      "2018-04-23 13:30:44,242 : INFO : deleting the raw counts dictionary of 8968 items\n",
      "2018-04-23 13:30:44,245 : INFO : sample=0.001 downsamples 31 most-common words\n",
      "2018-04-23 13:30:44,247 : INFO : downsampling leaves estimated 37315 word corpus (63.8% of prior 58468)\n",
      "2018-04-23 13:30:44,249 : INFO : estimated required memory for 8968 words and 200 dimensions: 18832800 bytes\n",
      "2018-04-23 13:30:44,282 : INFO : resetting layer weights\n"
     ]
    },
    {
     "name": "stdout",
     "output_type": "stream",
     "text": [
      "TRECDataset-LOC 200\n"
     ]
    },
    {
     "name": "stderr",
     "output_type": "stream",
     "text": [
      "2018-04-23 13:30:44,388 : INFO : training model with 3 workers on 8968 vocabulary and 200 features, using sg=0 hs=0 sample=0.001 negative=5 window=5\n",
      "2018-04-23 13:30:44,637 : INFO : worker thread finished; awaiting finish of 2 more threads\n",
      "2018-04-23 13:30:44,641 : INFO : worker thread finished; awaiting finish of 1 more threads\n",
      "2018-04-23 13:30:44,647 : INFO : worker thread finished; awaiting finish of 0 more threads\n",
      "2018-04-23 13:30:44,648 : INFO : training on 292340 raw words (186550 effective words) took 0.2s, 783794 effective words/s\n",
      "2018-04-23 13:30:44,651 : INFO : saving Word2Vec object under word2vec/TRECDataset-LOC_200.model, separately None\n",
      "2018-04-23 13:30:44,652 : INFO : not storing attribute syn0norm\n",
      "2018-04-23 13:30:44,652 : INFO : not storing attribute cum_table\n",
      "2018-04-23 13:30:44,860 : INFO : saved word2vec/TRECDataset-LOC_200.model\n",
      "2018-04-23 13:30:44,864 : INFO : collecting all words and their counts\n",
      "2018-04-23 13:30:44,866 : INFO : PROGRESS: at sentence #0, processed 0 words, keeping 0 word types\n",
      "2018-04-23 13:30:44,885 : INFO : collected 8968 word types from a corpus of 58468 raw words and 5952 sentences\n",
      "2018-04-23 13:30:44,888 : INFO : Loading a fresh vocabulary\n",
      "2018-04-23 13:30:44,922 : INFO : min_count=1 retains 8968 unique words (100% of original 8968, drops 0)\n",
      "2018-04-23 13:30:44,926 : INFO : min_count=1 leaves 58468 word corpus (100% of original 58468, drops 0)\n",
      "2018-04-23 13:30:44,972 : INFO : deleting the raw counts dictionary of 8968 items\n",
      "2018-04-23 13:30:44,977 : INFO : sample=0.001 downsamples 31 most-common words\n",
      "2018-04-23 13:30:44,979 : INFO : downsampling leaves estimated 37315 word corpus (63.8% of prior 58468)\n",
      "2018-04-23 13:30:44,982 : INFO : estimated required memory for 8968 words and 300 dimensions: 26007200 bytes\n",
      "2018-04-23 13:30:45,019 : INFO : resetting layer weights\n"
     ]
    },
    {
     "name": "stdout",
     "output_type": "stream",
     "text": [
      "TRECDataset-LOC 300\n"
     ]
    },
    {
     "name": "stderr",
     "output_type": "stream",
     "text": [
      "2018-04-23 13:30:45,272 : INFO : training model with 3 workers on 8968 vocabulary and 300 features, using sg=0 hs=0 sample=0.001 negative=5 window=5\n",
      "2018-04-23 13:30:45,641 : INFO : worker thread finished; awaiting finish of 2 more threads\n",
      "2018-04-23 13:30:45,644 : INFO : worker thread finished; awaiting finish of 1 more threads\n",
      "2018-04-23 13:30:45,650 : INFO : worker thread finished; awaiting finish of 0 more threads\n",
      "2018-04-23 13:30:45,653 : INFO : training on 292340 raw words (186740 effective words) took 0.4s, 526104 effective words/s\n",
      "2018-04-23 13:30:45,660 : INFO : saving Word2Vec object under word2vec/TRECDataset-LOC_300.model, separately None\n",
      "2018-04-23 13:30:45,663 : INFO : not storing attribute syn0norm\n",
      "2018-04-23 13:30:45,667 : INFO : not storing attribute cum_table\n",
      "2018-04-23 13:30:46,057 : INFO : saved word2vec/TRECDataset-LOC_300.model\n",
      "2018-04-23 13:30:46,076 : INFO : collecting all words and their counts\n",
      "2018-04-23 13:30:46,079 : INFO : PROGRESS: at sentence #0, processed 0 words, keeping 0 word types\n",
      "2018-04-23 13:30:46,102 : INFO : collected 8968 word types from a corpus of 58468 raw words and 5952 sentences\n",
      "2018-04-23 13:30:46,105 : INFO : Loading a fresh vocabulary\n",
      "2018-04-23 13:30:46,135 : INFO : min_count=1 retains 8968 unique words (100% of original 8968, drops 0)\n",
      "2018-04-23 13:30:46,138 : INFO : min_count=1 leaves 58468 word corpus (100% of original 58468, drops 0)\n",
      "2018-04-23 13:30:46,185 : INFO : deleting the raw counts dictionary of 8968 items\n",
      "2018-04-23 13:30:46,188 : INFO : sample=0.001 downsamples 31 most-common words\n",
      "2018-04-23 13:30:46,190 : INFO : downsampling leaves estimated 37315 word corpus (63.8% of prior 58468)\n",
      "2018-04-23 13:30:46,193 : INFO : estimated required memory for 8968 words and 400 dimensions: 33181600 bytes\n",
      "2018-04-23 13:30:46,229 : INFO : resetting layer weights\n"
     ]
    },
    {
     "name": "stdout",
     "output_type": "stream",
     "text": [
      "TRECDataset-LOC 400\n"
     ]
    },
    {
     "name": "stderr",
     "output_type": "stream",
     "text": [
      "2018-04-23 13:30:46,448 : INFO : training model with 3 workers on 8968 vocabulary and 400 features, using sg=0 hs=0 sample=0.001 negative=5 window=5\n",
      "2018-04-23 13:30:46,999 : INFO : worker thread finished; awaiting finish of 2 more threads\n",
      "2018-04-23 13:30:47,009 : INFO : worker thread finished; awaiting finish of 1 more threads\n",
      "2018-04-23 13:30:47,014 : INFO : worker thread finished; awaiting finish of 0 more threads\n",
      "2018-04-23 13:30:47,017 : INFO : training on 292340 raw words (186539 effective words) took 0.6s, 338851 effective words/s\n",
      "2018-04-23 13:30:47,023 : INFO : saving Word2Vec object under word2vec/TRECDataset-LOC_400.model, separately None\n",
      "2018-04-23 13:30:47,025 : INFO : not storing attribute syn0norm\n",
      "2018-04-23 13:30:47,028 : INFO : not storing attribute cum_table\n",
      "2018-04-23 13:30:47,547 : INFO : saved word2vec/TRECDataset-LOC_400.model\n",
      "2018-04-23 13:30:47,548 : INFO : collecting all words and their counts\n",
      "2018-04-23 13:30:47,549 : INFO : PROGRESS: at sentence #0, processed 0 words, keeping 0 word types\n",
      "2018-04-23 13:30:47,573 : INFO : collected 8968 word types from a corpus of 58468 raw words and 5952 sentences\n",
      "2018-04-23 13:30:47,577 : INFO : Loading a fresh vocabulary\n",
      "2018-04-23 13:30:47,668 : INFO : min_count=1 retains 8968 unique words (100% of original 8968, drops 0)\n",
      "2018-04-23 13:30:47,669 : INFO : min_count=1 leaves 58468 word corpus (100% of original 58468, drops 0)\n",
      "2018-04-23 13:30:47,709 : INFO : deleting the raw counts dictionary of 8968 items\n",
      "2018-04-23 13:30:47,710 : INFO : sample=0.001 downsamples 31 most-common words\n",
      "2018-04-23 13:30:47,710 : INFO : downsampling leaves estimated 37315 word corpus (63.8% of prior 58468)\n",
      "2018-04-23 13:30:47,711 : INFO : estimated required memory for 8968 words and 200 dimensions: 18832800 bytes\n",
      "2018-04-23 13:30:47,740 : INFO : resetting layer weights\n"
     ]
    },
    {
     "name": "stdout",
     "output_type": "stream",
     "text": [
      "TRECDataset-HUM 200\n"
     ]
    },
    {
     "name": "stderr",
     "output_type": "stream",
     "text": [
      "2018-04-23 13:30:47,841 : INFO : training model with 3 workers on 8968 vocabulary and 200 features, using sg=0 hs=0 sample=0.001 negative=5 window=5\n",
      "2018-04-23 13:30:48,039 : INFO : worker thread finished; awaiting finish of 2 more threads\n",
      "2018-04-23 13:30:48,041 : INFO : worker thread finished; awaiting finish of 1 more threads\n",
      "2018-04-23 13:30:48,052 : INFO : worker thread finished; awaiting finish of 0 more threads\n",
      "2018-04-23 13:30:48,053 : INFO : training on 292340 raw words (186612 effective words) took 0.2s, 922839 effective words/s\n",
      "2018-04-23 13:30:48,056 : INFO : saving Word2Vec object under word2vec/TRECDataset-HUM_200.model, separately None\n",
      "2018-04-23 13:30:48,057 : INFO : not storing attribute syn0norm\n",
      "2018-04-23 13:30:48,058 : INFO : not storing attribute cum_table\n",
      "2018-04-23 13:30:48,377 : INFO : saved word2vec/TRECDataset-HUM_200.model\n",
      "2018-04-23 13:30:48,378 : INFO : collecting all words and their counts\n",
      "2018-04-23 13:30:48,379 : INFO : PROGRESS: at sentence #0, processed 0 words, keeping 0 word types\n",
      "2018-04-23 13:30:48,394 : INFO : collected 8968 word types from a corpus of 58468 raw words and 5952 sentences\n",
      "2018-04-23 13:30:48,395 : INFO : Loading a fresh vocabulary\n",
      "2018-04-23 13:30:48,415 : INFO : min_count=1 retains 8968 unique words (100% of original 8968, drops 0)\n",
      "2018-04-23 13:30:48,415 : INFO : min_count=1 leaves 58468 word corpus (100% of original 58468, drops 0)\n",
      "2018-04-23 13:30:48,443 : INFO : deleting the raw counts dictionary of 8968 items\n",
      "2018-04-23 13:30:48,444 : INFO : sample=0.001 downsamples 31 most-common words\n",
      "2018-04-23 13:30:48,445 : INFO : downsampling leaves estimated 37315 word corpus (63.8% of prior 58468)\n",
      "2018-04-23 13:30:48,445 : INFO : estimated required memory for 8968 words and 300 dimensions: 26007200 bytes\n",
      "2018-04-23 13:30:48,474 : INFO : resetting layer weights\n"
     ]
    },
    {
     "name": "stdout",
     "output_type": "stream",
     "text": [
      "TRECDataset-HUM 300\n"
     ]
    },
    {
     "name": "stderr",
     "output_type": "stream",
     "text": [
      "2018-04-23 13:30:48,589 : INFO : training model with 3 workers on 8968 vocabulary and 300 features, using sg=0 hs=0 sample=0.001 negative=5 window=5\n",
      "2018-04-23 13:30:48,816 : INFO : worker thread finished; awaiting finish of 2 more threads\n",
      "2018-04-23 13:30:48,823 : INFO : worker thread finished; awaiting finish of 1 more threads\n",
      "2018-04-23 13:30:48,828 : INFO : worker thread finished; awaiting finish of 0 more threads\n",
      "2018-04-23 13:30:48,828 : INFO : training on 292340 raw words (186387 effective words) took 0.2s, 803603 effective words/s\n",
      "2018-04-23 13:30:48,832 : INFO : saving Word2Vec object under word2vec/TRECDataset-HUM_300.model, separately None\n",
      "2018-04-23 13:30:48,833 : INFO : not storing attribute syn0norm\n",
      "2018-04-23 13:30:48,834 : INFO : not storing attribute cum_table\n",
      "2018-04-23 13:30:49,450 : INFO : saved word2vec/TRECDataset-HUM_300.model\n",
      "2018-04-23 13:30:49,451 : INFO : collecting all words and their counts\n",
      "2018-04-23 13:30:49,451 : INFO : PROGRESS: at sentence #0, processed 0 words, keeping 0 word types\n",
      "2018-04-23 13:30:49,464 : INFO : collected 8968 word types from a corpus of 58468 raw words and 5952 sentences\n",
      "2018-04-23 13:30:49,464 : INFO : Loading a fresh vocabulary\n",
      "2018-04-23 13:30:49,482 : INFO : min_count=1 retains 8968 unique words (100% of original 8968, drops 0)\n",
      "2018-04-23 13:30:49,482 : INFO : min_count=1 leaves 58468 word corpus (100% of original 58468, drops 0)\n",
      "2018-04-23 13:30:49,506 : INFO : deleting the raw counts dictionary of 8968 items\n",
      "2018-04-23 13:30:49,507 : INFO : sample=0.001 downsamples 31 most-common words\n",
      "2018-04-23 13:30:49,508 : INFO : downsampling leaves estimated 37315 word corpus (63.8% of prior 58468)\n",
      "2018-04-23 13:30:49,508 : INFO : estimated required memory for 8968 words and 400 dimensions: 33181600 bytes\n",
      "2018-04-23 13:30:49,535 : INFO : resetting layer weights\n"
     ]
    },
    {
     "name": "stdout",
     "output_type": "stream",
     "text": [
      "TRECDataset-HUM 400\n"
     ]
    },
    {
     "name": "stderr",
     "output_type": "stream",
     "text": [
      "2018-04-23 13:30:49,672 : INFO : training model with 3 workers on 8968 vocabulary and 400 features, using sg=0 hs=0 sample=0.001 negative=5 window=5\n",
      "2018-04-23 13:30:50,037 : INFO : worker thread finished; awaiting finish of 2 more threads\n",
      "2018-04-23 13:30:50,042 : INFO : worker thread finished; awaiting finish of 1 more threads\n",
      "2018-04-23 13:30:50,055 : INFO : worker thread finished; awaiting finish of 0 more threads\n",
      "2018-04-23 13:30:50,055 : INFO : training on 292340 raw words (186582 effective words) took 0.4s, 495410 effective words/s\n",
      "2018-04-23 13:30:50,059 : INFO : saving Word2Vec object under word2vec/TRECDataset-HUM_400.model, separately None\n",
      "2018-04-23 13:30:50,060 : INFO : not storing attribute syn0norm\n",
      "2018-04-23 13:30:50,060 : INFO : not storing attribute cum_table\n",
      "2018-04-23 13:30:50,479 : INFO : saved word2vec/TRECDataset-HUM_400.model\n",
      "2018-04-23 13:30:50,487 : INFO : collecting all words and their counts\n",
      "2018-04-23 13:30:50,490 : INFO : PROGRESS: at sentence #0, processed 0 words, keeping 0 word types\n",
      "2018-04-23 13:30:50,517 : INFO : collected 8968 word types from a corpus of 58468 raw words and 5952 sentences\n",
      "2018-04-23 13:30:50,520 : INFO : Loading a fresh vocabulary\n",
      "2018-04-23 13:30:50,552 : INFO : min_count=1 retains 8968 unique words (100% of original 8968, drops 0)\n",
      "2018-04-23 13:30:50,561 : INFO : min_count=1 leaves 58468 word corpus (100% of original 58468, drops 0)\n",
      "2018-04-23 13:30:50,607 : INFO : deleting the raw counts dictionary of 8968 items\n",
      "2018-04-23 13:30:50,611 : INFO : sample=0.001 downsamples 31 most-common words\n",
      "2018-04-23 13:30:50,615 : INFO : downsampling leaves estimated 37315 word corpus (63.8% of prior 58468)\n",
      "2018-04-23 13:30:50,619 : INFO : estimated required memory for 8968 words and 200 dimensions: 18832800 bytes\n",
      "2018-04-23 13:30:50,663 : INFO : resetting layer weights\n"
     ]
    },
    {
     "name": "stdout",
     "output_type": "stream",
     "text": [
      "TRECDataset-ENTY 200\n"
     ]
    },
    {
     "name": "stderr",
     "output_type": "stream",
     "text": [
      "2018-04-23 13:30:50,831 : INFO : training model with 3 workers on 8968 vocabulary and 200 features, using sg=0 hs=0 sample=0.001 negative=5 window=5\n",
      "2018-04-23 13:30:51,207 : INFO : worker thread finished; awaiting finish of 2 more threads\n",
      "2018-04-23 13:30:51,223 : INFO : worker thread finished; awaiting finish of 1 more threads\n",
      "2018-04-23 13:30:51,230 : INFO : worker thread finished; awaiting finish of 0 more threads\n",
      "2018-04-23 13:30:51,232 : INFO : training on 292340 raw words (186582 effective words) took 0.4s, 507912 effective words/s\n",
      "2018-04-23 13:30:51,237 : INFO : saving Word2Vec object under word2vec/TRECDataset-ENTY_200.model, separately None\n",
      "2018-04-23 13:30:51,238 : INFO : not storing attribute syn0norm\n",
      "2018-04-23 13:30:51,239 : INFO : not storing attribute cum_table\n",
      "2018-04-23 13:30:51,550 : INFO : saved word2vec/TRECDataset-ENTY_200.model\n",
      "2018-04-23 13:30:51,561 : INFO : collecting all words and their counts\n",
      "2018-04-23 13:30:51,567 : INFO : PROGRESS: at sentence #0, processed 0 words, keeping 0 word types\n",
      "2018-04-23 13:30:51,589 : INFO : collected 8968 word types from a corpus of 58468 raw words and 5952 sentences\n",
      "2018-04-23 13:30:51,594 : INFO : Loading a fresh vocabulary\n",
      "2018-04-23 13:30:51,632 : INFO : min_count=1 retains 8968 unique words (100% of original 8968, drops 0)\n",
      "2018-04-23 13:30:51,639 : INFO : min_count=1 leaves 58468 word corpus (100% of original 58468, drops 0)\n",
      "2018-04-23 13:30:51,679 : INFO : deleting the raw counts dictionary of 8968 items\n",
      "2018-04-23 13:30:51,683 : INFO : sample=0.001 downsamples 31 most-common words\n",
      "2018-04-23 13:30:51,686 : INFO : downsampling leaves estimated 37315 word corpus (63.8% of prior 58468)\n",
      "2018-04-23 13:30:51,688 : INFO : estimated required memory for 8968 words and 300 dimensions: 26007200 bytes\n",
      "2018-04-23 13:30:51,724 : INFO : resetting layer weights\n"
     ]
    },
    {
     "name": "stdout",
     "output_type": "stream",
     "text": [
      "TRECDataset-ENTY 300\n"
     ]
    },
    {
     "name": "stderr",
     "output_type": "stream",
     "text": [
      "2018-04-23 13:30:51,903 : INFO : training model with 3 workers on 8968 vocabulary and 300 features, using sg=0 hs=0 sample=0.001 negative=5 window=5\n",
      "2018-04-23 13:30:52,397 : INFO : worker thread finished; awaiting finish of 2 more threads\n",
      "2018-04-23 13:30:52,429 : INFO : worker thread finished; awaiting finish of 1 more threads\n",
      "2018-04-23 13:30:52,432 : INFO : worker thread finished; awaiting finish of 0 more threads\n",
      "2018-04-23 13:30:52,435 : INFO : training on 292340 raw words (186682 effective words) took 0.5s, 360879 effective words/s\n",
      "2018-04-23 13:30:52,440 : INFO : saving Word2Vec object under word2vec/TRECDataset-ENTY_300.model, separately None\n",
      "2018-04-23 13:30:52,443 : INFO : not storing attribute syn0norm\n",
      "2018-04-23 13:30:52,446 : INFO : not storing attribute cum_table\n",
      "2018-04-23 13:30:52,995 : INFO : saved word2vec/TRECDataset-ENTY_300.model\n",
      "2018-04-23 13:30:52,996 : INFO : collecting all words and their counts\n",
      "2018-04-23 13:30:52,996 : INFO : PROGRESS: at sentence #0, processed 0 words, keeping 0 word types\n",
      "2018-04-23 13:30:53,009 : INFO : collected 8968 word types from a corpus of 58468 raw words and 5952 sentences\n",
      "2018-04-23 13:30:53,010 : INFO : Loading a fresh vocabulary\n",
      "2018-04-23 13:30:53,028 : INFO : min_count=1 retains 8968 unique words (100% of original 8968, drops 0)\n",
      "2018-04-23 13:30:53,029 : INFO : min_count=1 leaves 58468 word corpus (100% of original 58468, drops 0)\n",
      "2018-04-23 13:30:53,064 : INFO : deleting the raw counts dictionary of 8968 items\n",
      "2018-04-23 13:30:53,064 : INFO : sample=0.001 downsamples 31 most-common words\n",
      "2018-04-23 13:30:53,065 : INFO : downsampling leaves estimated 37315 word corpus (63.8% of prior 58468)\n",
      "2018-04-23 13:30:53,065 : INFO : estimated required memory for 8968 words and 400 dimensions: 33181600 bytes\n",
      "2018-04-23 13:30:53,093 : INFO : resetting layer weights\n"
     ]
    },
    {
     "name": "stdout",
     "output_type": "stream",
     "text": [
      "TRECDataset-ENTY 400\n"
     ]
    },
    {
     "name": "stderr",
     "output_type": "stream",
     "text": [
      "2018-04-23 13:30:53,216 : INFO : training model with 3 workers on 8968 vocabulary and 400 features, using sg=0 hs=0 sample=0.001 negative=5 window=5\n",
      "2018-04-23 13:30:53,498 : INFO : worker thread finished; awaiting finish of 2 more threads\n",
      "2018-04-23 13:30:53,500 : INFO : worker thread finished; awaiting finish of 1 more threads\n",
      "2018-04-23 13:30:53,509 : INFO : worker thread finished; awaiting finish of 0 more threads\n",
      "2018-04-23 13:30:53,510 : INFO : training on 292340 raw words (186487 effective words) took 0.3s, 648734 effective words/s\n",
      "2018-04-23 13:30:53,514 : INFO : saving Word2Vec object under word2vec/TRECDataset-ENTY_400.model, separately None\n",
      "2018-04-23 13:30:53,515 : INFO : not storing attribute syn0norm\n",
      "2018-04-23 13:30:53,515 : INFO : not storing attribute cum_table\n",
      "2018-04-23 13:30:53,995 : INFO : saved word2vec/TRECDataset-ENTY_400.model\n"
     ]
    }
   ],
   "source": [
    "# train word vectors\n",
    "for d in datasets.ALL_DATASETS + datasets.TREC_DATASETS:\n",
    "    for dim in [200,300,400]:\n",
    "        print(d.name(), dim)\n",
    "        model = gensim.models.Word2Vec(d.samples, min_count=1, size=dim)\n",
    "        model.save(model_path.format(d.name(), dim))"
   ]
  },
  {
   "cell_type": "code",
   "execution_count": 34,
   "metadata": {},
   "outputs": [],
   "source": [
    "import tqdm\n",
    "XX = None\n",
    "class TrainedWordVectorModel(object):\n",
    "\n",
    "    def __init__(self, dims, dataset, cls=None):\n",
    "        self.dims = dims\n",
    "        self.model = gensim.models.Word2Vec.load(model_path.format(dataset.name(), dims))\n",
    "        self.cls = cls\n",
    "\n",
    "    def fit(self, X, Y):\n",
    "        embedding = list(map(self.vectorize, tqdm.tqdm_notebook(X)))\n",
    "        self.stacked = np.vstack(embedding)\n",
    "        self.cls.fit(self.stacked, Y)\n",
    "    \n",
    "    def predict(self, X):\n",
    "        embedding = list(map(self.vectorize, tqdm.tqdm_notebook(X)))\n",
    "        Yhat = self.cls.predict(np.vstack(embedding))\n",
    "        return Yhat\n",
    "    \n",
    "    def vectorize(self, x):\n",
    "        if len(x)==0:\n",
    "            return np.zeros(dims)\n",
    "        else:\n",
    "            doc = self.model.wv[x].sum(axis=0)\n",
    "            return doc\n",
    "    \n",
    "    def score(self, X, Y):\n",
    "        Yhat = self.predict(X)\n",
    "        return 1-((Yhat-Y)**2).mean()\n",
    "    \n",
    "    def update(self, X, Y):\n",
    "        pass"
   ]
  },
  {
   "cell_type": "code",
   "execution_count": 35,
   "metadata": {},
   "outputs": [],
   "source": [
    "results = defaultdict(dict)"
   ]
  },
  {
   "cell_type": "code",
   "execution_count": 36,
   "metadata": {},
   "outputs": [],
   "source": [
    "from sklearn.svm import SVC"
   ]
  },
  {
   "cell_type": "code",
   "execution_count": 37,
   "metadata": {
    "scrolled": true
   },
   "outputs": [
    {
     "name": "stderr",
     "output_type": "stream",
     "text": [
      "2018-04-23 13:31:05,549 : INFO : loading Word2Vec object from word2vec/CRDataset_200.model\n"
     ]
    },
    {
     "name": "stdout",
     "output_type": "stream",
     "text": [
      "CRDataset\n"
     ]
    },
    {
     "name": "stderr",
     "output_type": "stream",
     "text": [
      "2018-04-23 13:31:07,392 : INFO : loading wv recursively from word2vec/CRDataset_200.model.wv.* with mmap=None\n",
      "2018-04-23 13:31:07,393 : INFO : setting ignored attribute syn0norm to None\n",
      "2018-04-23 13:31:07,393 : INFO : setting ignored attribute cum_table to None\n",
      "2018-04-23 13:31:07,394 : INFO : loaded word2vec/CRDataset_200.model\n"
     ]
    },
    {
     "data": {
      "application/vnd.jupyter.widget-view+json": {
       "model_id": "4f3cd1c6ce1b4dca90cfb111b2a41869",
       "version_major": 2,
       "version_minor": 0
      },
      "text/html": [
       "<p>Failed to display Jupyter Widget of type <code>HBox</code>.</p>\n",
       "<p>\n",
       "  If you're reading this message in the Jupyter Notebook or JupyterLab Notebook, it may mean\n",
       "  that the widgets JavaScript is still loading. If this message persists, it\n",
       "  likely means that the widgets JavaScript library is either not installed or\n",
       "  not enabled. See the <a href=\"https://ipywidgets.readthedocs.io/en/stable/user_install.html\">Jupyter\n",
       "  Widgets Documentation</a> for setup instructions.\n",
       "</p>\n",
       "<p>\n",
       "  If you're reading this message in another frontend (for example, a static\n",
       "  rendering on GitHub or <a href=\"https://nbviewer.jupyter.org/\">NBViewer</a>),\n",
       "  it may mean that your frontend doesn't currently support widgets.\n",
       "</p>\n"
      ],
      "text/plain": [
       "HBox(children=(IntProgress(value=0, max=3020), HTML(value='')))"
      ]
     },
     "metadata": {},
     "output_type": "display_data"
    },
    {
     "name": "stdout",
     "output_type": "stream",
     "text": [
      "\n"
     ]
    },
    {
     "data": {
      "application/vnd.jupyter.widget-view+json": {
       "model_id": "7c7ae146cd4d4b32910d51ceaef7754f",
       "version_major": 2,
       "version_minor": 0
      },
      "text/html": [
       "<p>Failed to display Jupyter Widget of type <code>HBox</code>.</p>\n",
       "<p>\n",
       "  If you're reading this message in the Jupyter Notebook or JupyterLab Notebook, it may mean\n",
       "  that the widgets JavaScript is still loading. If this message persists, it\n",
       "  likely means that the widgets JavaScript library is either not installed or\n",
       "  not enabled. See the <a href=\"https://ipywidgets.readthedocs.io/en/stable/user_install.html\">Jupyter\n",
       "  Widgets Documentation</a> for setup instructions.\n",
       "</p>\n",
       "<p>\n",
       "  If you're reading this message in another frontend (for example, a static\n",
       "  rendering on GitHub or <a href=\"https://nbviewer.jupyter.org/\">NBViewer</a>),\n",
       "  it may mean that your frontend doesn't currently support widgets.\n",
       "</p>\n"
      ],
      "text/plain": [
       "HBox(children=(IntProgress(value=0, max=3020), HTML(value='')))"
      ]
     },
     "metadata": {},
     "output_type": "display_data"
    },
    {
     "name": "stdout",
     "output_type": "stream",
     "text": [
      "\n"
     ]
    },
    {
     "data": {
      "application/vnd.jupyter.widget-view+json": {
       "model_id": "9b1636f4e6f14a3a837e20636bbb9268",
       "version_major": 2,
       "version_minor": 0
      },
      "text/html": [
       "<p>Failed to display Jupyter Widget of type <code>HBox</code>.</p>\n",
       "<p>\n",
       "  If you're reading this message in the Jupyter Notebook or JupyterLab Notebook, it may mean\n",
       "  that the widgets JavaScript is still loading. If this message persists, it\n",
       "  likely means that the widgets JavaScript library is either not installed or\n",
       "  not enabled. See the <a href=\"https://ipywidgets.readthedocs.io/en/stable/user_install.html\">Jupyter\n",
       "  Widgets Documentation</a> for setup instructions.\n",
       "</p>\n",
       "<p>\n",
       "  If you're reading this message in another frontend (for example, a static\n",
       "  rendering on GitHub or <a href=\"https://nbviewer.jupyter.org/\">NBViewer</a>),\n",
       "  it may mean that your frontend doesn't currently support widgets.\n",
       "</p>\n"
      ],
      "text/plain": [
       "HBox(children=(IntProgress(value=0, max=378), HTML(value='')))"
      ]
     },
     "metadata": {},
     "output_type": "display_data"
    },
    {
     "name": "stdout",
     "output_type": "stream",
     "text": [
      "\n"
     ]
    },
    {
     "name": "stderr",
     "output_type": "stream",
     "text": [
      "2018-04-23 13:31:14,773 : INFO : loading Word2Vec object from word2vec/CRDataset_300.model\n"
     ]
    },
    {
     "name": "stdout",
     "output_type": "stream",
     "text": [
      "0.6410596026490066 0.6375661375661376\n",
      "CRDataset\n"
     ]
    },
    {
     "name": "stderr",
     "output_type": "stream",
     "text": [
      "2018-04-23 13:31:17,222 : INFO : loading wv recursively from word2vec/CRDataset_300.model.wv.* with mmap=None\n",
      "2018-04-23 13:31:17,223 : INFO : setting ignored attribute syn0norm to None\n",
      "2018-04-23 13:31:17,224 : INFO : setting ignored attribute cum_table to None\n",
      "2018-04-23 13:31:17,224 : INFO : loaded word2vec/CRDataset_300.model\n"
     ]
    },
    {
     "data": {
      "application/vnd.jupyter.widget-view+json": {
       "model_id": "6eb01a2f93b6424fa400f7640f6afd20",
       "version_major": 2,
       "version_minor": 0
      },
      "text/html": [
       "<p>Failed to display Jupyter Widget of type <code>HBox</code>.</p>\n",
       "<p>\n",
       "  If you're reading this message in the Jupyter Notebook or JupyterLab Notebook, it may mean\n",
       "  that the widgets JavaScript is still loading. If this message persists, it\n",
       "  likely means that the widgets JavaScript library is either not installed or\n",
       "  not enabled. See the <a href=\"https://ipywidgets.readthedocs.io/en/stable/user_install.html\">Jupyter\n",
       "  Widgets Documentation</a> for setup instructions.\n",
       "</p>\n",
       "<p>\n",
       "  If you're reading this message in another frontend (for example, a static\n",
       "  rendering on GitHub or <a href=\"https://nbviewer.jupyter.org/\">NBViewer</a>),\n",
       "  it may mean that your frontend doesn't currently support widgets.\n",
       "</p>\n"
      ],
      "text/plain": [
       "HBox(children=(IntProgress(value=0, max=3020), HTML(value='')))"
      ]
     },
     "metadata": {},
     "output_type": "display_data"
    },
    {
     "name": "stdout",
     "output_type": "stream",
     "text": [
      "\n"
     ]
    },
    {
     "data": {
      "application/vnd.jupyter.widget-view+json": {
       "model_id": "f62b802cf4624179a35778359af70183",
       "version_major": 2,
       "version_minor": 0
      },
      "text/html": [
       "<p>Failed to display Jupyter Widget of type <code>HBox</code>.</p>\n",
       "<p>\n",
       "  If you're reading this message in the Jupyter Notebook or JupyterLab Notebook, it may mean\n",
       "  that the widgets JavaScript is still loading. If this message persists, it\n",
       "  likely means that the widgets JavaScript library is either not installed or\n",
       "  not enabled. See the <a href=\"https://ipywidgets.readthedocs.io/en/stable/user_install.html\">Jupyter\n",
       "  Widgets Documentation</a> for setup instructions.\n",
       "</p>\n",
       "<p>\n",
       "  If you're reading this message in another frontend (for example, a static\n",
       "  rendering on GitHub or <a href=\"https://nbviewer.jupyter.org/\">NBViewer</a>),\n",
       "  it may mean that your frontend doesn't currently support widgets.\n",
       "</p>\n"
      ],
      "text/plain": [
       "HBox(children=(IntProgress(value=0, max=3020), HTML(value='')))"
      ]
     },
     "metadata": {},
     "output_type": "display_data"
    },
    {
     "name": "stdout",
     "output_type": "stream",
     "text": [
      "\n"
     ]
    },
    {
     "data": {
      "application/vnd.jupyter.widget-view+json": {
       "model_id": "260439f190c0421d93313ec8da02dae6",
       "version_major": 2,
       "version_minor": 0
      },
      "text/html": [
       "<p>Failed to display Jupyter Widget of type <code>HBox</code>.</p>\n",
       "<p>\n",
       "  If you're reading this message in the Jupyter Notebook or JupyterLab Notebook, it may mean\n",
       "  that the widgets JavaScript is still loading. If this message persists, it\n",
       "  likely means that the widgets JavaScript library is either not installed or\n",
       "  not enabled. See the <a href=\"https://ipywidgets.readthedocs.io/en/stable/user_install.html\">Jupyter\n",
       "  Widgets Documentation</a> for setup instructions.\n",
       "</p>\n",
       "<p>\n",
       "  If you're reading this message in another frontend (for example, a static\n",
       "  rendering on GitHub or <a href=\"https://nbviewer.jupyter.org/\">NBViewer</a>),\n",
       "  it may mean that your frontend doesn't currently support widgets.\n",
       "</p>\n"
      ],
      "text/plain": [
       "HBox(children=(IntProgress(value=0, max=378), HTML(value='')))"
      ]
     },
     "metadata": {},
     "output_type": "display_data"
    },
    {
     "name": "stdout",
     "output_type": "stream",
     "text": [
      "\n"
     ]
    },
    {
     "name": "stderr",
     "output_type": "stream",
     "text": [
      "2018-04-23 13:31:26,087 : INFO : loading Word2Vec object from word2vec/CRDataset_400.model\n"
     ]
    },
    {
     "name": "stdout",
     "output_type": "stream",
     "text": [
      "0.6403973509933775 0.6375661375661376\n",
      "CRDataset\n"
     ]
    },
    {
     "name": "stderr",
     "output_type": "stream",
     "text": [
      "2018-04-23 13:31:28,260 : INFO : loading wv recursively from word2vec/CRDataset_400.model.wv.* with mmap=None\n",
      "2018-04-23 13:31:28,261 : INFO : setting ignored attribute syn0norm to None\n",
      "2018-04-23 13:31:28,262 : INFO : setting ignored attribute cum_table to None\n",
      "2018-04-23 13:31:28,263 : INFO : loaded word2vec/CRDataset_400.model\n"
     ]
    },
    {
     "data": {
      "application/vnd.jupyter.widget-view+json": {
       "model_id": "c88c9843db42432ea4089bb81aead1c2",
       "version_major": 2,
       "version_minor": 0
      },
      "text/html": [
       "<p>Failed to display Jupyter Widget of type <code>HBox</code>.</p>\n",
       "<p>\n",
       "  If you're reading this message in the Jupyter Notebook or JupyterLab Notebook, it may mean\n",
       "  that the widgets JavaScript is still loading. If this message persists, it\n",
       "  likely means that the widgets JavaScript library is either not installed or\n",
       "  not enabled. See the <a href=\"https://ipywidgets.readthedocs.io/en/stable/user_install.html\">Jupyter\n",
       "  Widgets Documentation</a> for setup instructions.\n",
       "</p>\n",
       "<p>\n",
       "  If you're reading this message in another frontend (for example, a static\n",
       "  rendering on GitHub or <a href=\"https://nbviewer.jupyter.org/\">NBViewer</a>),\n",
       "  it may mean that your frontend doesn't currently support widgets.\n",
       "</p>\n"
      ],
      "text/plain": [
       "HBox(children=(IntProgress(value=0, max=3020), HTML(value='')))"
      ]
     },
     "metadata": {},
     "output_type": "display_data"
    },
    {
     "name": "stdout",
     "output_type": "stream",
     "text": [
      "\n"
     ]
    },
    {
     "data": {
      "application/vnd.jupyter.widget-view+json": {
       "model_id": "3712b2f1cf3d48138fb7868eda0037c1",
       "version_major": 2,
       "version_minor": 0
      },
      "text/html": [
       "<p>Failed to display Jupyter Widget of type <code>HBox</code>.</p>\n",
       "<p>\n",
       "  If you're reading this message in the Jupyter Notebook or JupyterLab Notebook, it may mean\n",
       "  that the widgets JavaScript is still loading. If this message persists, it\n",
       "  likely means that the widgets JavaScript library is either not installed or\n",
       "  not enabled. See the <a href=\"https://ipywidgets.readthedocs.io/en/stable/user_install.html\">Jupyter\n",
       "  Widgets Documentation</a> for setup instructions.\n",
       "</p>\n",
       "<p>\n",
       "  If you're reading this message in another frontend (for example, a static\n",
       "  rendering on GitHub or <a href=\"https://nbviewer.jupyter.org/\">NBViewer</a>),\n",
       "  it may mean that your frontend doesn't currently support widgets.\n",
       "</p>\n"
      ],
      "text/plain": [
       "HBox(children=(IntProgress(value=0, max=3020), HTML(value='')))"
      ]
     },
     "metadata": {},
     "output_type": "display_data"
    },
    {
     "name": "stdout",
     "output_type": "stream",
     "text": [
      "\n"
     ]
    },
    {
     "data": {
      "application/vnd.jupyter.widget-view+json": {
       "model_id": "2753040ca2224d9cb5997f8dfeca9930",
       "version_major": 2,
       "version_minor": 0
      },
      "text/html": [
       "<p>Failed to display Jupyter Widget of type <code>HBox</code>.</p>\n",
       "<p>\n",
       "  If you're reading this message in the Jupyter Notebook or JupyterLab Notebook, it may mean\n",
       "  that the widgets JavaScript is still loading. If this message persists, it\n",
       "  likely means that the widgets JavaScript library is either not installed or\n",
       "  not enabled. See the <a href=\"https://ipywidgets.readthedocs.io/en/stable/user_install.html\">Jupyter\n",
       "  Widgets Documentation</a> for setup instructions.\n",
       "</p>\n",
       "<p>\n",
       "  If you're reading this message in another frontend (for example, a static\n",
       "  rendering on GitHub or <a href=\"https://nbviewer.jupyter.org/\">NBViewer</a>),\n",
       "  it may mean that your frontend doesn't currently support widgets.\n",
       "</p>\n"
      ],
      "text/plain": [
       "HBox(children=(IntProgress(value=0, max=378), HTML(value='')))"
      ]
     },
     "metadata": {},
     "output_type": "display_data"
    },
    {
     "name": "stdout",
     "output_type": "stream",
     "text": [
      "\n"
     ]
    },
    {
     "name": "stderr",
     "output_type": "stream",
     "text": [
      "2018-04-23 13:31:39,745 : INFO : loading Word2Vec object from word2vec/MRDataset_200.model\n"
     ]
    },
    {
     "name": "stdout",
     "output_type": "stream",
     "text": [
      "0.6400662251655629 0.6375661375661376\n",
      "MRDataset\n"
     ]
    },
    {
     "name": "stderr",
     "output_type": "stream",
     "text": [
      "2018-04-23 13:31:42,554 : INFO : loading wv recursively from word2vec/MRDataset_200.model.wv.* with mmap=None\n",
      "2018-04-23 13:31:42,556 : INFO : setting ignored attribute syn0norm to None\n",
      "2018-04-23 13:31:42,557 : INFO : setting ignored attribute cum_table to None\n",
      "2018-04-23 13:31:42,557 : INFO : loaded word2vec/MRDataset_200.model\n"
     ]
    },
    {
     "data": {
      "application/vnd.jupyter.widget-view+json": {
       "model_id": "ec9f101e4f174689ae3016d034ce2e3e",
       "version_major": 2,
       "version_minor": 0
      },
      "text/html": [
       "<p>Failed to display Jupyter Widget of type <code>HBox</code>.</p>\n",
       "<p>\n",
       "  If you're reading this message in the Jupyter Notebook or JupyterLab Notebook, it may mean\n",
       "  that the widgets JavaScript is still loading. If this message persists, it\n",
       "  likely means that the widgets JavaScript library is either not installed or\n",
       "  not enabled. See the <a href=\"https://ipywidgets.readthedocs.io/en/stable/user_install.html\">Jupyter\n",
       "  Widgets Documentation</a> for setup instructions.\n",
       "</p>\n",
       "<p>\n",
       "  If you're reading this message in another frontend (for example, a static\n",
       "  rendering on GitHub or <a href=\"https://nbviewer.jupyter.org/\">NBViewer</a>),\n",
       "  it may mean that your frontend doesn't currently support widgets.\n",
       "</p>\n"
      ],
      "text/plain": [
       "HBox(children=(IntProgress(value=0, max=8529), HTML(value='')))"
      ]
     },
     "metadata": {},
     "output_type": "display_data"
    },
    {
     "name": "stdout",
     "output_type": "stream",
     "text": [
      "\n"
     ]
    },
    {
     "data": {
      "application/vnd.jupyter.widget-view+json": {
       "model_id": "2506e3f6b8514d74995e2ec03893c449",
       "version_major": 2,
       "version_minor": 0
      },
      "text/html": [
       "<p>Failed to display Jupyter Widget of type <code>HBox</code>.</p>\n",
       "<p>\n",
       "  If you're reading this message in the Jupyter Notebook or JupyterLab Notebook, it may mean\n",
       "  that the widgets JavaScript is still loading. If this message persists, it\n",
       "  likely means that the widgets JavaScript library is either not installed or\n",
       "  not enabled. See the <a href=\"https://ipywidgets.readthedocs.io/en/stable/user_install.html\">Jupyter\n",
       "  Widgets Documentation</a> for setup instructions.\n",
       "</p>\n",
       "<p>\n",
       "  If you're reading this message in another frontend (for example, a static\n",
       "  rendering on GitHub or <a href=\"https://nbviewer.jupyter.org/\">NBViewer</a>),\n",
       "  it may mean that your frontend doesn't currently support widgets.\n",
       "</p>\n"
      ],
      "text/plain": [
       "HBox(children=(IntProgress(value=0, max=8529), HTML(value='')))"
      ]
     },
     "metadata": {},
     "output_type": "display_data"
    },
    {
     "name": "stdout",
     "output_type": "stream",
     "text": [
      "\n"
     ]
    },
    {
     "data": {
      "application/vnd.jupyter.widget-view+json": {
       "model_id": "cc2833766ed745b09b5f46c4ee8d542b",
       "version_major": 2,
       "version_minor": 0
      },
      "text/html": [
       "<p>Failed to display Jupyter Widget of type <code>HBox</code>.</p>\n",
       "<p>\n",
       "  If you're reading this message in the Jupyter Notebook or JupyterLab Notebook, it may mean\n",
       "  that the widgets JavaScript is still loading. If this message persists, it\n",
       "  likely means that the widgets JavaScript library is either not installed or\n",
       "  not enabled. See the <a href=\"https://ipywidgets.readthedocs.io/en/stable/user_install.html\">Jupyter\n",
       "  Widgets Documentation</a> for setup instructions.\n",
       "</p>\n",
       "<p>\n",
       "  If you're reading this message in another frontend (for example, a static\n",
       "  rendering on GitHub or <a href=\"https://nbviewer.jupyter.org/\">NBViewer</a>),\n",
       "  it may mean that your frontend doesn't currently support widgets.\n",
       "</p>\n"
      ],
      "text/plain": [
       "HBox(children=(IntProgress(value=0, max=1067), HTML(value='')))"
      ]
     },
     "metadata": {},
     "output_type": "display_data"
    },
    {
     "name": "stdout",
     "output_type": "stream",
     "text": [
      "\n"
     ]
    },
    {
     "name": "stderr",
     "output_type": "stream",
     "text": [
      "2018-04-23 13:32:37,987 : INFO : loading Word2Vec object from word2vec/MRDataset_300.model\n"
     ]
    },
    {
     "name": "stdout",
     "output_type": "stream",
     "text": [
      "0.5843592449290655 0.5520149953139644\n",
      "MRDataset\n"
     ]
    },
    {
     "name": "stderr",
     "output_type": "stream",
     "text": [
      "2018-04-23 13:32:42,057 : INFO : loading wv recursively from word2vec/MRDataset_300.model.wv.* with mmap=None\n",
      "2018-04-23 13:32:42,072 : INFO : setting ignored attribute syn0norm to None\n",
      "2018-04-23 13:32:42,072 : INFO : setting ignored attribute cum_table to None\n",
      "2018-04-23 13:32:42,073 : INFO : loaded word2vec/MRDataset_300.model\n"
     ]
    },
    {
     "data": {
      "application/vnd.jupyter.widget-view+json": {
       "model_id": "d8340b5be5914e16b66aadd2cba46f54",
       "version_major": 2,
       "version_minor": 0
      },
      "text/html": [
       "<p>Failed to display Jupyter Widget of type <code>HBox</code>.</p>\n",
       "<p>\n",
       "  If you're reading this message in the Jupyter Notebook or JupyterLab Notebook, it may mean\n",
       "  that the widgets JavaScript is still loading. If this message persists, it\n",
       "  likely means that the widgets JavaScript library is either not installed or\n",
       "  not enabled. See the <a href=\"https://ipywidgets.readthedocs.io/en/stable/user_install.html\">Jupyter\n",
       "  Widgets Documentation</a> for setup instructions.\n",
       "</p>\n",
       "<p>\n",
       "  If you're reading this message in another frontend (for example, a static\n",
       "  rendering on GitHub or <a href=\"https://nbviewer.jupyter.org/\">NBViewer</a>),\n",
       "  it may mean that your frontend doesn't currently support widgets.\n",
       "</p>\n"
      ],
      "text/plain": [
       "HBox(children=(IntProgress(value=0, max=8529), HTML(value='')))"
      ]
     },
     "metadata": {},
     "output_type": "display_data"
    },
    {
     "name": "stdout",
     "output_type": "stream",
     "text": [
      "\n"
     ]
    },
    {
     "data": {
      "application/vnd.jupyter.widget-view+json": {
       "model_id": "cf9eeb408f45471cace50649c9ea02c4",
       "version_major": 2,
       "version_minor": 0
      },
      "text/html": [
       "<p>Failed to display Jupyter Widget of type <code>HBox</code>.</p>\n",
       "<p>\n",
       "  If you're reading this message in the Jupyter Notebook or JupyterLab Notebook, it may mean\n",
       "  that the widgets JavaScript is still loading. If this message persists, it\n",
       "  likely means that the widgets JavaScript library is either not installed or\n",
       "  not enabled. See the <a href=\"https://ipywidgets.readthedocs.io/en/stable/user_install.html\">Jupyter\n",
       "  Widgets Documentation</a> for setup instructions.\n",
       "</p>\n",
       "<p>\n",
       "  If you're reading this message in another frontend (for example, a static\n",
       "  rendering on GitHub or <a href=\"https://nbviewer.jupyter.org/\">NBViewer</a>),\n",
       "  it may mean that your frontend doesn't currently support widgets.\n",
       "</p>\n"
      ],
      "text/plain": [
       "HBox(children=(IntProgress(value=0, max=8529), HTML(value='')))"
      ]
     },
     "metadata": {},
     "output_type": "display_data"
    },
    {
     "name": "stdout",
     "output_type": "stream",
     "text": [
      "\n"
     ]
    },
    {
     "data": {
      "application/vnd.jupyter.widget-view+json": {
       "model_id": "9991c0c8e6e542a5b2449bb4ce5eb288",
       "version_major": 2,
       "version_minor": 0
      },
      "text/html": [
       "<p>Failed to display Jupyter Widget of type <code>HBox</code>.</p>\n",
       "<p>\n",
       "  If you're reading this message in the Jupyter Notebook or JupyterLab Notebook, it may mean\n",
       "  that the widgets JavaScript is still loading. If this message persists, it\n",
       "  likely means that the widgets JavaScript library is either not installed or\n",
       "  not enabled. See the <a href=\"https://ipywidgets.readthedocs.io/en/stable/user_install.html\">Jupyter\n",
       "  Widgets Documentation</a> for setup instructions.\n",
       "</p>\n",
       "<p>\n",
       "  If you're reading this message in another frontend (for example, a static\n",
       "  rendering on GitHub or <a href=\"https://nbviewer.jupyter.org/\">NBViewer</a>),\n",
       "  it may mean that your frontend doesn't currently support widgets.\n",
       "</p>\n"
      ],
      "text/plain": [
       "HBox(children=(IntProgress(value=0, max=1067), HTML(value='')))"
      ]
     },
     "metadata": {},
     "output_type": "display_data"
    },
    {
     "name": "stdout",
     "output_type": "stream",
     "text": [
      "\n"
     ]
    },
    {
     "name": "stderr",
     "output_type": "stream",
     "text": [
      "2018-04-23 13:34:00,491 : INFO : loading Word2Vec object from word2vec/MRDataset_400.model\n"
     ]
    },
    {
     "name": "stdout",
     "output_type": "stream",
     "text": [
      "0.5790831281510143 0.5473289597000937\n",
      "MRDataset\n"
     ]
    },
    {
     "name": "stderr",
     "output_type": "stream",
     "text": [
      "2018-04-23 13:34:04,731 : INFO : loading wv recursively from word2vec/MRDataset_400.model.wv.* with mmap=None\n",
      "2018-04-23 13:34:04,734 : INFO : setting ignored attribute syn0norm to None\n",
      "2018-04-23 13:34:04,735 : INFO : setting ignored attribute cum_table to None\n",
      "2018-04-23 13:34:04,735 : INFO : loaded word2vec/MRDataset_400.model\n"
     ]
    },
    {
     "data": {
      "application/vnd.jupyter.widget-view+json": {
       "model_id": "4d81273e81984858b56817166eeb69ee",
       "version_major": 2,
       "version_minor": 0
      },
      "text/html": [
       "<p>Failed to display Jupyter Widget of type <code>HBox</code>.</p>\n",
       "<p>\n",
       "  If you're reading this message in the Jupyter Notebook or JupyterLab Notebook, it may mean\n",
       "  that the widgets JavaScript is still loading. If this message persists, it\n",
       "  likely means that the widgets JavaScript library is either not installed or\n",
       "  not enabled. See the <a href=\"https://ipywidgets.readthedocs.io/en/stable/user_install.html\">Jupyter\n",
       "  Widgets Documentation</a> for setup instructions.\n",
       "</p>\n",
       "<p>\n",
       "  If you're reading this message in another frontend (for example, a static\n",
       "  rendering on GitHub or <a href=\"https://nbviewer.jupyter.org/\">NBViewer</a>),\n",
       "  it may mean that your frontend doesn't currently support widgets.\n",
       "</p>\n"
      ],
      "text/plain": [
       "HBox(children=(IntProgress(value=0, max=8529), HTML(value='')))"
      ]
     },
     "metadata": {},
     "output_type": "display_data"
    },
    {
     "name": "stdout",
     "output_type": "stream",
     "text": [
      "\n"
     ]
    },
    {
     "data": {
      "application/vnd.jupyter.widget-view+json": {
       "model_id": "613b192c4d4d47f199382cf4401df99b",
       "version_major": 2,
       "version_minor": 0
      },
      "text/html": [
       "<p>Failed to display Jupyter Widget of type <code>HBox</code>.</p>\n",
       "<p>\n",
       "  If you're reading this message in the Jupyter Notebook or JupyterLab Notebook, it may mean\n",
       "  that the widgets JavaScript is still loading. If this message persists, it\n",
       "  likely means that the widgets JavaScript library is either not installed or\n",
       "  not enabled. See the <a href=\"https://ipywidgets.readthedocs.io/en/stable/user_install.html\">Jupyter\n",
       "  Widgets Documentation</a> for setup instructions.\n",
       "</p>\n",
       "<p>\n",
       "  If you're reading this message in another frontend (for example, a static\n",
       "  rendering on GitHub or <a href=\"https://nbviewer.jupyter.org/\">NBViewer</a>),\n",
       "  it may mean that your frontend doesn't currently support widgets.\n",
       "</p>\n"
      ],
      "text/plain": [
       "HBox(children=(IntProgress(value=0, max=8529), HTML(value='')))"
      ]
     },
     "metadata": {},
     "output_type": "display_data"
    },
    {
     "name": "stdout",
     "output_type": "stream",
     "text": [
      "\n"
     ]
    },
    {
     "data": {
      "application/vnd.jupyter.widget-view+json": {
       "model_id": "d5b4f72e6ec24693ba3ee0c6fa86603e",
       "version_major": 2,
       "version_minor": 0
      },
      "text/html": [
       "<p>Failed to display Jupyter Widget of type <code>HBox</code>.</p>\n",
       "<p>\n",
       "  If you're reading this message in the Jupyter Notebook or JupyterLab Notebook, it may mean\n",
       "  that the widgets JavaScript is still loading. If this message persists, it\n",
       "  likely means that the widgets JavaScript library is either not installed or\n",
       "  not enabled. See the <a href=\"https://ipywidgets.readthedocs.io/en/stable/user_install.html\">Jupyter\n",
       "  Widgets Documentation</a> for setup instructions.\n",
       "</p>\n",
       "<p>\n",
       "  If you're reading this message in another frontend (for example, a static\n",
       "  rendering on GitHub or <a href=\"https://nbviewer.jupyter.org/\">NBViewer</a>),\n",
       "  it may mean that your frontend doesn't currently support widgets.\n",
       "</p>\n"
      ],
      "text/plain": [
       "HBox(children=(IntProgress(value=0, max=1067), HTML(value='')))"
      ]
     },
     "metadata": {},
     "output_type": "display_data"
    },
    {
     "name": "stdout",
     "output_type": "stream",
     "text": [
      "\n"
     ]
    },
    {
     "name": "stderr",
     "output_type": "stream",
     "text": [
      "2018-04-23 13:35:44,860 : INFO : loading Word2Vec object from word2vec/SUBJDataset_200.model\n"
     ]
    },
    {
     "name": "stdout",
     "output_type": "stream",
     "text": [
      "0.5774416695978426 0.5463917525773196\n",
      "SUBJDataset\n"
     ]
    },
    {
     "name": "stderr",
     "output_type": "stream",
     "text": [
      "2018-04-23 13:35:49,576 : INFO : loading wv recursively from word2vec/SUBJDataset_200.model.wv.* with mmap=None\n",
      "2018-04-23 13:35:49,593 : INFO : setting ignored attribute syn0norm to None\n",
      "2018-04-23 13:35:49,596 : INFO : setting ignored attribute cum_table to None\n",
      "2018-04-23 13:35:49,599 : INFO : loaded word2vec/SUBJDataset_200.model\n"
     ]
    },
    {
     "data": {
      "application/vnd.jupyter.widget-view+json": {
       "model_id": "aeab666282cd45cd8a7dc4163f8e6bde",
       "version_major": 2,
       "version_minor": 0
      },
      "text/html": [
       "<p>Failed to display Jupyter Widget of type <code>HBox</code>.</p>\n",
       "<p>\n",
       "  If you're reading this message in the Jupyter Notebook or JupyterLab Notebook, it may mean\n",
       "  that the widgets JavaScript is still loading. If this message persists, it\n",
       "  likely means that the widgets JavaScript library is either not installed or\n",
       "  not enabled. See the <a href=\"https://ipywidgets.readthedocs.io/en/stable/user_install.html\">Jupyter\n",
       "  Widgets Documentation</a> for setup instructions.\n",
       "</p>\n",
       "<p>\n",
       "  If you're reading this message in another frontend (for example, a static\n",
       "  rendering on GitHub or <a href=\"https://nbviewer.jupyter.org/\">NBViewer</a>),\n",
       "  it may mean that your frontend doesn't currently support widgets.\n",
       "</p>\n"
      ],
      "text/plain": [
       "HBox(children=(IntProgress(value=0, max=8000), HTML(value='')))"
      ]
     },
     "metadata": {},
     "output_type": "display_data"
    },
    {
     "name": "stdout",
     "output_type": "stream",
     "text": [
      "\n"
     ]
    },
    {
     "data": {
      "application/vnd.jupyter.widget-view+json": {
       "model_id": "7c101664a4144e449d748c86e7a41661",
       "version_major": 2,
       "version_minor": 0
      },
      "text/html": [
       "<p>Failed to display Jupyter Widget of type <code>HBox</code>.</p>\n",
       "<p>\n",
       "  If you're reading this message in the Jupyter Notebook or JupyterLab Notebook, it may mean\n",
       "  that the widgets JavaScript is still loading. If this message persists, it\n",
       "  likely means that the widgets JavaScript library is either not installed or\n",
       "  not enabled. See the <a href=\"https://ipywidgets.readthedocs.io/en/stable/user_install.html\">Jupyter\n",
       "  Widgets Documentation</a> for setup instructions.\n",
       "</p>\n",
       "<p>\n",
       "  If you're reading this message in another frontend (for example, a static\n",
       "  rendering on GitHub or <a href=\"https://nbviewer.jupyter.org/\">NBViewer</a>),\n",
       "  it may mean that your frontend doesn't currently support widgets.\n",
       "</p>\n"
      ],
      "text/plain": [
       "HBox(children=(IntProgress(value=0, max=8000), HTML(value='')))"
      ]
     },
     "metadata": {},
     "output_type": "display_data"
    },
    {
     "name": "stdout",
     "output_type": "stream",
     "text": [
      "\n"
     ]
    },
    {
     "data": {
      "application/vnd.jupyter.widget-view+json": {
       "model_id": "4596abc4a9134b96ae03394ef6e0494c",
       "version_major": 2,
       "version_minor": 0
      },
      "text/html": [
       "<p>Failed to display Jupyter Widget of type <code>HBox</code>.</p>\n",
       "<p>\n",
       "  If you're reading this message in the Jupyter Notebook or JupyterLab Notebook, it may mean\n",
       "  that the widgets JavaScript is still loading. If this message persists, it\n",
       "  likely means that the widgets JavaScript library is either not installed or\n",
       "  not enabled. See the <a href=\"https://ipywidgets.readthedocs.io/en/stable/user_install.html\">Jupyter\n",
       "  Widgets Documentation</a> for setup instructions.\n",
       "</p>\n",
       "<p>\n",
       "  If you're reading this message in another frontend (for example, a static\n",
       "  rendering on GitHub or <a href=\"https://nbviewer.jupyter.org/\">NBViewer</a>),\n",
       "  it may mean that your frontend doesn't currently support widgets.\n",
       "</p>\n"
      ],
      "text/plain": [
       "HBox(children=(IntProgress(value=0, max=1000), HTML(value='')))"
      ]
     },
     "metadata": {},
     "output_type": "display_data"
    },
    {
     "name": "stdout",
     "output_type": "stream",
     "text": [
      "\n"
     ]
    },
    {
     "name": "stderr",
     "output_type": "stream",
     "text": [
      "2018-04-23 13:36:34,419 : INFO : loading Word2Vec object from word2vec/SUBJDataset_300.model\n"
     ]
    },
    {
     "name": "stdout",
     "output_type": "stream",
     "text": [
      "0.694375 0.6719999999999999\n",
      "SUBJDataset\n"
     ]
    },
    {
     "name": "stderr",
     "output_type": "stream",
     "text": [
      "2018-04-23 13:36:37,624 : INFO : loading wv recursively from word2vec/SUBJDataset_300.model.wv.* with mmap=None\n",
      "2018-04-23 13:36:37,627 : INFO : setting ignored attribute syn0norm to None\n",
      "2018-04-23 13:36:37,627 : INFO : setting ignored attribute cum_table to None\n",
      "2018-04-23 13:36:37,627 : INFO : loaded word2vec/SUBJDataset_300.model\n"
     ]
    },
    {
     "data": {
      "application/vnd.jupyter.widget-view+json": {
       "model_id": "6419262fa27c4ab5b8df5a41904a4f66",
       "version_major": 2,
       "version_minor": 0
      },
      "text/html": [
       "<p>Failed to display Jupyter Widget of type <code>HBox</code>.</p>\n",
       "<p>\n",
       "  If you're reading this message in the Jupyter Notebook or JupyterLab Notebook, it may mean\n",
       "  that the widgets JavaScript is still loading. If this message persists, it\n",
       "  likely means that the widgets JavaScript library is either not installed or\n",
       "  not enabled. See the <a href=\"https://ipywidgets.readthedocs.io/en/stable/user_install.html\">Jupyter\n",
       "  Widgets Documentation</a> for setup instructions.\n",
       "</p>\n",
       "<p>\n",
       "  If you're reading this message in another frontend (for example, a static\n",
       "  rendering on GitHub or <a href=\"https://nbviewer.jupyter.org/\">NBViewer</a>),\n",
       "  it may mean that your frontend doesn't currently support widgets.\n",
       "</p>\n"
      ],
      "text/plain": [
       "HBox(children=(IntProgress(value=0, max=8000), HTML(value='')))"
      ]
     },
     "metadata": {},
     "output_type": "display_data"
    },
    {
     "name": "stdout",
     "output_type": "stream",
     "text": [
      "\n"
     ]
    },
    {
     "data": {
      "application/vnd.jupyter.widget-view+json": {
       "model_id": "bab403fe4a9040949bad8c43c6c7989b",
       "version_major": 2,
       "version_minor": 0
      },
      "text/html": [
       "<p>Failed to display Jupyter Widget of type <code>HBox</code>.</p>\n",
       "<p>\n",
       "  If you're reading this message in the Jupyter Notebook or JupyterLab Notebook, it may mean\n",
       "  that the widgets JavaScript is still loading. If this message persists, it\n",
       "  likely means that the widgets JavaScript library is either not installed or\n",
       "  not enabled. See the <a href=\"https://ipywidgets.readthedocs.io/en/stable/user_install.html\">Jupyter\n",
       "  Widgets Documentation</a> for setup instructions.\n",
       "</p>\n",
       "<p>\n",
       "  If you're reading this message in another frontend (for example, a static\n",
       "  rendering on GitHub or <a href=\"https://nbviewer.jupyter.org/\">NBViewer</a>),\n",
       "  it may mean that your frontend doesn't currently support widgets.\n",
       "</p>\n"
      ],
      "text/plain": [
       "HBox(children=(IntProgress(value=0, max=8000), HTML(value='')))"
      ]
     },
     "metadata": {},
     "output_type": "display_data"
    },
    {
     "name": "stdout",
     "output_type": "stream",
     "text": [
      "\n"
     ]
    },
    {
     "data": {
      "application/vnd.jupyter.widget-view+json": {
       "model_id": "b22523e1ffb84f1aa929dd19de2b511f",
       "version_major": 2,
       "version_minor": 0
      },
      "text/html": [
       "<p>Failed to display Jupyter Widget of type <code>HBox</code>.</p>\n",
       "<p>\n",
       "  If you're reading this message in the Jupyter Notebook or JupyterLab Notebook, it may mean\n",
       "  that the widgets JavaScript is still loading. If this message persists, it\n",
       "  likely means that the widgets JavaScript library is either not installed or\n",
       "  not enabled. See the <a href=\"https://ipywidgets.readthedocs.io/en/stable/user_install.html\">Jupyter\n",
       "  Widgets Documentation</a> for setup instructions.\n",
       "</p>\n",
       "<p>\n",
       "  If you're reading this message in another frontend (for example, a static\n",
       "  rendering on GitHub or <a href=\"https://nbviewer.jupyter.org/\">NBViewer</a>),\n",
       "  it may mean that your frontend doesn't currently support widgets.\n",
       "</p>\n"
      ],
      "text/plain": [
       "HBox(children=(IntProgress(value=0, max=1000), HTML(value='')))"
      ]
     },
     "metadata": {},
     "output_type": "display_data"
    },
    {
     "name": "stdout",
     "output_type": "stream",
     "text": [
      "\n"
     ]
    },
    {
     "name": "stderr",
     "output_type": "stream",
     "text": [
      "2018-04-23 13:37:42,303 : INFO : loading Word2Vec object from word2vec/SUBJDataset_400.model\n"
     ]
    },
    {
     "name": "stdout",
     "output_type": "stream",
     "text": [
      "0.67675 0.663\n",
      "SUBJDataset\n"
     ]
    },
    {
     "name": "stderr",
     "output_type": "stream",
     "text": [
      "2018-04-23 13:37:45,795 : INFO : loading wv recursively from word2vec/SUBJDataset_400.model.wv.* with mmap=None\n",
      "2018-04-23 13:37:45,797 : INFO : setting ignored attribute syn0norm to None\n",
      "2018-04-23 13:37:45,798 : INFO : setting ignored attribute cum_table to None\n",
      "2018-04-23 13:37:45,798 : INFO : loaded word2vec/SUBJDataset_400.model\n"
     ]
    },
    {
     "data": {
      "application/vnd.jupyter.widget-view+json": {
       "model_id": "0a15f70d532844a0bd3e7251d5c98b3a",
       "version_major": 2,
       "version_minor": 0
      },
      "text/html": [
       "<p>Failed to display Jupyter Widget of type <code>HBox</code>.</p>\n",
       "<p>\n",
       "  If you're reading this message in the Jupyter Notebook or JupyterLab Notebook, it may mean\n",
       "  that the widgets JavaScript is still loading. If this message persists, it\n",
       "  likely means that the widgets JavaScript library is either not installed or\n",
       "  not enabled. See the <a href=\"https://ipywidgets.readthedocs.io/en/stable/user_install.html\">Jupyter\n",
       "  Widgets Documentation</a> for setup instructions.\n",
       "</p>\n",
       "<p>\n",
       "  If you're reading this message in another frontend (for example, a static\n",
       "  rendering on GitHub or <a href=\"https://nbviewer.jupyter.org/\">NBViewer</a>),\n",
       "  it may mean that your frontend doesn't currently support widgets.\n",
       "</p>\n"
      ],
      "text/plain": [
       "HBox(children=(IntProgress(value=0, max=8000), HTML(value='')))"
      ]
     },
     "metadata": {},
     "output_type": "display_data"
    },
    {
     "name": "stdout",
     "output_type": "stream",
     "text": [
      "\n"
     ]
    },
    {
     "data": {
      "application/vnd.jupyter.widget-view+json": {
       "model_id": "7a9268041da34e529c8a4b48cdc919e7",
       "version_major": 2,
       "version_minor": 0
      },
      "text/html": [
       "<p>Failed to display Jupyter Widget of type <code>HBox</code>.</p>\n",
       "<p>\n",
       "  If you're reading this message in the Jupyter Notebook or JupyterLab Notebook, it may mean\n",
       "  that the widgets JavaScript is still loading. If this message persists, it\n",
       "  likely means that the widgets JavaScript library is either not installed or\n",
       "  not enabled. See the <a href=\"https://ipywidgets.readthedocs.io/en/stable/user_install.html\">Jupyter\n",
       "  Widgets Documentation</a> for setup instructions.\n",
       "</p>\n",
       "<p>\n",
       "  If you're reading this message in another frontend (for example, a static\n",
       "  rendering on GitHub or <a href=\"https://nbviewer.jupyter.org/\">NBViewer</a>),\n",
       "  it may mean that your frontend doesn't currently support widgets.\n",
       "</p>\n"
      ],
      "text/plain": [
       "HBox(children=(IntProgress(value=0, max=8000), HTML(value='')))"
      ]
     },
     "metadata": {},
     "output_type": "display_data"
    },
    {
     "name": "stdout",
     "output_type": "stream",
     "text": [
      "\n"
     ]
    },
    {
     "data": {
      "application/vnd.jupyter.widget-view+json": {
       "model_id": "749d92686a6f4556b74f2c8ff175b0ac",
       "version_major": 2,
       "version_minor": 0
      },
      "text/html": [
       "<p>Failed to display Jupyter Widget of type <code>HBox</code>.</p>\n",
       "<p>\n",
       "  If you're reading this message in the Jupyter Notebook or JupyterLab Notebook, it may mean\n",
       "  that the widgets JavaScript is still loading. If this message persists, it\n",
       "  likely means that the widgets JavaScript library is either not installed or\n",
       "  not enabled. See the <a href=\"https://ipywidgets.readthedocs.io/en/stable/user_install.html\">Jupyter\n",
       "  Widgets Documentation</a> for setup instructions.\n",
       "</p>\n",
       "<p>\n",
       "  If you're reading this message in another frontend (for example, a static\n",
       "  rendering on GitHub or <a href=\"https://nbviewer.jupyter.org/\">NBViewer</a>),\n",
       "  it may mean that your frontend doesn't currently support widgets.\n",
       "</p>\n"
      ],
      "text/plain": [
       "HBox(children=(IntProgress(value=0, max=1000), HTML(value='')))"
      ]
     },
     "metadata": {},
     "output_type": "display_data"
    },
    {
     "name": "stdout",
     "output_type": "stream",
     "text": [
      "\n"
     ]
    },
    {
     "name": "stderr",
     "output_type": "stream",
     "text": [
      "2018-04-23 13:39:07,209 : INFO : loading Word2Vec object from word2vec/MPQADataset_200.model\n"
     ]
    },
    {
     "name": "stdout",
     "output_type": "stream",
     "text": [
      "0.65925 0.635\n",
      "MPQADataset\n"
     ]
    },
    {
     "name": "stderr",
     "output_type": "stream",
     "text": [
      "2018-04-23 13:39:07,977 : INFO : loading wv recursively from word2vec/MPQADataset_200.model.wv.* with mmap=None\n",
      "2018-04-23 13:39:07,978 : INFO : setting ignored attribute syn0norm to None\n",
      "2018-04-23 13:39:07,979 : INFO : setting ignored attribute cum_table to None\n",
      "2018-04-23 13:39:07,980 : INFO : loaded word2vec/MPQADataset_200.model\n"
     ]
    },
    {
     "data": {
      "application/vnd.jupyter.widget-view+json": {
       "model_id": "513336ea6e2e4391a9ccdb3ce7ce56f2",
       "version_major": 2,
       "version_minor": 0
      },
      "text/html": [
       "<p>Failed to display Jupyter Widget of type <code>HBox</code>.</p>\n",
       "<p>\n",
       "  If you're reading this message in the Jupyter Notebook or JupyterLab Notebook, it may mean\n",
       "  that the widgets JavaScript is still loading. If this message persists, it\n",
       "  likely means that the widgets JavaScript library is either not installed or\n",
       "  not enabled. See the <a href=\"https://ipywidgets.readthedocs.io/en/stable/user_install.html\">Jupyter\n",
       "  Widgets Documentation</a> for setup instructions.\n",
       "</p>\n",
       "<p>\n",
       "  If you're reading this message in another frontend (for example, a static\n",
       "  rendering on GitHub or <a href=\"https://nbviewer.jupyter.org/\">NBViewer</a>),\n",
       "  it may mean that your frontend doesn't currently support widgets.\n",
       "</p>\n"
      ],
      "text/plain": [
       "HBox(children=(IntProgress(value=0, max=8484), HTML(value='')))"
      ]
     },
     "metadata": {},
     "output_type": "display_data"
    },
    {
     "name": "stdout",
     "output_type": "stream",
     "text": [
      "\n"
     ]
    },
    {
     "data": {
      "application/vnd.jupyter.widget-view+json": {
       "model_id": "38d71419f5c145c8b11a8f71602499bb",
       "version_major": 2,
       "version_minor": 0
      },
      "text/html": [
       "<p>Failed to display Jupyter Widget of type <code>HBox</code>.</p>\n",
       "<p>\n",
       "  If you're reading this message in the Jupyter Notebook or JupyterLab Notebook, it may mean\n",
       "  that the widgets JavaScript is still loading. If this message persists, it\n",
       "  likely means that the widgets JavaScript library is either not installed or\n",
       "  not enabled. See the <a href=\"https://ipywidgets.readthedocs.io/en/stable/user_install.html\">Jupyter\n",
       "  Widgets Documentation</a> for setup instructions.\n",
       "</p>\n",
       "<p>\n",
       "  If you're reading this message in another frontend (for example, a static\n",
       "  rendering on GitHub or <a href=\"https://nbviewer.jupyter.org/\">NBViewer</a>),\n",
       "  it may mean that your frontend doesn't currently support widgets.\n",
       "</p>\n"
      ],
      "text/plain": [
       "HBox(children=(IntProgress(value=0, max=8484), HTML(value='')))"
      ]
     },
     "metadata": {},
     "output_type": "display_data"
    },
    {
     "name": "stdout",
     "output_type": "stream",
     "text": [
      "\n"
     ]
    },
    {
     "data": {
      "application/vnd.jupyter.widget-view+json": {
       "model_id": "c4af4f5c490945e48ab95bd0ba995902",
       "version_major": 2,
       "version_minor": 0
      },
      "text/html": [
       "<p>Failed to display Jupyter Widget of type <code>HBox</code>.</p>\n",
       "<p>\n",
       "  If you're reading this message in the Jupyter Notebook or JupyterLab Notebook, it may mean\n",
       "  that the widgets JavaScript is still loading. If this message persists, it\n",
       "  likely means that the widgets JavaScript library is either not installed or\n",
       "  not enabled. See the <a href=\"https://ipywidgets.readthedocs.io/en/stable/user_install.html\">Jupyter\n",
       "  Widgets Documentation</a> for setup instructions.\n",
       "</p>\n",
       "<p>\n",
       "  If you're reading this message in another frontend (for example, a static\n",
       "  rendering on GitHub or <a href=\"https://nbviewer.jupyter.org/\">NBViewer</a>),\n",
       "  it may mean that your frontend doesn't currently support widgets.\n",
       "</p>\n"
      ],
      "text/plain": [
       "HBox(children=(IntProgress(value=0, max=1061), HTML(value='')))"
      ]
     },
     "metadata": {},
     "output_type": "display_data"
    },
    {
     "name": "stdout",
     "output_type": "stream",
     "text": [
      "\n"
     ]
    },
    {
     "name": "stderr",
     "output_type": "stream",
     "text": [
      "2018-04-23 13:39:44,913 : INFO : loading Word2Vec object from word2vec/MPQADataset_300.model\n"
     ]
    },
    {
     "name": "stdout",
     "output_type": "stream",
     "text": [
      "0.6877652050919378 0.6880301602262017\n",
      "MPQADataset\n"
     ]
    },
    {
     "name": "stderr",
     "output_type": "stream",
     "text": [
      "2018-04-23 13:39:46,031 : INFO : loading wv recursively from word2vec/MPQADataset_300.model.wv.* with mmap=None\n",
      "2018-04-23 13:39:46,059 : INFO : setting ignored attribute syn0norm to None\n",
      "2018-04-23 13:39:46,062 : INFO : setting ignored attribute cum_table to None\n",
      "2018-04-23 13:39:46,064 : INFO : loaded word2vec/MPQADataset_300.model\n"
     ]
    },
    {
     "data": {
      "application/vnd.jupyter.widget-view+json": {
       "model_id": "840093795db346529280de7bfca4b042",
       "version_major": 2,
       "version_minor": 0
      },
      "text/html": [
       "<p>Failed to display Jupyter Widget of type <code>HBox</code>.</p>\n",
       "<p>\n",
       "  If you're reading this message in the Jupyter Notebook or JupyterLab Notebook, it may mean\n",
       "  that the widgets JavaScript is still loading. If this message persists, it\n",
       "  likely means that the widgets JavaScript library is either not installed or\n",
       "  not enabled. See the <a href=\"https://ipywidgets.readthedocs.io/en/stable/user_install.html\">Jupyter\n",
       "  Widgets Documentation</a> for setup instructions.\n",
       "</p>\n",
       "<p>\n",
       "  If you're reading this message in another frontend (for example, a static\n",
       "  rendering on GitHub or <a href=\"https://nbviewer.jupyter.org/\">NBViewer</a>),\n",
       "  it may mean that your frontend doesn't currently support widgets.\n",
       "</p>\n"
      ],
      "text/plain": [
       "HBox(children=(IntProgress(value=0, max=8484), HTML(value='')))"
      ]
     },
     "metadata": {},
     "output_type": "display_data"
    },
    {
     "name": "stdout",
     "output_type": "stream",
     "text": [
      "\n"
     ]
    },
    {
     "data": {
      "application/vnd.jupyter.widget-view+json": {
       "model_id": "e4353862924949ed965f641179c7a1c7",
       "version_major": 2,
       "version_minor": 0
      },
      "text/html": [
       "<p>Failed to display Jupyter Widget of type <code>HBox</code>.</p>\n",
       "<p>\n",
       "  If you're reading this message in the Jupyter Notebook or JupyterLab Notebook, it may mean\n",
       "  that the widgets JavaScript is still loading. If this message persists, it\n",
       "  likely means that the widgets JavaScript library is either not installed or\n",
       "  not enabled. See the <a href=\"https://ipywidgets.readthedocs.io/en/stable/user_install.html\">Jupyter\n",
       "  Widgets Documentation</a> for setup instructions.\n",
       "</p>\n",
       "<p>\n",
       "  If you're reading this message in another frontend (for example, a static\n",
       "  rendering on GitHub or <a href=\"https://nbviewer.jupyter.org/\">NBViewer</a>),\n",
       "  it may mean that your frontend doesn't currently support widgets.\n",
       "</p>\n"
      ],
      "text/plain": [
       "HBox(children=(IntProgress(value=0, max=8484), HTML(value='')))"
      ]
     },
     "metadata": {},
     "output_type": "display_data"
    },
    {
     "name": "stdout",
     "output_type": "stream",
     "text": [
      "\n"
     ]
    },
    {
     "data": {
      "application/vnd.jupyter.widget-view+json": {
       "model_id": "dfdfc9079d6c4f968b8ed66d43bb74df",
       "version_major": 2,
       "version_minor": 0
      },
      "text/html": [
       "<p>Failed to display Jupyter Widget of type <code>HBox</code>.</p>\n",
       "<p>\n",
       "  If you're reading this message in the Jupyter Notebook or JupyterLab Notebook, it may mean\n",
       "  that the widgets JavaScript is still loading. If this message persists, it\n",
       "  likely means that the widgets JavaScript library is either not installed or\n",
       "  not enabled. See the <a href=\"https://ipywidgets.readthedocs.io/en/stable/user_install.html\">Jupyter\n",
       "  Widgets Documentation</a> for setup instructions.\n",
       "</p>\n",
       "<p>\n",
       "  If you're reading this message in another frontend (for example, a static\n",
       "  rendering on GitHub or <a href=\"https://nbviewer.jupyter.org/\">NBViewer</a>),\n",
       "  it may mean that your frontend doesn't currently support widgets.\n",
       "</p>\n"
      ],
      "text/plain": [
       "HBox(children=(IntProgress(value=0, max=1061), HTML(value='')))"
      ]
     },
     "metadata": {},
     "output_type": "display_data"
    },
    {
     "name": "stdout",
     "output_type": "stream",
     "text": [
      "\n"
     ]
    },
    {
     "name": "stderr",
     "output_type": "stream",
     "text": [
      "2018-04-23 13:40:39,265 : INFO : loading Word2Vec object from word2vec/MPQADataset_400.model\n"
     ]
    },
    {
     "name": "stdout",
     "output_type": "stream",
     "text": [
      "0.6877652050919378 0.6880301602262017\n",
      "MPQADataset\n"
     ]
    },
    {
     "name": "stderr",
     "output_type": "stream",
     "text": [
      "2018-04-23 13:40:40,365 : INFO : loading wv recursively from word2vec/MPQADataset_400.model.wv.* with mmap=None\n",
      "2018-04-23 13:40:40,367 : INFO : setting ignored attribute syn0norm to None\n",
      "2018-04-23 13:40:40,367 : INFO : setting ignored attribute cum_table to None\n",
      "2018-04-23 13:40:40,368 : INFO : loaded word2vec/MPQADataset_400.model\n"
     ]
    },
    {
     "data": {
      "application/vnd.jupyter.widget-view+json": {
       "model_id": "ad23f0a6f1b74bd1aa77238fd2b9b676",
       "version_major": 2,
       "version_minor": 0
      },
      "text/html": [
       "<p>Failed to display Jupyter Widget of type <code>HBox</code>.</p>\n",
       "<p>\n",
       "  If you're reading this message in the Jupyter Notebook or JupyterLab Notebook, it may mean\n",
       "  that the widgets JavaScript is still loading. If this message persists, it\n",
       "  likely means that the widgets JavaScript library is either not installed or\n",
       "  not enabled. See the <a href=\"https://ipywidgets.readthedocs.io/en/stable/user_install.html\">Jupyter\n",
       "  Widgets Documentation</a> for setup instructions.\n",
       "</p>\n",
       "<p>\n",
       "  If you're reading this message in another frontend (for example, a static\n",
       "  rendering on GitHub or <a href=\"https://nbviewer.jupyter.org/\">NBViewer</a>),\n",
       "  it may mean that your frontend doesn't currently support widgets.\n",
       "</p>\n"
      ],
      "text/plain": [
       "HBox(children=(IntProgress(value=0, max=8484), HTML(value='')))"
      ]
     },
     "metadata": {},
     "output_type": "display_data"
    },
    {
     "name": "stdout",
     "output_type": "stream",
     "text": [
      "\n"
     ]
    },
    {
     "data": {
      "application/vnd.jupyter.widget-view+json": {
       "model_id": "c10665555d2e46e690ab10dc02c7db44",
       "version_major": 2,
       "version_minor": 0
      },
      "text/html": [
       "<p>Failed to display Jupyter Widget of type <code>HBox</code>.</p>\n",
       "<p>\n",
       "  If you're reading this message in the Jupyter Notebook or JupyterLab Notebook, it may mean\n",
       "  that the widgets JavaScript is still loading. If this message persists, it\n",
       "  likely means that the widgets JavaScript library is either not installed or\n",
       "  not enabled. See the <a href=\"https://ipywidgets.readthedocs.io/en/stable/user_install.html\">Jupyter\n",
       "  Widgets Documentation</a> for setup instructions.\n",
       "</p>\n",
       "<p>\n",
       "  If you're reading this message in another frontend (for example, a static\n",
       "  rendering on GitHub or <a href=\"https://nbviewer.jupyter.org/\">NBViewer</a>),\n",
       "  it may mean that your frontend doesn't currently support widgets.\n",
       "</p>\n"
      ],
      "text/plain": [
       "HBox(children=(IntProgress(value=0, max=8484), HTML(value='')))"
      ]
     },
     "metadata": {},
     "output_type": "display_data"
    },
    {
     "name": "stdout",
     "output_type": "stream",
     "text": [
      "\n"
     ]
    },
    {
     "data": {
      "application/vnd.jupyter.widget-view+json": {
       "model_id": "b1095c7135664dc5970793ea1abfabab",
       "version_major": 2,
       "version_minor": 0
      },
      "text/html": [
       "<p>Failed to display Jupyter Widget of type <code>HBox</code>.</p>\n",
       "<p>\n",
       "  If you're reading this message in the Jupyter Notebook or JupyterLab Notebook, it may mean\n",
       "  that the widgets JavaScript is still loading. If this message persists, it\n",
       "  likely means that the widgets JavaScript library is either not installed or\n",
       "  not enabled. See the <a href=\"https://ipywidgets.readthedocs.io/en/stable/user_install.html\">Jupyter\n",
       "  Widgets Documentation</a> for setup instructions.\n",
       "</p>\n",
       "<p>\n",
       "  If you're reading this message in another frontend (for example, a static\n",
       "  rendering on GitHub or <a href=\"https://nbviewer.jupyter.org/\">NBViewer</a>),\n",
       "  it may mean that your frontend doesn't currently support widgets.\n",
       "</p>\n"
      ],
      "text/plain": [
       "HBox(children=(IntProgress(value=0, max=1061), HTML(value='')))"
      ]
     },
     "metadata": {},
     "output_type": "display_data"
    },
    {
     "name": "stdout",
     "output_type": "stream",
     "text": [
      "\n"
     ]
    },
    {
     "name": "stderr",
     "output_type": "stream",
     "text": [
      "2018-04-23 13:41:49,073 : INFO : loading Word2Vec object from word2vec/TRECDataset-NUM_200.model\n"
     ]
    },
    {
     "name": "stdout",
     "output_type": "stream",
     "text": [
      "0.6877652050919378 0.6880301602262017\n",
      "TRECDataset-NUM\n"
     ]
    },
    {
     "name": "stderr",
     "output_type": "stream",
     "text": [
      "2018-04-23 13:41:49,986 : INFO : loading wv recursively from word2vec/TRECDataset-NUM_200.model.wv.* with mmap=None\n",
      "2018-04-23 13:41:50,001 : INFO : setting ignored attribute syn0norm to None\n",
      "2018-04-23 13:41:50,002 : INFO : setting ignored attribute cum_table to None\n",
      "2018-04-23 13:41:50,003 : INFO : loaded word2vec/TRECDataset-NUM_200.model\n"
     ]
    },
    {
     "data": {
      "application/vnd.jupyter.widget-view+json": {
       "model_id": "8c0bbd5285c847a49a8e087b0a379e4b",
       "version_major": 2,
       "version_minor": 0
      },
      "text/html": [
       "<p>Failed to display Jupyter Widget of type <code>HBox</code>.</p>\n",
       "<p>\n",
       "  If you're reading this message in the Jupyter Notebook or JupyterLab Notebook, it may mean\n",
       "  that the widgets JavaScript is still loading. If this message persists, it\n",
       "  likely means that the widgets JavaScript library is either not installed or\n",
       "  not enabled. See the <a href=\"https://ipywidgets.readthedocs.io/en/stable/user_install.html\">Jupyter\n",
       "  Widgets Documentation</a> for setup instructions.\n",
       "</p>\n",
       "<p>\n",
       "  If you're reading this message in another frontend (for example, a static\n",
       "  rendering on GitHub or <a href=\"https://nbviewer.jupyter.org/\">NBViewer</a>),\n",
       "  it may mean that your frontend doesn't currently support widgets.\n",
       "</p>\n"
      ],
      "text/plain": [
       "HBox(children=(IntProgress(value=0, max=4761), HTML(value='')))"
      ]
     },
     "metadata": {},
     "output_type": "display_data"
    },
    {
     "name": "stdout",
     "output_type": "stream",
     "text": [
      "\n"
     ]
    },
    {
     "data": {
      "application/vnd.jupyter.widget-view+json": {
       "model_id": "be6bbfd7c708470eb630197bc7f25d79",
       "version_major": 2,
       "version_minor": 0
      },
      "text/html": [
       "<p>Failed to display Jupyter Widget of type <code>HBox</code>.</p>\n",
       "<p>\n",
       "  If you're reading this message in the Jupyter Notebook or JupyterLab Notebook, it may mean\n",
       "  that the widgets JavaScript is still loading. If this message persists, it\n",
       "  likely means that the widgets JavaScript library is either not installed or\n",
       "  not enabled. See the <a href=\"https://ipywidgets.readthedocs.io/en/stable/user_install.html\">Jupyter\n",
       "  Widgets Documentation</a> for setup instructions.\n",
       "</p>\n",
       "<p>\n",
       "  If you're reading this message in another frontend (for example, a static\n",
       "  rendering on GitHub or <a href=\"https://nbviewer.jupyter.org/\">NBViewer</a>),\n",
       "  it may mean that your frontend doesn't currently support widgets.\n",
       "</p>\n"
      ],
      "text/plain": [
       "HBox(children=(IntProgress(value=0, max=4761), HTML(value='')))"
      ]
     },
     "metadata": {},
     "output_type": "display_data"
    },
    {
     "name": "stdout",
     "output_type": "stream",
     "text": [
      "\n"
     ]
    },
    {
     "data": {
      "application/vnd.jupyter.widget-view+json": {
       "model_id": "153e4a3e68414aed845a729f1a2c7e8b",
       "version_major": 2,
       "version_minor": 0
      },
      "text/html": [
       "<p>Failed to display Jupyter Widget of type <code>HBox</code>.</p>\n",
       "<p>\n",
       "  If you're reading this message in the Jupyter Notebook or JupyterLab Notebook, it may mean\n",
       "  that the widgets JavaScript is still loading. If this message persists, it\n",
       "  likely means that the widgets JavaScript library is either not installed or\n",
       "  not enabled. See the <a href=\"https://ipywidgets.readthedocs.io/en/stable/user_install.html\">Jupyter\n",
       "  Widgets Documentation</a> for setup instructions.\n",
       "</p>\n",
       "<p>\n",
       "  If you're reading this message in another frontend (for example, a static\n",
       "  rendering on GitHub or <a href=\"https://nbviewer.jupyter.org/\">NBViewer</a>),\n",
       "  it may mean that your frontend doesn't currently support widgets.\n",
       "</p>\n"
      ],
      "text/plain": [
       "HBox(children=(IntProgress(value=0, max=596), HTML(value='')))"
      ]
     },
     "metadata": {},
     "output_type": "display_data"
    },
    {
     "name": "stdout",
     "output_type": "stream",
     "text": [
      "\n"
     ]
    },
    {
     "name": "stderr",
     "output_type": "stream",
     "text": [
      "2018-04-23 13:41:57,136 : INFO : loading Word2Vec object from word2vec/TRECDataset-NUM_300.model\n"
     ]
    },
    {
     "name": "stdout",
     "output_type": "stream",
     "text": [
      "0.8304977945809704 0.8305369127516778\n",
      "TRECDataset-NUM\n"
     ]
    },
    {
     "name": "stderr",
     "output_type": "stream",
     "text": [
      "2018-04-23 13:41:58,314 : INFO : loading wv recursively from word2vec/TRECDataset-NUM_300.model.wv.* with mmap=None\n",
      "2018-04-23 13:41:58,329 : INFO : setting ignored attribute syn0norm to None\n",
      "2018-04-23 13:41:58,332 : INFO : setting ignored attribute cum_table to None\n",
      "2018-04-23 13:41:58,336 : INFO : loaded word2vec/TRECDataset-NUM_300.model\n"
     ]
    },
    {
     "data": {
      "application/vnd.jupyter.widget-view+json": {
       "model_id": "427f5ef5409c45ab8817c9df725107a5",
       "version_major": 2,
       "version_minor": 0
      },
      "text/html": [
       "<p>Failed to display Jupyter Widget of type <code>HBox</code>.</p>\n",
       "<p>\n",
       "  If you're reading this message in the Jupyter Notebook or JupyterLab Notebook, it may mean\n",
       "  that the widgets JavaScript is still loading. If this message persists, it\n",
       "  likely means that the widgets JavaScript library is either not installed or\n",
       "  not enabled. See the <a href=\"https://ipywidgets.readthedocs.io/en/stable/user_install.html\">Jupyter\n",
       "  Widgets Documentation</a> for setup instructions.\n",
       "</p>\n",
       "<p>\n",
       "  If you're reading this message in another frontend (for example, a static\n",
       "  rendering on GitHub or <a href=\"https://nbviewer.jupyter.org/\">NBViewer</a>),\n",
       "  it may mean that your frontend doesn't currently support widgets.\n",
       "</p>\n"
      ],
      "text/plain": [
       "HBox(children=(IntProgress(value=0, max=4761), HTML(value='')))"
      ]
     },
     "metadata": {},
     "output_type": "display_data"
    },
    {
     "name": "stdout",
     "output_type": "stream",
     "text": [
      "\n"
     ]
    },
    {
     "data": {
      "application/vnd.jupyter.widget-view+json": {
       "model_id": "cecb18c5383d4448baf839fb233d28fe",
       "version_major": 2,
       "version_minor": 0
      },
      "text/html": [
       "<p>Failed to display Jupyter Widget of type <code>HBox</code>.</p>\n",
       "<p>\n",
       "  If you're reading this message in the Jupyter Notebook or JupyterLab Notebook, it may mean\n",
       "  that the widgets JavaScript is still loading. If this message persists, it\n",
       "  likely means that the widgets JavaScript library is either not installed or\n",
       "  not enabled. See the <a href=\"https://ipywidgets.readthedocs.io/en/stable/user_install.html\">Jupyter\n",
       "  Widgets Documentation</a> for setup instructions.\n",
       "</p>\n",
       "<p>\n",
       "  If you're reading this message in another frontend (for example, a static\n",
       "  rendering on GitHub or <a href=\"https://nbviewer.jupyter.org/\">NBViewer</a>),\n",
       "  it may mean that your frontend doesn't currently support widgets.\n",
       "</p>\n"
      ],
      "text/plain": [
       "HBox(children=(IntProgress(value=0, max=4761), HTML(value='')))"
      ]
     },
     "metadata": {},
     "output_type": "display_data"
    },
    {
     "name": "stdout",
     "output_type": "stream",
     "text": [
      "\n"
     ]
    },
    {
     "data": {
      "application/vnd.jupyter.widget-view+json": {
       "model_id": "2873a1dafd12414e8d6b8684f11089f0",
       "version_major": 2,
       "version_minor": 0
      },
      "text/html": [
       "<p>Failed to display Jupyter Widget of type <code>HBox</code>.</p>\n",
       "<p>\n",
       "  If you're reading this message in the Jupyter Notebook or JupyterLab Notebook, it may mean\n",
       "  that the widgets JavaScript is still loading. If this message persists, it\n",
       "  likely means that the widgets JavaScript library is either not installed or\n",
       "  not enabled. See the <a href=\"https://ipywidgets.readthedocs.io/en/stable/user_install.html\">Jupyter\n",
       "  Widgets Documentation</a> for setup instructions.\n",
       "</p>\n",
       "<p>\n",
       "  If you're reading this message in another frontend (for example, a static\n",
       "  rendering on GitHub or <a href=\"https://nbviewer.jupyter.org/\">NBViewer</a>),\n",
       "  it may mean that your frontend doesn't currently support widgets.\n",
       "</p>\n"
      ],
      "text/plain": [
       "HBox(children=(IntProgress(value=0, max=596), HTML(value='')))"
      ]
     },
     "metadata": {},
     "output_type": "display_data"
    },
    {
     "name": "stdout",
     "output_type": "stream",
     "text": [
      "\n"
     ]
    },
    {
     "name": "stderr",
     "output_type": "stream",
     "text": [
      "2018-04-23 13:42:08,332 : INFO : loading Word2Vec object from word2vec/TRECDataset-NUM_400.model\n"
     ]
    },
    {
     "name": "stdout",
     "output_type": "stream",
     "text": [
      "0.8304977945809704 0.8305369127516778\n",
      "TRECDataset-NUM\n"
     ]
    },
    {
     "name": "stderr",
     "output_type": "stream",
     "text": [
      "2018-04-23 13:42:09,680 : INFO : loading wv recursively from word2vec/TRECDataset-NUM_400.model.wv.* with mmap=None\n",
      "2018-04-23 13:42:09,683 : INFO : setting ignored attribute syn0norm to None\n",
      "2018-04-23 13:42:09,686 : INFO : setting ignored attribute cum_table to None\n",
      "2018-04-23 13:42:09,688 : INFO : loaded word2vec/TRECDataset-NUM_400.model\n"
     ]
    },
    {
     "data": {
      "application/vnd.jupyter.widget-view+json": {
       "model_id": "2c10a8b8edc240f28ff88bd676209c3d",
       "version_major": 2,
       "version_minor": 0
      },
      "text/html": [
       "<p>Failed to display Jupyter Widget of type <code>HBox</code>.</p>\n",
       "<p>\n",
       "  If you're reading this message in the Jupyter Notebook or JupyterLab Notebook, it may mean\n",
       "  that the widgets JavaScript is still loading. If this message persists, it\n",
       "  likely means that the widgets JavaScript library is either not installed or\n",
       "  not enabled. See the <a href=\"https://ipywidgets.readthedocs.io/en/stable/user_install.html\">Jupyter\n",
       "  Widgets Documentation</a> for setup instructions.\n",
       "</p>\n",
       "<p>\n",
       "  If you're reading this message in another frontend (for example, a static\n",
       "  rendering on GitHub or <a href=\"https://nbviewer.jupyter.org/\">NBViewer</a>),\n",
       "  it may mean that your frontend doesn't currently support widgets.\n",
       "</p>\n"
      ],
      "text/plain": [
       "HBox(children=(IntProgress(value=0, max=4761), HTML(value='')))"
      ]
     },
     "metadata": {},
     "output_type": "display_data"
    },
    {
     "name": "stdout",
     "output_type": "stream",
     "text": [
      "\n"
     ]
    },
    {
     "data": {
      "application/vnd.jupyter.widget-view+json": {
       "model_id": "6a878f3b0187464592ac44df4d097e4b",
       "version_major": 2,
       "version_minor": 0
      },
      "text/html": [
       "<p>Failed to display Jupyter Widget of type <code>HBox</code>.</p>\n",
       "<p>\n",
       "  If you're reading this message in the Jupyter Notebook or JupyterLab Notebook, it may mean\n",
       "  that the widgets JavaScript is still loading. If this message persists, it\n",
       "  likely means that the widgets JavaScript library is either not installed or\n",
       "  not enabled. See the <a href=\"https://ipywidgets.readthedocs.io/en/stable/user_install.html\">Jupyter\n",
       "  Widgets Documentation</a> for setup instructions.\n",
       "</p>\n",
       "<p>\n",
       "  If you're reading this message in another frontend (for example, a static\n",
       "  rendering on GitHub or <a href=\"https://nbviewer.jupyter.org/\">NBViewer</a>),\n",
       "  it may mean that your frontend doesn't currently support widgets.\n",
       "</p>\n"
      ],
      "text/plain": [
       "HBox(children=(IntProgress(value=0, max=4761), HTML(value='')))"
      ]
     },
     "metadata": {},
     "output_type": "display_data"
    },
    {
     "name": "stdout",
     "output_type": "stream",
     "text": [
      "\n"
     ]
    },
    {
     "data": {
      "application/vnd.jupyter.widget-view+json": {
       "model_id": "3e2a682aae864e2c81ddc7d8ef737f5a",
       "version_major": 2,
       "version_minor": 0
      },
      "text/html": [
       "<p>Failed to display Jupyter Widget of type <code>HBox</code>.</p>\n",
       "<p>\n",
       "  If you're reading this message in the Jupyter Notebook or JupyterLab Notebook, it may mean\n",
       "  that the widgets JavaScript is still loading. If this message persists, it\n",
       "  likely means that the widgets JavaScript library is either not installed or\n",
       "  not enabled. See the <a href=\"https://ipywidgets.readthedocs.io/en/stable/user_install.html\">Jupyter\n",
       "  Widgets Documentation</a> for setup instructions.\n",
       "</p>\n",
       "<p>\n",
       "  If you're reading this message in another frontend (for example, a static\n",
       "  rendering on GitHub or <a href=\"https://nbviewer.jupyter.org/\">NBViewer</a>),\n",
       "  it may mean that your frontend doesn't currently support widgets.\n",
       "</p>\n"
      ],
      "text/plain": [
       "HBox(children=(IntProgress(value=0, max=596), HTML(value='')))"
      ]
     },
     "metadata": {},
     "output_type": "display_data"
    },
    {
     "name": "stdout",
     "output_type": "stream",
     "text": [
      "\n"
     ]
    },
    {
     "name": "stderr",
     "output_type": "stream",
     "text": [
      "2018-04-23 13:42:22,735 : INFO : loading Word2Vec object from word2vec/TRECDataset-ABBR_200.model\n"
     ]
    },
    {
     "name": "stdout",
     "output_type": "stream",
     "text": [
      "0.8304977945809704 0.8305369127516778\n",
      "TRECDataset-ABBR\n"
     ]
    },
    {
     "name": "stderr",
     "output_type": "stream",
     "text": [
      "2018-04-23 13:42:23,464 : INFO : loading wv recursively from word2vec/TRECDataset-ABBR_200.model.wv.* with mmap=None\n",
      "2018-04-23 13:42:23,465 : INFO : setting ignored attribute syn0norm to None\n",
      "2018-04-23 13:42:23,466 : INFO : setting ignored attribute cum_table to None\n",
      "2018-04-23 13:42:23,466 : INFO : loaded word2vec/TRECDataset-ABBR_200.model\n"
     ]
    },
    {
     "data": {
      "application/vnd.jupyter.widget-view+json": {
       "model_id": "657a8d9361da430d89d4155d07b73839",
       "version_major": 2,
       "version_minor": 0
      },
      "text/html": [
       "<p>Failed to display Jupyter Widget of type <code>HBox</code>.</p>\n",
       "<p>\n",
       "  If you're reading this message in the Jupyter Notebook or JupyterLab Notebook, it may mean\n",
       "  that the widgets JavaScript is still loading. If this message persists, it\n",
       "  likely means that the widgets JavaScript library is either not installed or\n",
       "  not enabled. See the <a href=\"https://ipywidgets.readthedocs.io/en/stable/user_install.html\">Jupyter\n",
       "  Widgets Documentation</a> for setup instructions.\n",
       "</p>\n",
       "<p>\n",
       "  If you're reading this message in another frontend (for example, a static\n",
       "  rendering on GitHub or <a href=\"https://nbviewer.jupyter.org/\">NBViewer</a>),\n",
       "  it may mean that your frontend doesn't currently support widgets.\n",
       "</p>\n"
      ],
      "text/plain": [
       "HBox(children=(IntProgress(value=0, max=4761), HTML(value='')))"
      ]
     },
     "metadata": {},
     "output_type": "display_data"
    },
    {
     "name": "stdout",
     "output_type": "stream",
     "text": [
      "\n"
     ]
    },
    {
     "data": {
      "application/vnd.jupyter.widget-view+json": {
       "model_id": "d55565b0afd9414da3382ea827795660",
       "version_major": 2,
       "version_minor": 0
      },
      "text/html": [
       "<p>Failed to display Jupyter Widget of type <code>HBox</code>.</p>\n",
       "<p>\n",
       "  If you're reading this message in the Jupyter Notebook or JupyterLab Notebook, it may mean\n",
       "  that the widgets JavaScript is still loading. If this message persists, it\n",
       "  likely means that the widgets JavaScript library is either not installed or\n",
       "  not enabled. See the <a href=\"https://ipywidgets.readthedocs.io/en/stable/user_install.html\">Jupyter\n",
       "  Widgets Documentation</a> for setup instructions.\n",
       "</p>\n",
       "<p>\n",
       "  If you're reading this message in another frontend (for example, a static\n",
       "  rendering on GitHub or <a href=\"https://nbviewer.jupyter.org/\">NBViewer</a>),\n",
       "  it may mean that your frontend doesn't currently support widgets.\n",
       "</p>\n"
      ],
      "text/plain": [
       "HBox(children=(IntProgress(value=0, max=4761), HTML(value='')))"
      ]
     },
     "metadata": {},
     "output_type": "display_data"
    },
    {
     "name": "stdout",
     "output_type": "stream",
     "text": [
      "\n"
     ]
    },
    {
     "data": {
      "application/vnd.jupyter.widget-view+json": {
       "model_id": "328a1c3390fb4ebda0621b4fb3ed8522",
       "version_major": 2,
       "version_minor": 0
      },
      "text/html": [
       "<p>Failed to display Jupyter Widget of type <code>HBox</code>.</p>\n",
       "<p>\n",
       "  If you're reading this message in the Jupyter Notebook or JupyterLab Notebook, it may mean\n",
       "  that the widgets JavaScript is still loading. If this message persists, it\n",
       "  likely means that the widgets JavaScript library is either not installed or\n",
       "  not enabled. See the <a href=\"https://ipywidgets.readthedocs.io/en/stable/user_install.html\">Jupyter\n",
       "  Widgets Documentation</a> for setup instructions.\n",
       "</p>\n",
       "<p>\n",
       "  If you're reading this message in another frontend (for example, a static\n",
       "  rendering on GitHub or <a href=\"https://nbviewer.jupyter.org/\">NBViewer</a>),\n",
       "  it may mean that your frontend doesn't currently support widgets.\n",
       "</p>\n"
      ],
      "text/plain": [
       "HBox(children=(IntProgress(value=0, max=596), HTML(value='')))"
      ]
     },
     "metadata": {},
     "output_type": "display_data"
    },
    {
     "name": "stderr",
     "output_type": "stream",
     "text": [
      "2018-04-23 13:42:24,831 : INFO : loading Word2Vec object from word2vec/TRECDataset-ABBR_300.model\n"
     ]
    },
    {
     "name": "stdout",
     "output_type": "stream",
     "text": [
      "\n",
      "0.9840369670237346 0.9832214765100671\n",
      "TRECDataset-ABBR\n"
     ]
    },
    {
     "name": "stderr",
     "output_type": "stream",
     "text": [
      "2018-04-23 13:42:25,643 : INFO : loading wv recursively from word2vec/TRECDataset-ABBR_300.model.wv.* with mmap=None\n",
      "2018-04-23 13:42:25,661 : INFO : setting ignored attribute syn0norm to None\n",
      "2018-04-23 13:42:25,672 : INFO : setting ignored attribute cum_table to None\n",
      "2018-04-23 13:42:25,675 : INFO : loaded word2vec/TRECDataset-ABBR_300.model\n"
     ]
    },
    {
     "data": {
      "application/vnd.jupyter.widget-view+json": {
       "model_id": "c4138202b93d419ca7015b3824b2848c",
       "version_major": 2,
       "version_minor": 0
      },
      "text/html": [
       "<p>Failed to display Jupyter Widget of type <code>HBox</code>.</p>\n",
       "<p>\n",
       "  If you're reading this message in the Jupyter Notebook or JupyterLab Notebook, it may mean\n",
       "  that the widgets JavaScript is still loading. If this message persists, it\n",
       "  likely means that the widgets JavaScript library is either not installed or\n",
       "  not enabled. See the <a href=\"https://ipywidgets.readthedocs.io/en/stable/user_install.html\">Jupyter\n",
       "  Widgets Documentation</a> for setup instructions.\n",
       "</p>\n",
       "<p>\n",
       "  If you're reading this message in another frontend (for example, a static\n",
       "  rendering on GitHub or <a href=\"https://nbviewer.jupyter.org/\">NBViewer</a>),\n",
       "  it may mean that your frontend doesn't currently support widgets.\n",
       "</p>\n"
      ],
      "text/plain": [
       "HBox(children=(IntProgress(value=0, max=4761), HTML(value='')))"
      ]
     },
     "metadata": {},
     "output_type": "display_data"
    },
    {
     "name": "stdout",
     "output_type": "stream",
     "text": [
      "\n"
     ]
    },
    {
     "data": {
      "application/vnd.jupyter.widget-view+json": {
       "model_id": "62617e791c6b45a9996425c2ce95097a",
       "version_major": 2,
       "version_minor": 0
      },
      "text/html": [
       "<p>Failed to display Jupyter Widget of type <code>HBox</code>.</p>\n",
       "<p>\n",
       "  If you're reading this message in the Jupyter Notebook or JupyterLab Notebook, it may mean\n",
       "  that the widgets JavaScript is still loading. If this message persists, it\n",
       "  likely means that the widgets JavaScript library is either not installed or\n",
       "  not enabled. See the <a href=\"https://ipywidgets.readthedocs.io/en/stable/user_install.html\">Jupyter\n",
       "  Widgets Documentation</a> for setup instructions.\n",
       "</p>\n",
       "<p>\n",
       "  If you're reading this message in another frontend (for example, a static\n",
       "  rendering on GitHub or <a href=\"https://nbviewer.jupyter.org/\">NBViewer</a>),\n",
       "  it may mean that your frontend doesn't currently support widgets.\n",
       "</p>\n"
      ],
      "text/plain": [
       "HBox(children=(IntProgress(value=0, max=4761), HTML(value='')))"
      ]
     },
     "metadata": {},
     "output_type": "display_data"
    },
    {
     "name": "stdout",
     "output_type": "stream",
     "text": [
      "\n"
     ]
    },
    {
     "data": {
      "application/vnd.jupyter.widget-view+json": {
       "model_id": "33ea9f88ff8842d2a103f51162386bce",
       "version_major": 2,
       "version_minor": 0
      },
      "text/html": [
       "<p>Failed to display Jupyter Widget of type <code>HBox</code>.</p>\n",
       "<p>\n",
       "  If you're reading this message in the Jupyter Notebook or JupyterLab Notebook, it may mean\n",
       "  that the widgets JavaScript is still loading. If this message persists, it\n",
       "  likely means that the widgets JavaScript library is either not installed or\n",
       "  not enabled. See the <a href=\"https://ipywidgets.readthedocs.io/en/stable/user_install.html\">Jupyter\n",
       "  Widgets Documentation</a> for setup instructions.\n",
       "</p>\n",
       "<p>\n",
       "  If you're reading this message in another frontend (for example, a static\n",
       "  rendering on GitHub or <a href=\"https://nbviewer.jupyter.org/\">NBViewer</a>),\n",
       "  it may mean that your frontend doesn't currently support widgets.\n",
       "</p>\n"
      ],
      "text/plain": [
       "HBox(children=(IntProgress(value=0, max=596), HTML(value='')))"
      ]
     },
     "metadata": {},
     "output_type": "display_data"
    },
    {
     "name": "stderr",
     "output_type": "stream",
     "text": [
      "2018-04-23 13:42:27,969 : INFO : loading Word2Vec object from word2vec/TRECDataset-ABBR_400.model\n"
     ]
    },
    {
     "name": "stdout",
     "output_type": "stream",
     "text": [
      "\n",
      "0.9840369670237346 0.9832214765100671\n",
      "TRECDataset-ABBR\n"
     ]
    },
    {
     "name": "stderr",
     "output_type": "stream",
     "text": [
      "2018-04-23 13:42:29,131 : INFO : loading wv recursively from word2vec/TRECDataset-ABBR_400.model.wv.* with mmap=None\n",
      "2018-04-23 13:42:29,133 : INFO : setting ignored attribute syn0norm to None\n",
      "2018-04-23 13:42:29,133 : INFO : setting ignored attribute cum_table to None\n",
      "2018-04-23 13:42:29,134 : INFO : loaded word2vec/TRECDataset-ABBR_400.model\n"
     ]
    },
    {
     "data": {
      "application/vnd.jupyter.widget-view+json": {
       "model_id": "d1bc64da80cd416083901b4be18bba45",
       "version_major": 2,
       "version_minor": 0
      },
      "text/html": [
       "<p>Failed to display Jupyter Widget of type <code>HBox</code>.</p>\n",
       "<p>\n",
       "  If you're reading this message in the Jupyter Notebook or JupyterLab Notebook, it may mean\n",
       "  that the widgets JavaScript is still loading. If this message persists, it\n",
       "  likely means that the widgets JavaScript library is either not installed or\n",
       "  not enabled. See the <a href=\"https://ipywidgets.readthedocs.io/en/stable/user_install.html\">Jupyter\n",
       "  Widgets Documentation</a> for setup instructions.\n",
       "</p>\n",
       "<p>\n",
       "  If you're reading this message in another frontend (for example, a static\n",
       "  rendering on GitHub or <a href=\"https://nbviewer.jupyter.org/\">NBViewer</a>),\n",
       "  it may mean that your frontend doesn't currently support widgets.\n",
       "</p>\n"
      ],
      "text/plain": [
       "HBox(children=(IntProgress(value=0, max=4761), HTML(value='')))"
      ]
     },
     "metadata": {},
     "output_type": "display_data"
    },
    {
     "name": "stdout",
     "output_type": "stream",
     "text": [
      "\n"
     ]
    },
    {
     "data": {
      "application/vnd.jupyter.widget-view+json": {
       "model_id": "64bdf9d5e01546718de5ec2cc1f20cb8",
       "version_major": 2,
       "version_minor": 0
      },
      "text/html": [
       "<p>Failed to display Jupyter Widget of type <code>HBox</code>.</p>\n",
       "<p>\n",
       "  If you're reading this message in the Jupyter Notebook or JupyterLab Notebook, it may mean\n",
       "  that the widgets JavaScript is still loading. If this message persists, it\n",
       "  likely means that the widgets JavaScript library is either not installed or\n",
       "  not enabled. See the <a href=\"https://ipywidgets.readthedocs.io/en/stable/user_install.html\">Jupyter\n",
       "  Widgets Documentation</a> for setup instructions.\n",
       "</p>\n",
       "<p>\n",
       "  If you're reading this message in another frontend (for example, a static\n",
       "  rendering on GitHub or <a href=\"https://nbviewer.jupyter.org/\">NBViewer</a>),\n",
       "  it may mean that your frontend doesn't currently support widgets.\n",
       "</p>\n"
      ],
      "text/plain": [
       "HBox(children=(IntProgress(value=0, max=4761), HTML(value='')))"
      ]
     },
     "metadata": {},
     "output_type": "display_data"
    },
    {
     "name": "stdout",
     "output_type": "stream",
     "text": [
      "\n"
     ]
    },
    {
     "data": {
      "application/vnd.jupyter.widget-view+json": {
       "model_id": "d061d56d70f8477e8cc29fbc5fccbb30",
       "version_major": 2,
       "version_minor": 0
      },
      "text/html": [
       "<p>Failed to display Jupyter Widget of type <code>HBox</code>.</p>\n",
       "<p>\n",
       "  If you're reading this message in the Jupyter Notebook or JupyterLab Notebook, it may mean\n",
       "  that the widgets JavaScript is still loading. If this message persists, it\n",
       "  likely means that the widgets JavaScript library is either not installed or\n",
       "  not enabled. See the <a href=\"https://ipywidgets.readthedocs.io/en/stable/user_install.html\">Jupyter\n",
       "  Widgets Documentation</a> for setup instructions.\n",
       "</p>\n",
       "<p>\n",
       "  If you're reading this message in another frontend (for example, a static\n",
       "  rendering on GitHub or <a href=\"https://nbviewer.jupyter.org/\">NBViewer</a>),\n",
       "  it may mean that your frontend doesn't currently support widgets.\n",
       "</p>\n"
      ],
      "text/plain": [
       "HBox(children=(IntProgress(value=0, max=596), HTML(value='')))"
      ]
     },
     "metadata": {},
     "output_type": "display_data"
    },
    {
     "name": "stderr",
     "output_type": "stream",
     "text": [
      "2018-04-23 13:42:31,006 : INFO : loading Word2Vec object from word2vec/TRECDataset-DESC_200.model\n"
     ]
    },
    {
     "name": "stdout",
     "output_type": "stream",
     "text": [
      "\n",
      "0.9840369670237346 0.9832214765100671\n",
      "TRECDataset-DESC\n"
     ]
    },
    {
     "name": "stderr",
     "output_type": "stream",
     "text": [
      "2018-04-23 13:42:31,959 : INFO : loading wv recursively from word2vec/TRECDataset-DESC_200.model.wv.* with mmap=None\n",
      "2018-04-23 13:42:31,963 : INFO : setting ignored attribute syn0norm to None\n",
      "2018-04-23 13:42:31,966 : INFO : setting ignored attribute cum_table to None\n",
      "2018-04-23 13:42:31,969 : INFO : loaded word2vec/TRECDataset-DESC_200.model\n"
     ]
    },
    {
     "data": {
      "application/vnd.jupyter.widget-view+json": {
       "model_id": "4f0926e949984d3ab91cc8eb8c86210b",
       "version_major": 2,
       "version_minor": 0
      },
      "text/html": [
       "<p>Failed to display Jupyter Widget of type <code>HBox</code>.</p>\n",
       "<p>\n",
       "  If you're reading this message in the Jupyter Notebook or JupyterLab Notebook, it may mean\n",
       "  that the widgets JavaScript is still loading. If this message persists, it\n",
       "  likely means that the widgets JavaScript library is either not installed or\n",
       "  not enabled. See the <a href=\"https://ipywidgets.readthedocs.io/en/stable/user_install.html\">Jupyter\n",
       "  Widgets Documentation</a> for setup instructions.\n",
       "</p>\n",
       "<p>\n",
       "  If you're reading this message in another frontend (for example, a static\n",
       "  rendering on GitHub or <a href=\"https://nbviewer.jupyter.org/\">NBViewer</a>),\n",
       "  it may mean that your frontend doesn't currently support widgets.\n",
       "</p>\n"
      ],
      "text/plain": [
       "HBox(children=(IntProgress(value=0, max=4761), HTML(value='')))"
      ]
     },
     "metadata": {},
     "output_type": "display_data"
    },
    {
     "name": "stdout",
     "output_type": "stream",
     "text": [
      "\n"
     ]
    },
    {
     "data": {
      "application/vnd.jupyter.widget-view+json": {
       "model_id": "7b5f6eaaae924b6b8c07f3338af11279",
       "version_major": 2,
       "version_minor": 0
      },
      "text/html": [
       "<p>Failed to display Jupyter Widget of type <code>HBox</code>.</p>\n",
       "<p>\n",
       "  If you're reading this message in the Jupyter Notebook or JupyterLab Notebook, it may mean\n",
       "  that the widgets JavaScript is still loading. If this message persists, it\n",
       "  likely means that the widgets JavaScript library is either not installed or\n",
       "  not enabled. See the <a href=\"https://ipywidgets.readthedocs.io/en/stable/user_install.html\">Jupyter\n",
       "  Widgets Documentation</a> for setup instructions.\n",
       "</p>\n",
       "<p>\n",
       "  If you're reading this message in another frontend (for example, a static\n",
       "  rendering on GitHub or <a href=\"https://nbviewer.jupyter.org/\">NBViewer</a>),\n",
       "  it may mean that your frontend doesn't currently support widgets.\n",
       "</p>\n"
      ],
      "text/plain": [
       "HBox(children=(IntProgress(value=0, max=4761), HTML(value='')))"
      ]
     },
     "metadata": {},
     "output_type": "display_data"
    },
    {
     "name": "stdout",
     "output_type": "stream",
     "text": [
      "\n"
     ]
    },
    {
     "data": {
      "application/vnd.jupyter.widget-view+json": {
       "model_id": "130c9ea68f824377b95666b6e9d11dfd",
       "version_major": 2,
       "version_minor": 0
      },
      "text/html": [
       "<p>Failed to display Jupyter Widget of type <code>HBox</code>.</p>\n",
       "<p>\n",
       "  If you're reading this message in the Jupyter Notebook or JupyterLab Notebook, it may mean\n",
       "  that the widgets JavaScript is still loading. If this message persists, it\n",
       "  likely means that the widgets JavaScript library is either not installed or\n",
       "  not enabled. See the <a href=\"https://ipywidgets.readthedocs.io/en/stable/user_install.html\">Jupyter\n",
       "  Widgets Documentation</a> for setup instructions.\n",
       "</p>\n",
       "<p>\n",
       "  If you're reading this message in another frontend (for example, a static\n",
       "  rendering on GitHub or <a href=\"https://nbviewer.jupyter.org/\">NBViewer</a>),\n",
       "  it may mean that your frontend doesn't currently support widgets.\n",
       "</p>\n"
      ],
      "text/plain": [
       "HBox(children=(IntProgress(value=0, max=596), HTML(value='')))"
      ]
     },
     "metadata": {},
     "output_type": "display_data"
    },
    {
     "name": "stdout",
     "output_type": "stream",
     "text": [
      "\n"
     ]
    },
    {
     "name": "stderr",
     "output_type": "stream",
     "text": [
      "2018-04-23 13:42:41,262 : INFO : loading Word2Vec object from word2vec/TRECDataset-DESC_300.model\n"
     ]
    },
    {
     "name": "stdout",
     "output_type": "stream",
     "text": [
      "0.7815584961142616 0.7818791946308725\n",
      "TRECDataset-DESC\n"
     ]
    },
    {
     "name": "stderr",
     "output_type": "stream",
     "text": [
      "2018-04-23 13:42:42,377 : INFO : loading wv recursively from word2vec/TRECDataset-DESC_300.model.wv.* with mmap=None\n",
      "2018-04-23 13:42:42,379 : INFO : setting ignored attribute syn0norm to None\n",
      "2018-04-23 13:42:42,380 : INFO : setting ignored attribute cum_table to None\n",
      "2018-04-23 13:42:42,381 : INFO : loaded word2vec/TRECDataset-DESC_300.model\n"
     ]
    },
    {
     "data": {
      "application/vnd.jupyter.widget-view+json": {
       "model_id": "f3d34d298b97497ea6b4e257634a1614",
       "version_major": 2,
       "version_minor": 0
      },
      "text/html": [
       "<p>Failed to display Jupyter Widget of type <code>HBox</code>.</p>\n",
       "<p>\n",
       "  If you're reading this message in the Jupyter Notebook or JupyterLab Notebook, it may mean\n",
       "  that the widgets JavaScript is still loading. If this message persists, it\n",
       "  likely means that the widgets JavaScript library is either not installed or\n",
       "  not enabled. See the <a href=\"https://ipywidgets.readthedocs.io/en/stable/user_install.html\">Jupyter\n",
       "  Widgets Documentation</a> for setup instructions.\n",
       "</p>\n",
       "<p>\n",
       "  If you're reading this message in another frontend (for example, a static\n",
       "  rendering on GitHub or <a href=\"https://nbviewer.jupyter.org/\">NBViewer</a>),\n",
       "  it may mean that your frontend doesn't currently support widgets.\n",
       "</p>\n"
      ],
      "text/plain": [
       "HBox(children=(IntProgress(value=0, max=4761), HTML(value='')))"
      ]
     },
     "metadata": {},
     "output_type": "display_data"
    },
    {
     "name": "stdout",
     "output_type": "stream",
     "text": [
      "\n"
     ]
    },
    {
     "data": {
      "application/vnd.jupyter.widget-view+json": {
       "model_id": "07522cbd7f7140018bff8df20208936d",
       "version_major": 2,
       "version_minor": 0
      },
      "text/html": [
       "<p>Failed to display Jupyter Widget of type <code>HBox</code>.</p>\n",
       "<p>\n",
       "  If you're reading this message in the Jupyter Notebook or JupyterLab Notebook, it may mean\n",
       "  that the widgets JavaScript is still loading. If this message persists, it\n",
       "  likely means that the widgets JavaScript library is either not installed or\n",
       "  not enabled. See the <a href=\"https://ipywidgets.readthedocs.io/en/stable/user_install.html\">Jupyter\n",
       "  Widgets Documentation</a> for setup instructions.\n",
       "</p>\n",
       "<p>\n",
       "  If you're reading this message in another frontend (for example, a static\n",
       "  rendering on GitHub or <a href=\"https://nbviewer.jupyter.org/\">NBViewer</a>),\n",
       "  it may mean that your frontend doesn't currently support widgets.\n",
       "</p>\n"
      ],
      "text/plain": [
       "HBox(children=(IntProgress(value=0, max=4761), HTML(value='')))"
      ]
     },
     "metadata": {},
     "output_type": "display_data"
    },
    {
     "name": "stdout",
     "output_type": "stream",
     "text": [
      "\n"
     ]
    },
    {
     "data": {
      "application/vnd.jupyter.widget-view+json": {
       "model_id": "e6f0d789928f49d2a82cfad5fb4c9040",
       "version_major": 2,
       "version_minor": 0
      },
      "text/html": [
       "<p>Failed to display Jupyter Widget of type <code>HBox</code>.</p>\n",
       "<p>\n",
       "  If you're reading this message in the Jupyter Notebook or JupyterLab Notebook, it may mean\n",
       "  that the widgets JavaScript is still loading. If this message persists, it\n",
       "  likely means that the widgets JavaScript library is either not installed or\n",
       "  not enabled. See the <a href=\"https://ipywidgets.readthedocs.io/en/stable/user_install.html\">Jupyter\n",
       "  Widgets Documentation</a> for setup instructions.\n",
       "</p>\n",
       "<p>\n",
       "  If you're reading this message in another frontend (for example, a static\n",
       "  rendering on GitHub or <a href=\"https://nbviewer.jupyter.org/\">NBViewer</a>),\n",
       "  it may mean that your frontend doesn't currently support widgets.\n",
       "</p>\n"
      ],
      "text/plain": [
       "HBox(children=(IntProgress(value=0, max=596), HTML(value='')))"
      ]
     },
     "metadata": {},
     "output_type": "display_data"
    },
    {
     "name": "stdout",
     "output_type": "stream",
     "text": [
      "\n"
     ]
    },
    {
     "name": "stderr",
     "output_type": "stream",
     "text": [
      "2018-04-23 13:42:56,009 : INFO : loading Word2Vec object from word2vec/TRECDataset-DESC_400.model\n"
     ]
    },
    {
     "name": "stdout",
     "output_type": "stream",
     "text": [
      "0.7815584961142616 0.7818791946308725\n",
      "TRECDataset-DESC\n"
     ]
    },
    {
     "name": "stderr",
     "output_type": "stream",
     "text": [
      "2018-04-23 13:42:57,306 : INFO : loading wv recursively from word2vec/TRECDataset-DESC_400.model.wv.* with mmap=None\n",
      "2018-04-23 13:42:57,307 : INFO : setting ignored attribute syn0norm to None\n",
      "2018-04-23 13:42:57,308 : INFO : setting ignored attribute cum_table to None\n",
      "2018-04-23 13:42:57,309 : INFO : loaded word2vec/TRECDataset-DESC_400.model\n"
     ]
    },
    {
     "data": {
      "application/vnd.jupyter.widget-view+json": {
       "model_id": "eb8aa80b375c42bf8524a20db315bbce",
       "version_major": 2,
       "version_minor": 0
      },
      "text/html": [
       "<p>Failed to display Jupyter Widget of type <code>HBox</code>.</p>\n",
       "<p>\n",
       "  If you're reading this message in the Jupyter Notebook or JupyterLab Notebook, it may mean\n",
       "  that the widgets JavaScript is still loading. If this message persists, it\n",
       "  likely means that the widgets JavaScript library is either not installed or\n",
       "  not enabled. See the <a href=\"https://ipywidgets.readthedocs.io/en/stable/user_install.html\">Jupyter\n",
       "  Widgets Documentation</a> for setup instructions.\n",
       "</p>\n",
       "<p>\n",
       "  If you're reading this message in another frontend (for example, a static\n",
       "  rendering on GitHub or <a href=\"https://nbviewer.jupyter.org/\">NBViewer</a>),\n",
       "  it may mean that your frontend doesn't currently support widgets.\n",
       "</p>\n"
      ],
      "text/plain": [
       "HBox(children=(IntProgress(value=0, max=4761), HTML(value='')))"
      ]
     },
     "metadata": {},
     "output_type": "display_data"
    },
    {
     "name": "stdout",
     "output_type": "stream",
     "text": [
      "\n"
     ]
    },
    {
     "data": {
      "application/vnd.jupyter.widget-view+json": {
       "model_id": "7e8f416ed2d74e72b8290dfdb3d818a1",
       "version_major": 2,
       "version_minor": 0
      },
      "text/html": [
       "<p>Failed to display Jupyter Widget of type <code>HBox</code>.</p>\n",
       "<p>\n",
       "  If you're reading this message in the Jupyter Notebook or JupyterLab Notebook, it may mean\n",
       "  that the widgets JavaScript is still loading. If this message persists, it\n",
       "  likely means that the widgets JavaScript library is either not installed or\n",
       "  not enabled. See the <a href=\"https://ipywidgets.readthedocs.io/en/stable/user_install.html\">Jupyter\n",
       "  Widgets Documentation</a> for setup instructions.\n",
       "</p>\n",
       "<p>\n",
       "  If you're reading this message in another frontend (for example, a static\n",
       "  rendering on GitHub or <a href=\"https://nbviewer.jupyter.org/\">NBViewer</a>),\n",
       "  it may mean that your frontend doesn't currently support widgets.\n",
       "</p>\n"
      ],
      "text/plain": [
       "HBox(children=(IntProgress(value=0, max=4761), HTML(value='')))"
      ]
     },
     "metadata": {},
     "output_type": "display_data"
    },
    {
     "name": "stdout",
     "output_type": "stream",
     "text": [
      "\n"
     ]
    },
    {
     "data": {
      "application/vnd.jupyter.widget-view+json": {
       "model_id": "743716013f52427494d6815346a5e175",
       "version_major": 2,
       "version_minor": 0
      },
      "text/html": [
       "<p>Failed to display Jupyter Widget of type <code>HBox</code>.</p>\n",
       "<p>\n",
       "  If you're reading this message in the Jupyter Notebook or JupyterLab Notebook, it may mean\n",
       "  that the widgets JavaScript is still loading. If this message persists, it\n",
       "  likely means that the widgets JavaScript library is either not installed or\n",
       "  not enabled. See the <a href=\"https://ipywidgets.readthedocs.io/en/stable/user_install.html\">Jupyter\n",
       "  Widgets Documentation</a> for setup instructions.\n",
       "</p>\n",
       "<p>\n",
       "  If you're reading this message in another frontend (for example, a static\n",
       "  rendering on GitHub or <a href=\"https://nbviewer.jupyter.org/\">NBViewer</a>),\n",
       "  it may mean that your frontend doesn't currently support widgets.\n",
       "</p>\n"
      ],
      "text/plain": [
       "HBox(children=(IntProgress(value=0, max=596), HTML(value='')))"
      ]
     },
     "metadata": {},
     "output_type": "display_data"
    },
    {
     "name": "stdout",
     "output_type": "stream",
     "text": [
      "\n"
     ]
    },
    {
     "name": "stderr",
     "output_type": "stream",
     "text": [
      "2018-04-23 13:43:13,665 : INFO : loading Word2Vec object from word2vec/TRECDataset-LOC_200.model\n"
     ]
    },
    {
     "name": "stdout",
     "output_type": "stream",
     "text": [
      "0.7815584961142616 0.7818791946308725\n",
      "TRECDataset-LOC\n"
     ]
    },
    {
     "name": "stderr",
     "output_type": "stream",
     "text": [
      "2018-04-23 13:43:14,904 : INFO : loading wv recursively from word2vec/TRECDataset-LOC_200.model.wv.* with mmap=None\n",
      "2018-04-23 13:43:14,905 : INFO : setting ignored attribute syn0norm to None\n",
      "2018-04-23 13:43:14,905 : INFO : setting ignored attribute cum_table to None\n",
      "2018-04-23 13:43:14,906 : INFO : loaded word2vec/TRECDataset-LOC_200.model\n"
     ]
    },
    {
     "data": {
      "application/vnd.jupyter.widget-view+json": {
       "model_id": "a4d635691e8742aab33df30114443df2",
       "version_major": 2,
       "version_minor": 0
      },
      "text/html": [
       "<p>Failed to display Jupyter Widget of type <code>HBox</code>.</p>\n",
       "<p>\n",
       "  If you're reading this message in the Jupyter Notebook or JupyterLab Notebook, it may mean\n",
       "  that the widgets JavaScript is still loading. If this message persists, it\n",
       "  likely means that the widgets JavaScript library is either not installed or\n",
       "  not enabled. See the <a href=\"https://ipywidgets.readthedocs.io/en/stable/user_install.html\">Jupyter\n",
       "  Widgets Documentation</a> for setup instructions.\n",
       "</p>\n",
       "<p>\n",
       "  If you're reading this message in another frontend (for example, a static\n",
       "  rendering on GitHub or <a href=\"https://nbviewer.jupyter.org/\">NBViewer</a>),\n",
       "  it may mean that your frontend doesn't currently support widgets.\n",
       "</p>\n"
      ],
      "text/plain": [
       "HBox(children=(IntProgress(value=0, max=4761), HTML(value='')))"
      ]
     },
     "metadata": {},
     "output_type": "display_data"
    },
    {
     "name": "stdout",
     "output_type": "stream",
     "text": [
      "\n"
     ]
    },
    {
     "data": {
      "application/vnd.jupyter.widget-view+json": {
       "model_id": "9855a27cd1f84e43b035f89af6f951f2",
       "version_major": 2,
       "version_minor": 0
      },
      "text/html": [
       "<p>Failed to display Jupyter Widget of type <code>HBox</code>.</p>\n",
       "<p>\n",
       "  If you're reading this message in the Jupyter Notebook or JupyterLab Notebook, it may mean\n",
       "  that the widgets JavaScript is still loading. If this message persists, it\n",
       "  likely means that the widgets JavaScript library is either not installed or\n",
       "  not enabled. See the <a href=\"https://ipywidgets.readthedocs.io/en/stable/user_install.html\">Jupyter\n",
       "  Widgets Documentation</a> for setup instructions.\n",
       "</p>\n",
       "<p>\n",
       "  If you're reading this message in another frontend (for example, a static\n",
       "  rendering on GitHub or <a href=\"https://nbviewer.jupyter.org/\">NBViewer</a>),\n",
       "  it may mean that your frontend doesn't currently support widgets.\n",
       "</p>\n"
      ],
      "text/plain": [
       "HBox(children=(IntProgress(value=0, max=4761), HTML(value='')))"
      ]
     },
     "metadata": {},
     "output_type": "display_data"
    },
    {
     "name": "stdout",
     "output_type": "stream",
     "text": [
      "\n"
     ]
    },
    {
     "data": {
      "application/vnd.jupyter.widget-view+json": {
       "model_id": "c6f3287af2234eeb8f6d1215d748fdcd",
       "version_major": 2,
       "version_minor": 0
      },
      "text/html": [
       "<p>Failed to display Jupyter Widget of type <code>HBox</code>.</p>\n",
       "<p>\n",
       "  If you're reading this message in the Jupyter Notebook or JupyterLab Notebook, it may mean\n",
       "  that the widgets JavaScript is still loading. If this message persists, it\n",
       "  likely means that the widgets JavaScript library is either not installed or\n",
       "  not enabled. See the <a href=\"https://ipywidgets.readthedocs.io/en/stable/user_install.html\">Jupyter\n",
       "  Widgets Documentation</a> for setup instructions.\n",
       "</p>\n",
       "<p>\n",
       "  If you're reading this message in another frontend (for example, a static\n",
       "  rendering on GitHub or <a href=\"https://nbviewer.jupyter.org/\">NBViewer</a>),\n",
       "  it may mean that your frontend doesn't currently support widgets.\n",
       "</p>\n"
      ],
      "text/plain": [
       "HBox(children=(IntProgress(value=0, max=596), HTML(value='')))"
      ]
     },
     "metadata": {},
     "output_type": "display_data"
    },
    {
     "name": "stdout",
     "output_type": "stream",
     "text": [
      "\n"
     ]
    },
    {
     "name": "stderr",
     "output_type": "stream",
     "text": [
      "2018-04-23 13:43:21,539 : INFO : loading Word2Vec object from word2vec/TRECDataset-LOC_300.model\n"
     ]
    },
    {
     "name": "stdout",
     "output_type": "stream",
     "text": [
      "0.846040747742071 0.8456375838926175\n",
      "TRECDataset-LOC\n"
     ]
    },
    {
     "name": "stderr",
     "output_type": "stream",
     "text": [
      "2018-04-23 13:43:23,085 : INFO : loading wv recursively from word2vec/TRECDataset-LOC_300.model.wv.* with mmap=None\n",
      "2018-04-23 13:43:23,089 : INFO : setting ignored attribute syn0norm to None\n",
      "2018-04-23 13:43:23,092 : INFO : setting ignored attribute cum_table to None\n",
      "2018-04-23 13:43:23,094 : INFO : loaded word2vec/TRECDataset-LOC_300.model\n"
     ]
    },
    {
     "data": {
      "application/vnd.jupyter.widget-view+json": {
       "model_id": "fad2a3372f514c2ca81ce635af514d8e",
       "version_major": 2,
       "version_minor": 0
      },
      "text/html": [
       "<p>Failed to display Jupyter Widget of type <code>HBox</code>.</p>\n",
       "<p>\n",
       "  If you're reading this message in the Jupyter Notebook or JupyterLab Notebook, it may mean\n",
       "  that the widgets JavaScript is still loading. If this message persists, it\n",
       "  likely means that the widgets JavaScript library is either not installed or\n",
       "  not enabled. See the <a href=\"https://ipywidgets.readthedocs.io/en/stable/user_install.html\">Jupyter\n",
       "  Widgets Documentation</a> for setup instructions.\n",
       "</p>\n",
       "<p>\n",
       "  If you're reading this message in another frontend (for example, a static\n",
       "  rendering on GitHub or <a href=\"https://nbviewer.jupyter.org/\">NBViewer</a>),\n",
       "  it may mean that your frontend doesn't currently support widgets.\n",
       "</p>\n"
      ],
      "text/plain": [
       "HBox(children=(IntProgress(value=0, max=4761), HTML(value='')))"
      ]
     },
     "metadata": {},
     "output_type": "display_data"
    },
    {
     "name": "stdout",
     "output_type": "stream",
     "text": [
      "\n"
     ]
    },
    {
     "data": {
      "application/vnd.jupyter.widget-view+json": {
       "model_id": "ee856a7341de4816b1b618386f14620d",
       "version_major": 2,
       "version_minor": 0
      },
      "text/html": [
       "<p>Failed to display Jupyter Widget of type <code>HBox</code>.</p>\n",
       "<p>\n",
       "  If you're reading this message in the Jupyter Notebook or JupyterLab Notebook, it may mean\n",
       "  that the widgets JavaScript is still loading. If this message persists, it\n",
       "  likely means that the widgets JavaScript library is either not installed or\n",
       "  not enabled. See the <a href=\"https://ipywidgets.readthedocs.io/en/stable/user_install.html\">Jupyter\n",
       "  Widgets Documentation</a> for setup instructions.\n",
       "</p>\n",
       "<p>\n",
       "  If you're reading this message in another frontend (for example, a static\n",
       "  rendering on GitHub or <a href=\"https://nbviewer.jupyter.org/\">NBViewer</a>),\n",
       "  it may mean that your frontend doesn't currently support widgets.\n",
       "</p>\n"
      ],
      "text/plain": [
       "HBox(children=(IntProgress(value=0, max=4761), HTML(value='')))"
      ]
     },
     "metadata": {},
     "output_type": "display_data"
    },
    {
     "name": "stdout",
     "output_type": "stream",
     "text": [
      "\n"
     ]
    },
    {
     "data": {
      "application/vnd.jupyter.widget-view+json": {
       "model_id": "54b0ae0451dc4eb8b450f1273d933c4f",
       "version_major": 2,
       "version_minor": 0
      },
      "text/html": [
       "<p>Failed to display Jupyter Widget of type <code>HBox</code>.</p>\n",
       "<p>\n",
       "  If you're reading this message in the Jupyter Notebook or JupyterLab Notebook, it may mean\n",
       "  that the widgets JavaScript is still loading. If this message persists, it\n",
       "  likely means that the widgets JavaScript library is either not installed or\n",
       "  not enabled. See the <a href=\"https://ipywidgets.readthedocs.io/en/stable/user_install.html\">Jupyter\n",
       "  Widgets Documentation</a> for setup instructions.\n",
       "</p>\n",
       "<p>\n",
       "  If you're reading this message in another frontend (for example, a static\n",
       "  rendering on GitHub or <a href=\"https://nbviewer.jupyter.org/\">NBViewer</a>),\n",
       "  it may mean that your frontend doesn't currently support widgets.\n",
       "</p>\n"
      ],
      "text/plain": [
       "HBox(children=(IntProgress(value=0, max=596), HTML(value='')))"
      ]
     },
     "metadata": {},
     "output_type": "display_data"
    },
    {
     "name": "stdout",
     "output_type": "stream",
     "text": [
      "\n"
     ]
    },
    {
     "name": "stderr",
     "output_type": "stream",
     "text": [
      "2018-04-23 13:43:32,526 : INFO : loading Word2Vec object from word2vec/TRECDataset-LOC_400.model\n"
     ]
    },
    {
     "name": "stdout",
     "output_type": "stream",
     "text": [
      "0.846040747742071 0.8456375838926175\n",
      "TRECDataset-LOC\n"
     ]
    },
    {
     "name": "stderr",
     "output_type": "stream",
     "text": [
      "2018-04-23 13:43:34,184 : INFO : loading wv recursively from word2vec/TRECDataset-LOC_400.model.wv.* with mmap=None\n",
      "2018-04-23 13:43:34,186 : INFO : setting ignored attribute syn0norm to None\n",
      "2018-04-23 13:43:34,186 : INFO : setting ignored attribute cum_table to None\n",
      "2018-04-23 13:43:34,186 : INFO : loaded word2vec/TRECDataset-LOC_400.model\n"
     ]
    },
    {
     "data": {
      "application/vnd.jupyter.widget-view+json": {
       "model_id": "7f84470d63ff49e880c6f94ae38126c1",
       "version_major": 2,
       "version_minor": 0
      },
      "text/html": [
       "<p>Failed to display Jupyter Widget of type <code>HBox</code>.</p>\n",
       "<p>\n",
       "  If you're reading this message in the Jupyter Notebook or JupyterLab Notebook, it may mean\n",
       "  that the widgets JavaScript is still loading. If this message persists, it\n",
       "  likely means that the widgets JavaScript library is either not installed or\n",
       "  not enabled. See the <a href=\"https://ipywidgets.readthedocs.io/en/stable/user_install.html\">Jupyter\n",
       "  Widgets Documentation</a> for setup instructions.\n",
       "</p>\n",
       "<p>\n",
       "  If you're reading this message in another frontend (for example, a static\n",
       "  rendering on GitHub or <a href=\"https://nbviewer.jupyter.org/\">NBViewer</a>),\n",
       "  it may mean that your frontend doesn't currently support widgets.\n",
       "</p>\n"
      ],
      "text/plain": [
       "HBox(children=(IntProgress(value=0, max=4761), HTML(value='')))"
      ]
     },
     "metadata": {},
     "output_type": "display_data"
    },
    {
     "name": "stdout",
     "output_type": "stream",
     "text": [
      "\n"
     ]
    },
    {
     "data": {
      "application/vnd.jupyter.widget-view+json": {
       "model_id": "c2c333f73e014337990aba69215ea404",
       "version_major": 2,
       "version_minor": 0
      },
      "text/html": [
       "<p>Failed to display Jupyter Widget of type <code>HBox</code>.</p>\n",
       "<p>\n",
       "  If you're reading this message in the Jupyter Notebook or JupyterLab Notebook, it may mean\n",
       "  that the widgets JavaScript is still loading. If this message persists, it\n",
       "  likely means that the widgets JavaScript library is either not installed or\n",
       "  not enabled. See the <a href=\"https://ipywidgets.readthedocs.io/en/stable/user_install.html\">Jupyter\n",
       "  Widgets Documentation</a> for setup instructions.\n",
       "</p>\n",
       "<p>\n",
       "  If you're reading this message in another frontend (for example, a static\n",
       "  rendering on GitHub or <a href=\"https://nbviewer.jupyter.org/\">NBViewer</a>),\n",
       "  it may mean that your frontend doesn't currently support widgets.\n",
       "</p>\n"
      ],
      "text/plain": [
       "HBox(children=(IntProgress(value=0, max=4761), HTML(value='')))"
      ]
     },
     "metadata": {},
     "output_type": "display_data"
    },
    {
     "name": "stdout",
     "output_type": "stream",
     "text": [
      "\n"
     ]
    },
    {
     "data": {
      "application/vnd.jupyter.widget-view+json": {
       "model_id": "eb343bc7fc4c47f79becd2a66937a3f9",
       "version_major": 2,
       "version_minor": 0
      },
      "text/html": [
       "<p>Failed to display Jupyter Widget of type <code>HBox</code>.</p>\n",
       "<p>\n",
       "  If you're reading this message in the Jupyter Notebook or JupyterLab Notebook, it may mean\n",
       "  that the widgets JavaScript is still loading. If this message persists, it\n",
       "  likely means that the widgets JavaScript library is either not installed or\n",
       "  not enabled. See the <a href=\"https://ipywidgets.readthedocs.io/en/stable/user_install.html\">Jupyter\n",
       "  Widgets Documentation</a> for setup instructions.\n",
       "</p>\n",
       "<p>\n",
       "  If you're reading this message in another frontend (for example, a static\n",
       "  rendering on GitHub or <a href=\"https://nbviewer.jupyter.org/\">NBViewer</a>),\n",
       "  it may mean that your frontend doesn't currently support widgets.\n",
       "</p>\n"
      ],
      "text/plain": [
       "HBox(children=(IntProgress(value=0, max=596), HTML(value='')))"
      ]
     },
     "metadata": {},
     "output_type": "display_data"
    },
    {
     "name": "stdout",
     "output_type": "stream",
     "text": [
      "\n"
     ]
    },
    {
     "name": "stderr",
     "output_type": "stream",
     "text": [
      "2018-04-23 13:43:45,927 : INFO : loading Word2Vec object from word2vec/TRECDataset-HUM_200.model\n"
     ]
    },
    {
     "name": "stdout",
     "output_type": "stream",
     "text": [
      "0.846040747742071 0.8456375838926175\n",
      "TRECDataset-HUM\n"
     ]
    },
    {
     "name": "stderr",
     "output_type": "stream",
     "text": [
      "2018-04-23 13:43:46,726 : INFO : loading wv recursively from word2vec/TRECDataset-HUM_200.model.wv.* with mmap=None\n",
      "2018-04-23 13:43:46,727 : INFO : setting ignored attribute syn0norm to None\n",
      "2018-04-23 13:43:46,728 : INFO : setting ignored attribute cum_table to None\n",
      "2018-04-23 13:43:46,728 : INFO : loaded word2vec/TRECDataset-HUM_200.model\n"
     ]
    },
    {
     "data": {
      "application/vnd.jupyter.widget-view+json": {
       "model_id": "a54879d7200641a283186efcf78d3e65",
       "version_major": 2,
       "version_minor": 0
      },
      "text/html": [
       "<p>Failed to display Jupyter Widget of type <code>HBox</code>.</p>\n",
       "<p>\n",
       "  If you're reading this message in the Jupyter Notebook or JupyterLab Notebook, it may mean\n",
       "  that the widgets JavaScript is still loading. If this message persists, it\n",
       "  likely means that the widgets JavaScript library is either not installed or\n",
       "  not enabled. See the <a href=\"https://ipywidgets.readthedocs.io/en/stable/user_install.html\">Jupyter\n",
       "  Widgets Documentation</a> for setup instructions.\n",
       "</p>\n",
       "<p>\n",
       "  If you're reading this message in another frontend (for example, a static\n",
       "  rendering on GitHub or <a href=\"https://nbviewer.jupyter.org/\">NBViewer</a>),\n",
       "  it may mean that your frontend doesn't currently support widgets.\n",
       "</p>\n"
      ],
      "text/plain": [
       "HBox(children=(IntProgress(value=0, max=4761), HTML(value='')))"
      ]
     },
     "metadata": {},
     "output_type": "display_data"
    },
    {
     "name": "stdout",
     "output_type": "stream",
     "text": [
      "\n"
     ]
    },
    {
     "data": {
      "application/vnd.jupyter.widget-view+json": {
       "model_id": "f33f9be622dd41f4ae4a815e5533a3e2",
       "version_major": 2,
       "version_minor": 0
      },
      "text/html": [
       "<p>Failed to display Jupyter Widget of type <code>HBox</code>.</p>\n",
       "<p>\n",
       "  If you're reading this message in the Jupyter Notebook or JupyterLab Notebook, it may mean\n",
       "  that the widgets JavaScript is still loading. If this message persists, it\n",
       "  likely means that the widgets JavaScript library is either not installed or\n",
       "  not enabled. See the <a href=\"https://ipywidgets.readthedocs.io/en/stable/user_install.html\">Jupyter\n",
       "  Widgets Documentation</a> for setup instructions.\n",
       "</p>\n",
       "<p>\n",
       "  If you're reading this message in another frontend (for example, a static\n",
       "  rendering on GitHub or <a href=\"https://nbviewer.jupyter.org/\">NBViewer</a>),\n",
       "  it may mean that your frontend doesn't currently support widgets.\n",
       "</p>\n"
      ],
      "text/plain": [
       "HBox(children=(IntProgress(value=0, max=4761), HTML(value='')))"
      ]
     },
     "metadata": {},
     "output_type": "display_data"
    },
    {
     "name": "stdout",
     "output_type": "stream",
     "text": [
      "\n"
     ]
    },
    {
     "data": {
      "application/vnd.jupyter.widget-view+json": {
       "model_id": "3e85bc81450848018380ae910f05c5f9",
       "version_major": 2,
       "version_minor": 0
      },
      "text/html": [
       "<p>Failed to display Jupyter Widget of type <code>HBox</code>.</p>\n",
       "<p>\n",
       "  If you're reading this message in the Jupyter Notebook or JupyterLab Notebook, it may mean\n",
       "  that the widgets JavaScript is still loading. If this message persists, it\n",
       "  likely means that the widgets JavaScript library is either not installed or\n",
       "  not enabled. See the <a href=\"https://ipywidgets.readthedocs.io/en/stable/user_install.html\">Jupyter\n",
       "  Widgets Documentation</a> for setup instructions.\n",
       "</p>\n",
       "<p>\n",
       "  If you're reading this message in another frontend (for example, a static\n",
       "  rendering on GitHub or <a href=\"https://nbviewer.jupyter.org/\">NBViewer</a>),\n",
       "  it may mean that your frontend doesn't currently support widgets.\n",
       "</p>\n"
      ],
      "text/plain": [
       "HBox(children=(IntProgress(value=0, max=596), HTML(value='')))"
      ]
     },
     "metadata": {},
     "output_type": "display_data"
    },
    {
     "name": "stdout",
     "output_type": "stream",
     "text": [
      "\n"
     ]
    },
    {
     "name": "stderr",
     "output_type": "stream",
     "text": [
      "2018-04-23 13:43:55,875 : INFO : loading Word2Vec object from word2vec/TRECDataset-HUM_300.model\n"
     ]
    },
    {
     "name": "stdout",
     "output_type": "stream",
     "text": [
      "0.7836588951900861 0.7835570469798658\n",
      "TRECDataset-HUM\n"
     ]
    },
    {
     "name": "stderr",
     "output_type": "stream",
     "text": [
      "2018-04-23 13:43:56,825 : INFO : loading wv recursively from word2vec/TRECDataset-HUM_300.model.wv.* with mmap=None\n",
      "2018-04-23 13:43:56,826 : INFO : setting ignored attribute syn0norm to None\n",
      "2018-04-23 13:43:56,827 : INFO : setting ignored attribute cum_table to None\n",
      "2018-04-23 13:43:56,827 : INFO : loaded word2vec/TRECDataset-HUM_300.model\n"
     ]
    },
    {
     "data": {
      "application/vnd.jupyter.widget-view+json": {
       "model_id": "072c691433f24456a6afd1c53e092007",
       "version_major": 2,
       "version_minor": 0
      },
      "text/html": [
       "<p>Failed to display Jupyter Widget of type <code>HBox</code>.</p>\n",
       "<p>\n",
       "  If you're reading this message in the Jupyter Notebook or JupyterLab Notebook, it may mean\n",
       "  that the widgets JavaScript is still loading. If this message persists, it\n",
       "  likely means that the widgets JavaScript library is either not installed or\n",
       "  not enabled. See the <a href=\"https://ipywidgets.readthedocs.io/en/stable/user_install.html\">Jupyter\n",
       "  Widgets Documentation</a> for setup instructions.\n",
       "</p>\n",
       "<p>\n",
       "  If you're reading this message in another frontend (for example, a static\n",
       "  rendering on GitHub or <a href=\"https://nbviewer.jupyter.org/\">NBViewer</a>),\n",
       "  it may mean that your frontend doesn't currently support widgets.\n",
       "</p>\n"
      ],
      "text/plain": [
       "HBox(children=(IntProgress(value=0, max=4761), HTML(value='')))"
      ]
     },
     "metadata": {},
     "output_type": "display_data"
    },
    {
     "name": "stdout",
     "output_type": "stream",
     "text": [
      "\n"
     ]
    },
    {
     "data": {
      "application/vnd.jupyter.widget-view+json": {
       "model_id": "cc7d20ed577c413b9e85f5267d5f00cc",
       "version_major": 2,
       "version_minor": 0
      },
      "text/html": [
       "<p>Failed to display Jupyter Widget of type <code>HBox</code>.</p>\n",
       "<p>\n",
       "  If you're reading this message in the Jupyter Notebook or JupyterLab Notebook, it may mean\n",
       "  that the widgets JavaScript is still loading. If this message persists, it\n",
       "  likely means that the widgets JavaScript library is either not installed or\n",
       "  not enabled. See the <a href=\"https://ipywidgets.readthedocs.io/en/stable/user_install.html\">Jupyter\n",
       "  Widgets Documentation</a> for setup instructions.\n",
       "</p>\n",
       "<p>\n",
       "  If you're reading this message in another frontend (for example, a static\n",
       "  rendering on GitHub or <a href=\"https://nbviewer.jupyter.org/\">NBViewer</a>),\n",
       "  it may mean that your frontend doesn't currently support widgets.\n",
       "</p>\n"
      ],
      "text/plain": [
       "HBox(children=(IntProgress(value=0, max=4761), HTML(value='')))"
      ]
     },
     "metadata": {},
     "output_type": "display_data"
    },
    {
     "name": "stdout",
     "output_type": "stream",
     "text": [
      "\n"
     ]
    },
    {
     "data": {
      "application/vnd.jupyter.widget-view+json": {
       "model_id": "014c173e909c42baaaa89ffcd2ca556c",
       "version_major": 2,
       "version_minor": 0
      },
      "text/html": [
       "<p>Failed to display Jupyter Widget of type <code>HBox</code>.</p>\n",
       "<p>\n",
       "  If you're reading this message in the Jupyter Notebook or JupyterLab Notebook, it may mean\n",
       "  that the widgets JavaScript is still loading. If this message persists, it\n",
       "  likely means that the widgets JavaScript library is either not installed or\n",
       "  not enabled. See the <a href=\"https://ipywidgets.readthedocs.io/en/stable/user_install.html\">Jupyter\n",
       "  Widgets Documentation</a> for setup instructions.\n",
       "</p>\n",
       "<p>\n",
       "  If you're reading this message in another frontend (for example, a static\n",
       "  rendering on GitHub or <a href=\"https://nbviewer.jupyter.org/\">NBViewer</a>),\n",
       "  it may mean that your frontend doesn't currently support widgets.\n",
       "</p>\n"
      ],
      "text/plain": [
       "HBox(children=(IntProgress(value=0, max=596), HTML(value='')))"
      ]
     },
     "metadata": {},
     "output_type": "display_data"
    },
    {
     "name": "stdout",
     "output_type": "stream",
     "text": [
      "\n"
     ]
    },
    {
     "name": "stderr",
     "output_type": "stream",
     "text": [
      "2018-04-23 13:44:09,581 : INFO : loading Word2Vec object from word2vec/TRECDataset-HUM_400.model\n"
     ]
    },
    {
     "name": "stdout",
     "output_type": "stream",
     "text": [
      "0.7836588951900861 0.7835570469798658\n",
      "TRECDataset-HUM\n"
     ]
    },
    {
     "name": "stderr",
     "output_type": "stream",
     "text": [
      "2018-04-23 13:44:12,338 : INFO : loading wv recursively from word2vec/TRECDataset-HUM_400.model.wv.* with mmap=None\n",
      "2018-04-23 13:44:12,339 : INFO : setting ignored attribute syn0norm to None\n",
      "2018-04-23 13:44:12,339 : INFO : setting ignored attribute cum_table to None\n",
      "2018-04-23 13:44:12,340 : INFO : loaded word2vec/TRECDataset-HUM_400.model\n"
     ]
    },
    {
     "data": {
      "application/vnd.jupyter.widget-view+json": {
       "model_id": "11cda0ca11704582b65df505c0d2ed48",
       "version_major": 2,
       "version_minor": 0
      },
      "text/html": [
       "<p>Failed to display Jupyter Widget of type <code>HBox</code>.</p>\n",
       "<p>\n",
       "  If you're reading this message in the Jupyter Notebook or JupyterLab Notebook, it may mean\n",
       "  that the widgets JavaScript is still loading. If this message persists, it\n",
       "  likely means that the widgets JavaScript library is either not installed or\n",
       "  not enabled. See the <a href=\"https://ipywidgets.readthedocs.io/en/stable/user_install.html\">Jupyter\n",
       "  Widgets Documentation</a> for setup instructions.\n",
       "</p>\n",
       "<p>\n",
       "  If you're reading this message in another frontend (for example, a static\n",
       "  rendering on GitHub or <a href=\"https://nbviewer.jupyter.org/\">NBViewer</a>),\n",
       "  it may mean that your frontend doesn't currently support widgets.\n",
       "</p>\n"
      ],
      "text/plain": [
       "HBox(children=(IntProgress(value=0, max=4761), HTML(value='')))"
      ]
     },
     "metadata": {},
     "output_type": "display_data"
    },
    {
     "name": "stdout",
     "output_type": "stream",
     "text": [
      "\n"
     ]
    },
    {
     "data": {
      "application/vnd.jupyter.widget-view+json": {
       "model_id": "a59720e00f034c5992050f59b6225d83",
       "version_major": 2,
       "version_minor": 0
      },
      "text/html": [
       "<p>Failed to display Jupyter Widget of type <code>HBox</code>.</p>\n",
       "<p>\n",
       "  If you're reading this message in the Jupyter Notebook or JupyterLab Notebook, it may mean\n",
       "  that the widgets JavaScript is still loading. If this message persists, it\n",
       "  likely means that the widgets JavaScript library is either not installed or\n",
       "  not enabled. See the <a href=\"https://ipywidgets.readthedocs.io/en/stable/user_install.html\">Jupyter\n",
       "  Widgets Documentation</a> for setup instructions.\n",
       "</p>\n",
       "<p>\n",
       "  If you're reading this message in another frontend (for example, a static\n",
       "  rendering on GitHub or <a href=\"https://nbviewer.jupyter.org/\">NBViewer</a>),\n",
       "  it may mean that your frontend doesn't currently support widgets.\n",
       "</p>\n"
      ],
      "text/plain": [
       "HBox(children=(IntProgress(value=0, max=4761), HTML(value='')))"
      ]
     },
     "metadata": {},
     "output_type": "display_data"
    },
    {
     "name": "stdout",
     "output_type": "stream",
     "text": [
      "\n"
     ]
    },
    {
     "data": {
      "application/vnd.jupyter.widget-view+json": {
       "model_id": "eeacb90819244ec2913f2f2dcf7e0565",
       "version_major": 2,
       "version_minor": 0
      },
      "text/html": [
       "<p>Failed to display Jupyter Widget of type <code>HBox</code>.</p>\n",
       "<p>\n",
       "  If you're reading this message in the Jupyter Notebook or JupyterLab Notebook, it may mean\n",
       "  that the widgets JavaScript is still loading. If this message persists, it\n",
       "  likely means that the widgets JavaScript library is either not installed or\n",
       "  not enabled. See the <a href=\"https://ipywidgets.readthedocs.io/en/stable/user_install.html\">Jupyter\n",
       "  Widgets Documentation</a> for setup instructions.\n",
       "</p>\n",
       "<p>\n",
       "  If you're reading this message in another frontend (for example, a static\n",
       "  rendering on GitHub or <a href=\"https://nbviewer.jupyter.org/\">NBViewer</a>),\n",
       "  it may mean that your frontend doesn't currently support widgets.\n",
       "</p>\n"
      ],
      "text/plain": [
       "HBox(children=(IntProgress(value=0, max=596), HTML(value='')))"
      ]
     },
     "metadata": {},
     "output_type": "display_data"
    },
    {
     "name": "stdout",
     "output_type": "stream",
     "text": [
      "\n"
     ]
    },
    {
     "name": "stderr",
     "output_type": "stream",
     "text": [
      "2018-04-23 13:44:27,899 : INFO : loading Word2Vec object from word2vec/TRECDataset-ENTY_200.model\n"
     ]
    },
    {
     "name": "stdout",
     "output_type": "stream",
     "text": [
      "0.7836588951900861 0.7835570469798658\n",
      "TRECDataset-ENTY\n"
     ]
    },
    {
     "name": "stderr",
     "output_type": "stream",
     "text": [
      "2018-04-23 13:44:28,733 : INFO : loading wv recursively from word2vec/TRECDataset-ENTY_200.model.wv.* with mmap=None\n",
      "2018-04-23 13:44:28,752 : INFO : setting ignored attribute syn0norm to None\n",
      "2018-04-23 13:44:28,754 : INFO : setting ignored attribute cum_table to None\n",
      "2018-04-23 13:44:28,755 : INFO : loaded word2vec/TRECDataset-ENTY_200.model\n"
     ]
    },
    {
     "data": {
      "application/vnd.jupyter.widget-view+json": {
       "model_id": "59713fc3c51d40cebe49a745fd29c5c3",
       "version_major": 2,
       "version_minor": 0
      },
      "text/html": [
       "<p>Failed to display Jupyter Widget of type <code>HBox</code>.</p>\n",
       "<p>\n",
       "  If you're reading this message in the Jupyter Notebook or JupyterLab Notebook, it may mean\n",
       "  that the widgets JavaScript is still loading. If this message persists, it\n",
       "  likely means that the widgets JavaScript library is either not installed or\n",
       "  not enabled. See the <a href=\"https://ipywidgets.readthedocs.io/en/stable/user_install.html\">Jupyter\n",
       "  Widgets Documentation</a> for setup instructions.\n",
       "</p>\n",
       "<p>\n",
       "  If you're reading this message in another frontend (for example, a static\n",
       "  rendering on GitHub or <a href=\"https://nbviewer.jupyter.org/\">NBViewer</a>),\n",
       "  it may mean that your frontend doesn't currently support widgets.\n",
       "</p>\n"
      ],
      "text/plain": [
       "HBox(children=(IntProgress(value=0, max=4761), HTML(value='')))"
      ]
     },
     "metadata": {},
     "output_type": "display_data"
    },
    {
     "name": "stdout",
     "output_type": "stream",
     "text": [
      "\n"
     ]
    },
    {
     "data": {
      "application/vnd.jupyter.widget-view+json": {
       "model_id": "c4886dd4838f4c0c91f841222aba6cd8",
       "version_major": 2,
       "version_minor": 0
      },
      "text/html": [
       "<p>Failed to display Jupyter Widget of type <code>HBox</code>.</p>\n",
       "<p>\n",
       "  If you're reading this message in the Jupyter Notebook or JupyterLab Notebook, it may mean\n",
       "  that the widgets JavaScript is still loading. If this message persists, it\n",
       "  likely means that the widgets JavaScript library is either not installed or\n",
       "  not enabled. See the <a href=\"https://ipywidgets.readthedocs.io/en/stable/user_install.html\">Jupyter\n",
       "  Widgets Documentation</a> for setup instructions.\n",
       "</p>\n",
       "<p>\n",
       "  If you're reading this message in another frontend (for example, a static\n",
       "  rendering on GitHub or <a href=\"https://nbviewer.jupyter.org/\">NBViewer</a>),\n",
       "  it may mean that your frontend doesn't currently support widgets.\n",
       "</p>\n"
      ],
      "text/plain": [
       "HBox(children=(IntProgress(value=0, max=4761), HTML(value='')))"
      ]
     },
     "metadata": {},
     "output_type": "display_data"
    },
    {
     "name": "stdout",
     "output_type": "stream",
     "text": [
      "\n"
     ]
    },
    {
     "data": {
      "application/vnd.jupyter.widget-view+json": {
       "model_id": "2ebd5fb7273443bf9a0547d112e835a7",
       "version_major": 2,
       "version_minor": 0
      },
      "text/html": [
       "<p>Failed to display Jupyter Widget of type <code>HBox</code>.</p>\n",
       "<p>\n",
       "  If you're reading this message in the Jupyter Notebook or JupyterLab Notebook, it may mean\n",
       "  that the widgets JavaScript is still loading. If this message persists, it\n",
       "  likely means that the widgets JavaScript library is either not installed or\n",
       "  not enabled. See the <a href=\"https://ipywidgets.readthedocs.io/en/stable/user_install.html\">Jupyter\n",
       "  Widgets Documentation</a> for setup instructions.\n",
       "</p>\n",
       "<p>\n",
       "  If you're reading this message in another frontend (for example, a static\n",
       "  rendering on GitHub or <a href=\"https://nbviewer.jupyter.org/\">NBViewer</a>),\n",
       "  it may mean that your frontend doesn't currently support widgets.\n",
       "</p>\n"
      ],
      "text/plain": [
       "HBox(children=(IntProgress(value=0, max=596), HTML(value='')))"
      ]
     },
     "metadata": {},
     "output_type": "display_data"
    },
    {
     "name": "stdout",
     "output_type": "stream",
     "text": [
      "\n"
     ]
    },
    {
     "name": "stderr",
     "output_type": "stream",
     "text": [
      "2018-04-23 13:44:38,307 : INFO : loading Word2Vec object from word2vec/TRECDataset-ENTY_300.model\n"
     ]
    },
    {
     "name": "stdout",
     "output_type": "stream",
     "text": [
      "0.7742070993488763 0.7734899328859061\n",
      "TRECDataset-ENTY\n"
     ]
    },
    {
     "name": "stderr",
     "output_type": "stream",
     "text": [
      "2018-04-23 13:44:39,188 : INFO : loading wv recursively from word2vec/TRECDataset-ENTY_300.model.wv.* with mmap=None\n",
      "2018-04-23 13:44:39,190 : INFO : setting ignored attribute syn0norm to None\n",
      "2018-04-23 13:44:39,190 : INFO : setting ignored attribute cum_table to None\n",
      "2018-04-23 13:44:39,191 : INFO : loaded word2vec/TRECDataset-ENTY_300.model\n"
     ]
    },
    {
     "data": {
      "application/vnd.jupyter.widget-view+json": {
       "model_id": "b9313885fbcb4a1da80702d7500fdc7f",
       "version_major": 2,
       "version_minor": 0
      },
      "text/html": [
       "<p>Failed to display Jupyter Widget of type <code>HBox</code>.</p>\n",
       "<p>\n",
       "  If you're reading this message in the Jupyter Notebook or JupyterLab Notebook, it may mean\n",
       "  that the widgets JavaScript is still loading. If this message persists, it\n",
       "  likely means that the widgets JavaScript library is either not installed or\n",
       "  not enabled. See the <a href=\"https://ipywidgets.readthedocs.io/en/stable/user_install.html\">Jupyter\n",
       "  Widgets Documentation</a> for setup instructions.\n",
       "</p>\n",
       "<p>\n",
       "  If you're reading this message in another frontend (for example, a static\n",
       "  rendering on GitHub or <a href=\"https://nbviewer.jupyter.org/\">NBViewer</a>),\n",
       "  it may mean that your frontend doesn't currently support widgets.\n",
       "</p>\n"
      ],
      "text/plain": [
       "HBox(children=(IntProgress(value=0, max=4761), HTML(value='')))"
      ]
     },
     "metadata": {},
     "output_type": "display_data"
    },
    {
     "name": "stdout",
     "output_type": "stream",
     "text": [
      "\n"
     ]
    },
    {
     "data": {
      "application/vnd.jupyter.widget-view+json": {
       "model_id": "e90c5a19a91c478b89206fa1e4cc5079",
       "version_major": 2,
       "version_minor": 0
      },
      "text/html": [
       "<p>Failed to display Jupyter Widget of type <code>HBox</code>.</p>\n",
       "<p>\n",
       "  If you're reading this message in the Jupyter Notebook or JupyterLab Notebook, it may mean\n",
       "  that the widgets JavaScript is still loading. If this message persists, it\n",
       "  likely means that the widgets JavaScript library is either not installed or\n",
       "  not enabled. See the <a href=\"https://ipywidgets.readthedocs.io/en/stable/user_install.html\">Jupyter\n",
       "  Widgets Documentation</a> for setup instructions.\n",
       "</p>\n",
       "<p>\n",
       "  If you're reading this message in another frontend (for example, a static\n",
       "  rendering on GitHub or <a href=\"https://nbviewer.jupyter.org/\">NBViewer</a>),\n",
       "  it may mean that your frontend doesn't currently support widgets.\n",
       "</p>\n"
      ],
      "text/plain": [
       "HBox(children=(IntProgress(value=0, max=4761), HTML(value='')))"
      ]
     },
     "metadata": {},
     "output_type": "display_data"
    },
    {
     "name": "stdout",
     "output_type": "stream",
     "text": [
      "\n"
     ]
    },
    {
     "data": {
      "application/vnd.jupyter.widget-view+json": {
       "model_id": "0109ca6bd1274037867c3787d16e1bd1",
       "version_major": 2,
       "version_minor": 0
      },
      "text/html": [
       "<p>Failed to display Jupyter Widget of type <code>HBox</code>.</p>\n",
       "<p>\n",
       "  If you're reading this message in the Jupyter Notebook or JupyterLab Notebook, it may mean\n",
       "  that the widgets JavaScript is still loading. If this message persists, it\n",
       "  likely means that the widgets JavaScript library is either not installed or\n",
       "  not enabled. See the <a href=\"https://ipywidgets.readthedocs.io/en/stable/user_install.html\">Jupyter\n",
       "  Widgets Documentation</a> for setup instructions.\n",
       "</p>\n",
       "<p>\n",
       "  If you're reading this message in another frontend (for example, a static\n",
       "  rendering on GitHub or <a href=\"https://nbviewer.jupyter.org/\">NBViewer</a>),\n",
       "  it may mean that your frontend doesn't currently support widgets.\n",
       "</p>\n"
      ],
      "text/plain": [
       "HBox(children=(IntProgress(value=0, max=596), HTML(value='')))"
      ]
     },
     "metadata": {},
     "output_type": "display_data"
    },
    {
     "name": "stdout",
     "output_type": "stream",
     "text": [
      "\n"
     ]
    },
    {
     "name": "stderr",
     "output_type": "stream",
     "text": [
      "2018-04-23 13:44:52,186 : INFO : loading Word2Vec object from word2vec/TRECDataset-ENTY_400.model\n"
     ]
    },
    {
     "name": "stdout",
     "output_type": "stream",
     "text": [
      "0.7742070993488763 0.7734899328859061\n",
      "TRECDataset-ENTY\n"
     ]
    },
    {
     "name": "stderr",
     "output_type": "stream",
     "text": [
      "2018-04-23 13:44:53,803 : INFO : loading wv recursively from word2vec/TRECDataset-ENTY_400.model.wv.* with mmap=None\n",
      "2018-04-23 13:44:53,804 : INFO : setting ignored attribute syn0norm to None\n",
      "2018-04-23 13:44:53,805 : INFO : setting ignored attribute cum_table to None\n",
      "2018-04-23 13:44:53,806 : INFO : loaded word2vec/TRECDataset-ENTY_400.model\n"
     ]
    },
    {
     "data": {
      "application/vnd.jupyter.widget-view+json": {
       "model_id": "aefbaae295184a1d90adee8c2208e81a",
       "version_major": 2,
       "version_minor": 0
      },
      "text/html": [
       "<p>Failed to display Jupyter Widget of type <code>HBox</code>.</p>\n",
       "<p>\n",
       "  If you're reading this message in the Jupyter Notebook or JupyterLab Notebook, it may mean\n",
       "  that the widgets JavaScript is still loading. If this message persists, it\n",
       "  likely means that the widgets JavaScript library is either not installed or\n",
       "  not enabled. See the <a href=\"https://ipywidgets.readthedocs.io/en/stable/user_install.html\">Jupyter\n",
       "  Widgets Documentation</a> for setup instructions.\n",
       "</p>\n",
       "<p>\n",
       "  If you're reading this message in another frontend (for example, a static\n",
       "  rendering on GitHub or <a href=\"https://nbviewer.jupyter.org/\">NBViewer</a>),\n",
       "  it may mean that your frontend doesn't currently support widgets.\n",
       "</p>\n"
      ],
      "text/plain": [
       "HBox(children=(IntProgress(value=0, max=4761), HTML(value='')))"
      ]
     },
     "metadata": {},
     "output_type": "display_data"
    },
    {
     "name": "stdout",
     "output_type": "stream",
     "text": [
      "\n"
     ]
    },
    {
     "data": {
      "application/vnd.jupyter.widget-view+json": {
       "model_id": "1f15b108b1084911833438cab8fee526",
       "version_major": 2,
       "version_minor": 0
      },
      "text/html": [
       "<p>Failed to display Jupyter Widget of type <code>HBox</code>.</p>\n",
       "<p>\n",
       "  If you're reading this message in the Jupyter Notebook or JupyterLab Notebook, it may mean\n",
       "  that the widgets JavaScript is still loading. If this message persists, it\n",
       "  likely means that the widgets JavaScript library is either not installed or\n",
       "  not enabled. See the <a href=\"https://ipywidgets.readthedocs.io/en/stable/user_install.html\">Jupyter\n",
       "  Widgets Documentation</a> for setup instructions.\n",
       "</p>\n",
       "<p>\n",
       "  If you're reading this message in another frontend (for example, a static\n",
       "  rendering on GitHub or <a href=\"https://nbviewer.jupyter.org/\">NBViewer</a>),\n",
       "  it may mean that your frontend doesn't currently support widgets.\n",
       "</p>\n"
      ],
      "text/plain": [
       "HBox(children=(IntProgress(value=0, max=4761), HTML(value='')))"
      ]
     },
     "metadata": {},
     "output_type": "display_data"
    },
    {
     "name": "stdout",
     "output_type": "stream",
     "text": [
      "\n"
     ]
    },
    {
     "data": {
      "application/vnd.jupyter.widget-view+json": {
       "model_id": "146ec499b33e4efe9160143ad63184d7",
       "version_major": 2,
       "version_minor": 0
      },
      "text/html": [
       "<p>Failed to display Jupyter Widget of type <code>HBox</code>.</p>\n",
       "<p>\n",
       "  If you're reading this message in the Jupyter Notebook or JupyterLab Notebook, it may mean\n",
       "  that the widgets JavaScript is still loading. If this message persists, it\n",
       "  likely means that the widgets JavaScript library is either not installed or\n",
       "  not enabled. See the <a href=\"https://ipywidgets.readthedocs.io/en/stable/user_install.html\">Jupyter\n",
       "  Widgets Documentation</a> for setup instructions.\n",
       "</p>\n",
       "<p>\n",
       "  If you're reading this message in another frontend (for example, a static\n",
       "  rendering on GitHub or <a href=\"https://nbviewer.jupyter.org/\">NBViewer</a>),\n",
       "  it may mean that your frontend doesn't currently support widgets.\n",
       "</p>\n"
      ],
      "text/plain": [
       "HBox(children=(IntProgress(value=0, max=596), HTML(value='')))"
      ]
     },
     "metadata": {},
     "output_type": "display_data"
    },
    {
     "name": "stdout",
     "output_type": "stream",
     "text": [
      "\n",
      "0.7742070993488763 0.7734899328859061\n"
     ]
    }
   ],
   "source": [
    "for dataset in datasets.ALL_DATASETS+datasets.TREC_DATASETS:\n",
    "    for dims in [200,300,400]:\n",
    "        print(dataset.name())\n",
    "        model = TrainedWordVectorModel(dims, dataset,SVC())\n",
    "        model.fit(dataset.train_samples(), dataset.train_labels())\n",
    "        train_p = model.score(dataset.train_samples(), dataset.train_labels())\n",
    "        test_p = model.score(dataset.test_samples(), dataset.test_labels())\n",
    "        results[dataset.name()][('svc', str(dims), 'train')] = train_p\n",
    "        results[dataset.name()][('svc', str(dims), 'test')] = test_p\n",
    "        print(train_p, test_p)\n",
    "    "
   ]
  },
  {
   "cell_type": "code",
   "execution_count": 38,
   "metadata": {
    "scrolled": true
   },
   "outputs": [
    {
     "name": "stderr",
     "output_type": "stream",
     "text": [
      "2018-04-23 13:45:18,483 : INFO : loading Word2Vec object from word2vec/CRDataset_200.model\n"
     ]
    },
    {
     "name": "stdout",
     "output_type": "stream",
     "text": [
      "CRDataset\n"
     ]
    },
    {
     "name": "stderr",
     "output_type": "stream",
     "text": [
      "2018-04-23 13:45:19,671 : INFO : loading wv recursively from word2vec/CRDataset_200.model.wv.* with mmap=None\n",
      "2018-04-23 13:45:19,672 : INFO : setting ignored attribute syn0norm to None\n",
      "2018-04-23 13:45:19,672 : INFO : setting ignored attribute cum_table to None\n",
      "2018-04-23 13:45:19,673 : INFO : loaded word2vec/CRDataset_200.model\n"
     ]
    },
    {
     "data": {
      "application/vnd.jupyter.widget-view+json": {
       "model_id": "684e718716f94aa797b7133dd860d391",
       "version_major": 2,
       "version_minor": 0
      },
      "text/html": [
       "<p>Failed to display Jupyter Widget of type <code>HBox</code>.</p>\n",
       "<p>\n",
       "  If you're reading this message in the Jupyter Notebook or JupyterLab Notebook, it may mean\n",
       "  that the widgets JavaScript is still loading. If this message persists, it\n",
       "  likely means that the widgets JavaScript library is either not installed or\n",
       "  not enabled. See the <a href=\"https://ipywidgets.readthedocs.io/en/stable/user_install.html\">Jupyter\n",
       "  Widgets Documentation</a> for setup instructions.\n",
       "</p>\n",
       "<p>\n",
       "  If you're reading this message in another frontend (for example, a static\n",
       "  rendering on GitHub or <a href=\"https://nbviewer.jupyter.org/\">NBViewer</a>),\n",
       "  it may mean that your frontend doesn't currently support widgets.\n",
       "</p>\n"
      ],
      "text/plain": [
       "HBox(children=(IntProgress(value=0, max=3020), HTML(value='')))"
      ]
     },
     "metadata": {},
     "output_type": "display_data"
    },
    {
     "name": "stdout",
     "output_type": "stream",
     "text": [
      "\n"
     ]
    },
    {
     "data": {
      "application/vnd.jupyter.widget-view+json": {
       "model_id": "24ae5672218b41e9883751e7cd1faccb",
       "version_major": 2,
       "version_minor": 0
      },
      "text/html": [
       "<p>Failed to display Jupyter Widget of type <code>HBox</code>.</p>\n",
       "<p>\n",
       "  If you're reading this message in the Jupyter Notebook or JupyterLab Notebook, it may mean\n",
       "  that the widgets JavaScript is still loading. If this message persists, it\n",
       "  likely means that the widgets JavaScript library is either not installed or\n",
       "  not enabled. See the <a href=\"https://ipywidgets.readthedocs.io/en/stable/user_install.html\">Jupyter\n",
       "  Widgets Documentation</a> for setup instructions.\n",
       "</p>\n",
       "<p>\n",
       "  If you're reading this message in another frontend (for example, a static\n",
       "  rendering on GitHub or <a href=\"https://nbviewer.jupyter.org/\">NBViewer</a>),\n",
       "  it may mean that your frontend doesn't currently support widgets.\n",
       "</p>\n"
      ],
      "text/plain": [
       "HBox(children=(IntProgress(value=0, max=3020), HTML(value='')))"
      ]
     },
     "metadata": {},
     "output_type": "display_data"
    },
    {
     "name": "stdout",
     "output_type": "stream",
     "text": [
      "\n"
     ]
    },
    {
     "data": {
      "application/vnd.jupyter.widget-view+json": {
       "model_id": "11091e3e88b94502b08abed78cf4b49b",
       "version_major": 2,
       "version_minor": 0
      },
      "text/html": [
       "<p>Failed to display Jupyter Widget of type <code>HBox</code>.</p>\n",
       "<p>\n",
       "  If you're reading this message in the Jupyter Notebook or JupyterLab Notebook, it may mean\n",
       "  that the widgets JavaScript is still loading. If this message persists, it\n",
       "  likely means that the widgets JavaScript library is either not installed or\n",
       "  not enabled. See the <a href=\"https://ipywidgets.readthedocs.io/en/stable/user_install.html\">Jupyter\n",
       "  Widgets Documentation</a> for setup instructions.\n",
       "</p>\n",
       "<p>\n",
       "  If you're reading this message in another frontend (for example, a static\n",
       "  rendering on GitHub or <a href=\"https://nbviewer.jupyter.org/\">NBViewer</a>),\n",
       "  it may mean that your frontend doesn't currently support widgets.\n",
       "</p>\n"
      ],
      "text/plain": [
       "HBox(children=(IntProgress(value=0, max=378), HTML(value='')))"
      ]
     },
     "metadata": {},
     "output_type": "display_data"
    },
    {
     "name": "stderr",
     "output_type": "stream",
     "text": [
      "2018-04-23 13:45:20,803 : INFO : loading Word2Vec object from word2vec/CRDataset_300.model\n"
     ]
    },
    {
     "name": "stdout",
     "output_type": "stream",
     "text": [
      "\n",
      "0.6688741721854304 0.6666666666666667\n",
      "CRDataset\n"
     ]
    },
    {
     "name": "stderr",
     "output_type": "stream",
     "text": [
      "2018-04-23 13:45:22,449 : INFO : loading wv recursively from word2vec/CRDataset_300.model.wv.* with mmap=None\n",
      "2018-04-23 13:45:22,450 : INFO : setting ignored attribute syn0norm to None\n",
      "2018-04-23 13:45:22,451 : INFO : setting ignored attribute cum_table to None\n",
      "2018-04-23 13:45:22,451 : INFO : loaded word2vec/CRDataset_300.model\n"
     ]
    },
    {
     "data": {
      "application/vnd.jupyter.widget-view+json": {
       "model_id": "8e0a5049c28140dd8fe9bfe8265865ed",
       "version_major": 2,
       "version_minor": 0
      },
      "text/html": [
       "<p>Failed to display Jupyter Widget of type <code>HBox</code>.</p>\n",
       "<p>\n",
       "  If you're reading this message in the Jupyter Notebook or JupyterLab Notebook, it may mean\n",
       "  that the widgets JavaScript is still loading. If this message persists, it\n",
       "  likely means that the widgets JavaScript library is either not installed or\n",
       "  not enabled. See the <a href=\"https://ipywidgets.readthedocs.io/en/stable/user_install.html\">Jupyter\n",
       "  Widgets Documentation</a> for setup instructions.\n",
       "</p>\n",
       "<p>\n",
       "  If you're reading this message in another frontend (for example, a static\n",
       "  rendering on GitHub or <a href=\"https://nbviewer.jupyter.org/\">NBViewer</a>),\n",
       "  it may mean that your frontend doesn't currently support widgets.\n",
       "</p>\n"
      ],
      "text/plain": [
       "HBox(children=(IntProgress(value=0, max=3020), HTML(value='')))"
      ]
     },
     "metadata": {},
     "output_type": "display_data"
    },
    {
     "name": "stdout",
     "output_type": "stream",
     "text": [
      "\n"
     ]
    },
    {
     "data": {
      "application/vnd.jupyter.widget-view+json": {
       "model_id": "53f41844052c4ee5b9f42729fdba8aef",
       "version_major": 2,
       "version_minor": 0
      },
      "text/html": [
       "<p>Failed to display Jupyter Widget of type <code>HBox</code>.</p>\n",
       "<p>\n",
       "  If you're reading this message in the Jupyter Notebook or JupyterLab Notebook, it may mean\n",
       "  that the widgets JavaScript is still loading. If this message persists, it\n",
       "  likely means that the widgets JavaScript library is either not installed or\n",
       "  not enabled. See the <a href=\"https://ipywidgets.readthedocs.io/en/stable/user_install.html\">Jupyter\n",
       "  Widgets Documentation</a> for setup instructions.\n",
       "</p>\n",
       "<p>\n",
       "  If you're reading this message in another frontend (for example, a static\n",
       "  rendering on GitHub or <a href=\"https://nbviewer.jupyter.org/\">NBViewer</a>),\n",
       "  it may mean that your frontend doesn't currently support widgets.\n",
       "</p>\n"
      ],
      "text/plain": [
       "HBox(children=(IntProgress(value=0, max=3020), HTML(value='')))"
      ]
     },
     "metadata": {},
     "output_type": "display_data"
    },
    {
     "name": "stdout",
     "output_type": "stream",
     "text": [
      "\n"
     ]
    },
    {
     "data": {
      "application/vnd.jupyter.widget-view+json": {
       "model_id": "824355806d60413ba86475a609fcd307",
       "version_major": 2,
       "version_minor": 0
      },
      "text/html": [
       "<p>Failed to display Jupyter Widget of type <code>HBox</code>.</p>\n",
       "<p>\n",
       "  If you're reading this message in the Jupyter Notebook or JupyterLab Notebook, it may mean\n",
       "  that the widgets JavaScript is still loading. If this message persists, it\n",
       "  likely means that the widgets JavaScript library is either not installed or\n",
       "  not enabled. See the <a href=\"https://ipywidgets.readthedocs.io/en/stable/user_install.html\">Jupyter\n",
       "  Widgets Documentation</a> for setup instructions.\n",
       "</p>\n",
       "<p>\n",
       "  If you're reading this message in another frontend (for example, a static\n",
       "  rendering on GitHub or <a href=\"https://nbviewer.jupyter.org/\">NBViewer</a>),\n",
       "  it may mean that your frontend doesn't currently support widgets.\n",
       "</p>\n"
      ],
      "text/plain": [
       "HBox(children=(IntProgress(value=0, max=378), HTML(value='')))"
      ]
     },
     "metadata": {},
     "output_type": "display_data"
    },
    {
     "name": "stderr",
     "output_type": "stream",
     "text": [
      "2018-04-23 13:45:23,314 : INFO : loading Word2Vec object from word2vec/CRDataset_400.model\n"
     ]
    },
    {
     "name": "stdout",
     "output_type": "stream",
     "text": [
      "\n",
      "0.6586092715231788 0.6455026455026456\n",
      "CRDataset\n"
     ]
    },
    {
     "name": "stderr",
     "output_type": "stream",
     "text": [
      "2018-04-23 13:45:25,031 : INFO : loading wv recursively from word2vec/CRDataset_400.model.wv.* with mmap=None\n",
      "2018-04-23 13:45:25,035 : INFO : setting ignored attribute syn0norm to None\n",
      "2018-04-23 13:45:25,038 : INFO : setting ignored attribute cum_table to None\n",
      "2018-04-23 13:45:25,042 : INFO : loaded word2vec/CRDataset_400.model\n"
     ]
    },
    {
     "data": {
      "application/vnd.jupyter.widget-view+json": {
       "model_id": "c8ed4bfcf2114058991be55b495e6b57",
       "version_major": 2,
       "version_minor": 0
      },
      "text/html": [
       "<p>Failed to display Jupyter Widget of type <code>HBox</code>.</p>\n",
       "<p>\n",
       "  If you're reading this message in the Jupyter Notebook or JupyterLab Notebook, it may mean\n",
       "  that the widgets JavaScript is still loading. If this message persists, it\n",
       "  likely means that the widgets JavaScript library is either not installed or\n",
       "  not enabled. See the <a href=\"https://ipywidgets.readthedocs.io/en/stable/user_install.html\">Jupyter\n",
       "  Widgets Documentation</a> for setup instructions.\n",
       "</p>\n",
       "<p>\n",
       "  If you're reading this message in another frontend (for example, a static\n",
       "  rendering on GitHub or <a href=\"https://nbviewer.jupyter.org/\">NBViewer</a>),\n",
       "  it may mean that your frontend doesn't currently support widgets.\n",
       "</p>\n"
      ],
      "text/plain": [
       "HBox(children=(IntProgress(value=0, max=3020), HTML(value='')))"
      ]
     },
     "metadata": {},
     "output_type": "display_data"
    },
    {
     "name": "stdout",
     "output_type": "stream",
     "text": [
      "\n"
     ]
    },
    {
     "data": {
      "application/vnd.jupyter.widget-view+json": {
       "model_id": "7744bbe95ee2438bb7188a76bc3aa3db",
       "version_major": 2,
       "version_minor": 0
      },
      "text/html": [
       "<p>Failed to display Jupyter Widget of type <code>HBox</code>.</p>\n",
       "<p>\n",
       "  If you're reading this message in the Jupyter Notebook or JupyterLab Notebook, it may mean\n",
       "  that the widgets JavaScript is still loading. If this message persists, it\n",
       "  likely means that the widgets JavaScript library is either not installed or\n",
       "  not enabled. See the <a href=\"https://ipywidgets.readthedocs.io/en/stable/user_install.html\">Jupyter\n",
       "  Widgets Documentation</a> for setup instructions.\n",
       "</p>\n",
       "<p>\n",
       "  If you're reading this message in another frontend (for example, a static\n",
       "  rendering on GitHub or <a href=\"https://nbviewer.jupyter.org/\">NBViewer</a>),\n",
       "  it may mean that your frontend doesn't currently support widgets.\n",
       "</p>\n"
      ],
      "text/plain": [
       "HBox(children=(IntProgress(value=0, max=3020), HTML(value='')))"
      ]
     },
     "metadata": {},
     "output_type": "display_data"
    },
    {
     "name": "stdout",
     "output_type": "stream",
     "text": [
      "\n"
     ]
    },
    {
     "data": {
      "application/vnd.jupyter.widget-view+json": {
       "model_id": "7a91a80f090d4862b05bd0a3bcf84583",
       "version_major": 2,
       "version_minor": 0
      },
      "text/html": [
       "<p>Failed to display Jupyter Widget of type <code>HBox</code>.</p>\n",
       "<p>\n",
       "  If you're reading this message in the Jupyter Notebook or JupyterLab Notebook, it may mean\n",
       "  that the widgets JavaScript is still loading. If this message persists, it\n",
       "  likely means that the widgets JavaScript library is either not installed or\n",
       "  not enabled. See the <a href=\"https://ipywidgets.readthedocs.io/en/stable/user_install.html\">Jupyter\n",
       "  Widgets Documentation</a> for setup instructions.\n",
       "</p>\n",
       "<p>\n",
       "  If you're reading this message in another frontend (for example, a static\n",
       "  rendering on GitHub or <a href=\"https://nbviewer.jupyter.org/\">NBViewer</a>),\n",
       "  it may mean that your frontend doesn't currently support widgets.\n",
       "</p>\n"
      ],
      "text/plain": [
       "HBox(children=(IntProgress(value=0, max=378), HTML(value='')))"
      ]
     },
     "metadata": {},
     "output_type": "display_data"
    },
    {
     "name": "stderr",
     "output_type": "stream",
     "text": [
      "2018-04-23 13:45:26,861 : INFO : loading Word2Vec object from word2vec/MRDataset_200.model\n"
     ]
    },
    {
     "name": "stdout",
     "output_type": "stream",
     "text": [
      "\n",
      "0.6602649006622516 0.6428571428571428\n",
      "MRDataset\n"
     ]
    },
    {
     "name": "stderr",
     "output_type": "stream",
     "text": [
      "2018-04-23 13:45:29,037 : INFO : loading wv recursively from word2vec/MRDataset_200.model.wv.* with mmap=None\n",
      "2018-04-23 13:45:29,039 : INFO : setting ignored attribute syn0norm to None\n",
      "2018-04-23 13:45:29,039 : INFO : setting ignored attribute cum_table to None\n",
      "2018-04-23 13:45:29,040 : INFO : loaded word2vec/MRDataset_200.model\n"
     ]
    },
    {
     "data": {
      "application/vnd.jupyter.widget-view+json": {
       "model_id": "6acd7d377084478c85d137cd11f98b23",
       "version_major": 2,
       "version_minor": 0
      },
      "text/html": [
       "<p>Failed to display Jupyter Widget of type <code>HBox</code>.</p>\n",
       "<p>\n",
       "  If you're reading this message in the Jupyter Notebook or JupyterLab Notebook, it may mean\n",
       "  that the widgets JavaScript is still loading. If this message persists, it\n",
       "  likely means that the widgets JavaScript library is either not installed or\n",
       "  not enabled. See the <a href=\"https://ipywidgets.readthedocs.io/en/stable/user_install.html\">Jupyter\n",
       "  Widgets Documentation</a> for setup instructions.\n",
       "</p>\n",
       "<p>\n",
       "  If you're reading this message in another frontend (for example, a static\n",
       "  rendering on GitHub or <a href=\"https://nbviewer.jupyter.org/\">NBViewer</a>),\n",
       "  it may mean that your frontend doesn't currently support widgets.\n",
       "</p>\n"
      ],
      "text/plain": [
       "HBox(children=(IntProgress(value=0, max=8529), HTML(value='')))"
      ]
     },
     "metadata": {},
     "output_type": "display_data"
    },
    {
     "name": "stdout",
     "output_type": "stream",
     "text": [
      "\n"
     ]
    },
    {
     "data": {
      "application/vnd.jupyter.widget-view+json": {
       "model_id": "ad39375303974a1f9e142e01298e1a49",
       "version_major": 2,
       "version_minor": 0
      },
      "text/html": [
       "<p>Failed to display Jupyter Widget of type <code>HBox</code>.</p>\n",
       "<p>\n",
       "  If you're reading this message in the Jupyter Notebook or JupyterLab Notebook, it may mean\n",
       "  that the widgets JavaScript is still loading. If this message persists, it\n",
       "  likely means that the widgets JavaScript library is either not installed or\n",
       "  not enabled. See the <a href=\"https://ipywidgets.readthedocs.io/en/stable/user_install.html\">Jupyter\n",
       "  Widgets Documentation</a> for setup instructions.\n",
       "</p>\n",
       "<p>\n",
       "  If you're reading this message in another frontend (for example, a static\n",
       "  rendering on GitHub or <a href=\"https://nbviewer.jupyter.org/\">NBViewer</a>),\n",
       "  it may mean that your frontend doesn't currently support widgets.\n",
       "</p>\n"
      ],
      "text/plain": [
       "HBox(children=(IntProgress(value=0, max=8529), HTML(value='')))"
      ]
     },
     "metadata": {},
     "output_type": "display_data"
    },
    {
     "name": "stdout",
     "output_type": "stream",
     "text": [
      "\n"
     ]
    },
    {
     "data": {
      "application/vnd.jupyter.widget-view+json": {
       "model_id": "0266055ffca4455ab89266ce959c2f73",
       "version_major": 2,
       "version_minor": 0
      },
      "text/html": [
       "<p>Failed to display Jupyter Widget of type <code>HBox</code>.</p>\n",
       "<p>\n",
       "  If you're reading this message in the Jupyter Notebook or JupyterLab Notebook, it may mean\n",
       "  that the widgets JavaScript is still loading. If this message persists, it\n",
       "  likely means that the widgets JavaScript library is either not installed or\n",
       "  not enabled. See the <a href=\"https://ipywidgets.readthedocs.io/en/stable/user_install.html\">Jupyter\n",
       "  Widgets Documentation</a> for setup instructions.\n",
       "</p>\n",
       "<p>\n",
       "  If you're reading this message in another frontend (for example, a static\n",
       "  rendering on GitHub or <a href=\"https://nbviewer.jupyter.org/\">NBViewer</a>),\n",
       "  it may mean that your frontend doesn't currently support widgets.\n",
       "</p>\n"
      ],
      "text/plain": [
       "HBox(children=(IntProgress(value=0, max=1067), HTML(value='')))"
      ]
     },
     "metadata": {},
     "output_type": "display_data"
    },
    {
     "name": "stderr",
     "output_type": "stream",
     "text": [
      "2018-04-23 13:45:33,098 : INFO : loading Word2Vec object from word2vec/MRDataset_300.model\n"
     ]
    },
    {
     "name": "stdout",
     "output_type": "stream",
     "text": [
      "\n",
      "0.611560558095908 0.598875351452671\n",
      "MRDataset\n"
     ]
    },
    {
     "name": "stderr",
     "output_type": "stream",
     "text": [
      "2018-04-23 13:45:36,247 : INFO : loading wv recursively from word2vec/MRDataset_300.model.wv.* with mmap=None\n",
      "2018-04-23 13:45:36,253 : INFO : setting ignored attribute syn0norm to None\n",
      "2018-04-23 13:45:36,256 : INFO : setting ignored attribute cum_table to None\n",
      "2018-04-23 13:45:36,259 : INFO : loaded word2vec/MRDataset_300.model\n"
     ]
    },
    {
     "data": {
      "application/vnd.jupyter.widget-view+json": {
       "model_id": "569c572fd9d248fbbddcc67320c67660",
       "version_major": 2,
       "version_minor": 0
      },
      "text/html": [
       "<p>Failed to display Jupyter Widget of type <code>HBox</code>.</p>\n",
       "<p>\n",
       "  If you're reading this message in the Jupyter Notebook or JupyterLab Notebook, it may mean\n",
       "  that the widgets JavaScript is still loading. If this message persists, it\n",
       "  likely means that the widgets JavaScript library is either not installed or\n",
       "  not enabled. See the <a href=\"https://ipywidgets.readthedocs.io/en/stable/user_install.html\">Jupyter\n",
       "  Widgets Documentation</a> for setup instructions.\n",
       "</p>\n",
       "<p>\n",
       "  If you're reading this message in another frontend (for example, a static\n",
       "  rendering on GitHub or <a href=\"https://nbviewer.jupyter.org/\">NBViewer</a>),\n",
       "  it may mean that your frontend doesn't currently support widgets.\n",
       "</p>\n"
      ],
      "text/plain": [
       "HBox(children=(IntProgress(value=0, max=8529), HTML(value='')))"
      ]
     },
     "metadata": {},
     "output_type": "display_data"
    },
    {
     "name": "stdout",
     "output_type": "stream",
     "text": [
      "\n"
     ]
    },
    {
     "data": {
      "application/vnd.jupyter.widget-view+json": {
       "model_id": "6d140432347d47c9826b26975e2413c1",
       "version_major": 2,
       "version_minor": 0
      },
      "text/html": [
       "<p>Failed to display Jupyter Widget of type <code>HBox</code>.</p>\n",
       "<p>\n",
       "  If you're reading this message in the Jupyter Notebook or JupyterLab Notebook, it may mean\n",
       "  that the widgets JavaScript is still loading. If this message persists, it\n",
       "  likely means that the widgets JavaScript library is either not installed or\n",
       "  not enabled. See the <a href=\"https://ipywidgets.readthedocs.io/en/stable/user_install.html\">Jupyter\n",
       "  Widgets Documentation</a> for setup instructions.\n",
       "</p>\n",
       "<p>\n",
       "  If you're reading this message in another frontend (for example, a static\n",
       "  rendering on GitHub or <a href=\"https://nbviewer.jupyter.org/\">NBViewer</a>),\n",
       "  it may mean that your frontend doesn't currently support widgets.\n",
       "</p>\n"
      ],
      "text/plain": [
       "HBox(children=(IntProgress(value=0, max=8529), HTML(value='')))"
      ]
     },
     "metadata": {},
     "output_type": "display_data"
    },
    {
     "name": "stdout",
     "output_type": "stream",
     "text": [
      "\n"
     ]
    },
    {
     "data": {
      "application/vnd.jupyter.widget-view+json": {
       "model_id": "c0c6db73049c43e2b0a66b972daac2ba",
       "version_major": 2,
       "version_minor": 0
      },
      "text/html": [
       "<p>Failed to display Jupyter Widget of type <code>HBox</code>.</p>\n",
       "<p>\n",
       "  If you're reading this message in the Jupyter Notebook or JupyterLab Notebook, it may mean\n",
       "  that the widgets JavaScript is still loading. If this message persists, it\n",
       "  likely means that the widgets JavaScript library is either not installed or\n",
       "  not enabled. See the <a href=\"https://ipywidgets.readthedocs.io/en/stable/user_install.html\">Jupyter\n",
       "  Widgets Documentation</a> for setup instructions.\n",
       "</p>\n",
       "<p>\n",
       "  If you're reading this message in another frontend (for example, a static\n",
       "  rendering on GitHub or <a href=\"https://nbviewer.jupyter.org/\">NBViewer</a>),\n",
       "  it may mean that your frontend doesn't currently support widgets.\n",
       "</p>\n"
      ],
      "text/plain": [
       "HBox(children=(IntProgress(value=0, max=1067), HTML(value='')))"
      ]
     },
     "metadata": {},
     "output_type": "display_data"
    },
    {
     "name": "stderr",
     "output_type": "stream",
     "text": [
      "2018-04-23 13:45:40,868 : INFO : loading Word2Vec object from word2vec/MRDataset_400.model\n"
     ]
    },
    {
     "name": "stdout",
     "output_type": "stream",
     "text": [
      "\n",
      "0.606401688357369 0.5857544517338331\n",
      "MRDataset\n"
     ]
    },
    {
     "name": "stderr",
     "output_type": "stream",
     "text": [
      "2018-04-23 13:45:44,802 : INFO : loading wv recursively from word2vec/MRDataset_400.model.wv.* with mmap=None\n",
      "2018-04-23 13:45:44,821 : INFO : setting ignored attribute syn0norm to None\n",
      "2018-04-23 13:45:44,824 : INFO : setting ignored attribute cum_table to None\n",
      "2018-04-23 13:45:44,827 : INFO : loaded word2vec/MRDataset_400.model\n"
     ]
    },
    {
     "data": {
      "application/vnd.jupyter.widget-view+json": {
       "model_id": "eadf7af2764a4bacb10289bb6baa2730",
       "version_major": 2,
       "version_minor": 0
      },
      "text/html": [
       "<p>Failed to display Jupyter Widget of type <code>HBox</code>.</p>\n",
       "<p>\n",
       "  If you're reading this message in the Jupyter Notebook or JupyterLab Notebook, it may mean\n",
       "  that the widgets JavaScript is still loading. If this message persists, it\n",
       "  likely means that the widgets JavaScript library is either not installed or\n",
       "  not enabled. See the <a href=\"https://ipywidgets.readthedocs.io/en/stable/user_install.html\">Jupyter\n",
       "  Widgets Documentation</a> for setup instructions.\n",
       "</p>\n",
       "<p>\n",
       "  If you're reading this message in another frontend (for example, a static\n",
       "  rendering on GitHub or <a href=\"https://nbviewer.jupyter.org/\">NBViewer</a>),\n",
       "  it may mean that your frontend doesn't currently support widgets.\n",
       "</p>\n"
      ],
      "text/plain": [
       "HBox(children=(IntProgress(value=0, max=8529), HTML(value='')))"
      ]
     },
     "metadata": {},
     "output_type": "display_data"
    },
    {
     "name": "stdout",
     "output_type": "stream",
     "text": [
      "\n"
     ]
    },
    {
     "data": {
      "application/vnd.jupyter.widget-view+json": {
       "model_id": "870d235008164c1e9ac0734c89d27832",
       "version_major": 2,
       "version_minor": 0
      },
      "text/html": [
       "<p>Failed to display Jupyter Widget of type <code>HBox</code>.</p>\n",
       "<p>\n",
       "  If you're reading this message in the Jupyter Notebook or JupyterLab Notebook, it may mean\n",
       "  that the widgets JavaScript is still loading. If this message persists, it\n",
       "  likely means that the widgets JavaScript library is either not installed or\n",
       "  not enabled. See the <a href=\"https://ipywidgets.readthedocs.io/en/stable/user_install.html\">Jupyter\n",
       "  Widgets Documentation</a> for setup instructions.\n",
       "</p>\n",
       "<p>\n",
       "  If you're reading this message in another frontend (for example, a static\n",
       "  rendering on GitHub or <a href=\"https://nbviewer.jupyter.org/\">NBViewer</a>),\n",
       "  it may mean that your frontend doesn't currently support widgets.\n",
       "</p>\n"
      ],
      "text/plain": [
       "HBox(children=(IntProgress(value=0, max=8529), HTML(value='')))"
      ]
     },
     "metadata": {},
     "output_type": "display_data"
    },
    {
     "name": "stdout",
     "output_type": "stream",
     "text": [
      "\n"
     ]
    },
    {
     "data": {
      "application/vnd.jupyter.widget-view+json": {
       "model_id": "6f218bbcb31941d8aa6956fb6ccec1f6",
       "version_major": 2,
       "version_minor": 0
      },
      "text/html": [
       "<p>Failed to display Jupyter Widget of type <code>HBox</code>.</p>\n",
       "<p>\n",
       "  If you're reading this message in the Jupyter Notebook or JupyterLab Notebook, it may mean\n",
       "  that the widgets JavaScript is still loading. If this message persists, it\n",
       "  likely means that the widgets JavaScript library is either not installed or\n",
       "  not enabled. See the <a href=\"https://ipywidgets.readthedocs.io/en/stable/user_install.html\">Jupyter\n",
       "  Widgets Documentation</a> for setup instructions.\n",
       "</p>\n",
       "<p>\n",
       "  If you're reading this message in another frontend (for example, a static\n",
       "  rendering on GitHub or <a href=\"https://nbviewer.jupyter.org/\">NBViewer</a>),\n",
       "  it may mean that your frontend doesn't currently support widgets.\n",
       "</p>\n"
      ],
      "text/plain": [
       "HBox(children=(IntProgress(value=0, max=1067), HTML(value='')))"
      ]
     },
     "metadata": {},
     "output_type": "display_data"
    },
    {
     "name": "stderr",
     "output_type": "stream",
     "text": [
      "2018-04-23 13:45:49,268 : INFO : loading Word2Vec object from word2vec/SUBJDataset_200.model\n"
     ]
    },
    {
     "name": "stdout",
     "output_type": "stream",
     "text": [
      "\n",
      "0.6079258998710282 0.5923149015932521\n",
      "SUBJDataset\n"
     ]
    },
    {
     "name": "stderr",
     "output_type": "stream",
     "text": [
      "2018-04-23 13:45:51,949 : INFO : loading wv recursively from word2vec/SUBJDataset_200.model.wv.* with mmap=None\n",
      "2018-04-23 13:45:51,969 : INFO : setting ignored attribute syn0norm to None\n",
      "2018-04-23 13:45:51,972 : INFO : setting ignored attribute cum_table to None\n",
      "2018-04-23 13:45:51,975 : INFO : loaded word2vec/SUBJDataset_200.model\n"
     ]
    },
    {
     "data": {
      "application/vnd.jupyter.widget-view+json": {
       "model_id": "8c8f28fcf2a54941822a43d46c14e610",
       "version_major": 2,
       "version_minor": 0
      },
      "text/html": [
       "<p>Failed to display Jupyter Widget of type <code>HBox</code>.</p>\n",
       "<p>\n",
       "  If you're reading this message in the Jupyter Notebook or JupyterLab Notebook, it may mean\n",
       "  that the widgets JavaScript is still loading. If this message persists, it\n",
       "  likely means that the widgets JavaScript library is either not installed or\n",
       "  not enabled. See the <a href=\"https://ipywidgets.readthedocs.io/en/stable/user_install.html\">Jupyter\n",
       "  Widgets Documentation</a> for setup instructions.\n",
       "</p>\n",
       "<p>\n",
       "  If you're reading this message in another frontend (for example, a static\n",
       "  rendering on GitHub or <a href=\"https://nbviewer.jupyter.org/\">NBViewer</a>),\n",
       "  it may mean that your frontend doesn't currently support widgets.\n",
       "</p>\n"
      ],
      "text/plain": [
       "HBox(children=(IntProgress(value=0, max=8000), HTML(value='')))"
      ]
     },
     "metadata": {},
     "output_type": "display_data"
    },
    {
     "name": "stdout",
     "output_type": "stream",
     "text": [
      "\n"
     ]
    },
    {
     "data": {
      "application/vnd.jupyter.widget-view+json": {
       "model_id": "066d8defef0b498582d08220728dfb9e",
       "version_major": 2,
       "version_minor": 0
      },
      "text/html": [
       "<p>Failed to display Jupyter Widget of type <code>HBox</code>.</p>\n",
       "<p>\n",
       "  If you're reading this message in the Jupyter Notebook or JupyterLab Notebook, it may mean\n",
       "  that the widgets JavaScript is still loading. If this message persists, it\n",
       "  likely means that the widgets JavaScript library is either not installed or\n",
       "  not enabled. See the <a href=\"https://ipywidgets.readthedocs.io/en/stable/user_install.html\">Jupyter\n",
       "  Widgets Documentation</a> for setup instructions.\n",
       "</p>\n",
       "<p>\n",
       "  If you're reading this message in another frontend (for example, a static\n",
       "  rendering on GitHub or <a href=\"https://nbviewer.jupyter.org/\">NBViewer</a>),\n",
       "  it may mean that your frontend doesn't currently support widgets.\n",
       "</p>\n"
      ],
      "text/plain": [
       "HBox(children=(IntProgress(value=0, max=8000), HTML(value='')))"
      ]
     },
     "metadata": {},
     "output_type": "display_data"
    },
    {
     "name": "stdout",
     "output_type": "stream",
     "text": [
      "\n"
     ]
    },
    {
     "data": {
      "application/vnd.jupyter.widget-view+json": {
       "model_id": "9b71749df69f46908b06d4b3b5cb201e",
       "version_major": 2,
       "version_minor": 0
      },
      "text/html": [
       "<p>Failed to display Jupyter Widget of type <code>HBox</code>.</p>\n",
       "<p>\n",
       "  If you're reading this message in the Jupyter Notebook or JupyterLab Notebook, it may mean\n",
       "  that the widgets JavaScript is still loading. If this message persists, it\n",
       "  likely means that the widgets JavaScript library is either not installed or\n",
       "  not enabled. See the <a href=\"https://ipywidgets.readthedocs.io/en/stable/user_install.html\">Jupyter\n",
       "  Widgets Documentation</a> for setup instructions.\n",
       "</p>\n",
       "<p>\n",
       "  If you're reading this message in another frontend (for example, a static\n",
       "  rendering on GitHub or <a href=\"https://nbviewer.jupyter.org/\">NBViewer</a>),\n",
       "  it may mean that your frontend doesn't currently support widgets.\n",
       "</p>\n"
      ],
      "text/plain": [
       "HBox(children=(IntProgress(value=0, max=1000), HTML(value='')))"
      ]
     },
     "metadata": {},
     "output_type": "display_data"
    },
    {
     "name": "stderr",
     "output_type": "stream",
     "text": [
      "2018-04-23 13:45:55,245 : INFO : loading Word2Vec object from word2vec/SUBJDataset_300.model\n"
     ]
    },
    {
     "name": "stdout",
     "output_type": "stream",
     "text": [
      "\n",
      "0.809625 0.8069999999999999\n",
      "SUBJDataset\n"
     ]
    },
    {
     "name": "stderr",
     "output_type": "stream",
     "text": [
      "2018-04-23 13:45:58,438 : INFO : loading wv recursively from word2vec/SUBJDataset_300.model.wv.* with mmap=None\n",
      "2018-04-23 13:45:58,453 : INFO : setting ignored attribute syn0norm to None\n",
      "2018-04-23 13:45:58,454 : INFO : setting ignored attribute cum_table to None\n",
      "2018-04-23 13:45:58,455 : INFO : loaded word2vec/SUBJDataset_300.model\n"
     ]
    },
    {
     "data": {
      "application/vnd.jupyter.widget-view+json": {
       "model_id": "14f47cf64d204919b268e23cfaf1b949",
       "version_major": 2,
       "version_minor": 0
      },
      "text/html": [
       "<p>Failed to display Jupyter Widget of type <code>HBox</code>.</p>\n",
       "<p>\n",
       "  If you're reading this message in the Jupyter Notebook or JupyterLab Notebook, it may mean\n",
       "  that the widgets JavaScript is still loading. If this message persists, it\n",
       "  likely means that the widgets JavaScript library is either not installed or\n",
       "  not enabled. See the <a href=\"https://ipywidgets.readthedocs.io/en/stable/user_install.html\">Jupyter\n",
       "  Widgets Documentation</a> for setup instructions.\n",
       "</p>\n",
       "<p>\n",
       "  If you're reading this message in another frontend (for example, a static\n",
       "  rendering on GitHub or <a href=\"https://nbviewer.jupyter.org/\">NBViewer</a>),\n",
       "  it may mean that your frontend doesn't currently support widgets.\n",
       "</p>\n"
      ],
      "text/plain": [
       "HBox(children=(IntProgress(value=0, max=8000), HTML(value='')))"
      ]
     },
     "metadata": {},
     "output_type": "display_data"
    },
    {
     "name": "stdout",
     "output_type": "stream",
     "text": [
      "\n"
     ]
    },
    {
     "data": {
      "application/vnd.jupyter.widget-view+json": {
       "model_id": "4047886a23594de2bc92d071a1994e8d",
       "version_major": 2,
       "version_minor": 0
      },
      "text/html": [
       "<p>Failed to display Jupyter Widget of type <code>HBox</code>.</p>\n",
       "<p>\n",
       "  If you're reading this message in the Jupyter Notebook or JupyterLab Notebook, it may mean\n",
       "  that the widgets JavaScript is still loading. If this message persists, it\n",
       "  likely means that the widgets JavaScript library is either not installed or\n",
       "  not enabled. See the <a href=\"https://ipywidgets.readthedocs.io/en/stable/user_install.html\">Jupyter\n",
       "  Widgets Documentation</a> for setup instructions.\n",
       "</p>\n",
       "<p>\n",
       "  If you're reading this message in another frontend (for example, a static\n",
       "  rendering on GitHub or <a href=\"https://nbviewer.jupyter.org/\">NBViewer</a>),\n",
       "  it may mean that your frontend doesn't currently support widgets.\n",
       "</p>\n"
      ],
      "text/plain": [
       "HBox(children=(IntProgress(value=0, max=8000), HTML(value='')))"
      ]
     },
     "metadata": {},
     "output_type": "display_data"
    },
    {
     "name": "stdout",
     "output_type": "stream",
     "text": [
      "\n"
     ]
    },
    {
     "data": {
      "application/vnd.jupyter.widget-view+json": {
       "model_id": "16508953af0e416f97932ed6d166ffff",
       "version_major": 2,
       "version_minor": 0
      },
      "text/html": [
       "<p>Failed to display Jupyter Widget of type <code>HBox</code>.</p>\n",
       "<p>\n",
       "  If you're reading this message in the Jupyter Notebook or JupyterLab Notebook, it may mean\n",
       "  that the widgets JavaScript is still loading. If this message persists, it\n",
       "  likely means that the widgets JavaScript library is either not installed or\n",
       "  not enabled. See the <a href=\"https://ipywidgets.readthedocs.io/en/stable/user_install.html\">Jupyter\n",
       "  Widgets Documentation</a> for setup instructions.\n",
       "</p>\n",
       "<p>\n",
       "  If you're reading this message in another frontend (for example, a static\n",
       "  rendering on GitHub or <a href=\"https://nbviewer.jupyter.org/\">NBViewer</a>),\n",
       "  it may mean that your frontend doesn't currently support widgets.\n",
       "</p>\n"
      ],
      "text/plain": [
       "HBox(children=(IntProgress(value=0, max=1000), HTML(value='')))"
      ]
     },
     "metadata": {},
     "output_type": "display_data"
    },
    {
     "name": "stderr",
     "output_type": "stream",
     "text": [
      "2018-04-23 13:46:02,359 : INFO : loading Word2Vec object from word2vec/SUBJDataset_400.model\n"
     ]
    },
    {
     "name": "stdout",
     "output_type": "stream",
     "text": [
      "\n",
      "0.80725 0.81\n",
      "SUBJDataset\n"
     ]
    },
    {
     "name": "stderr",
     "output_type": "stream",
     "text": [
      "2018-04-23 13:46:07,594 : INFO : loading wv recursively from word2vec/SUBJDataset_400.model.wv.* with mmap=None\n",
      "2018-04-23 13:46:07,596 : INFO : setting ignored attribute syn0norm to None\n",
      "2018-04-23 13:46:07,597 : INFO : setting ignored attribute cum_table to None\n",
      "2018-04-23 13:46:07,598 : INFO : loaded word2vec/SUBJDataset_400.model\n"
     ]
    },
    {
     "data": {
      "application/vnd.jupyter.widget-view+json": {
       "model_id": "3bee4306a4324bd6bbe3ca7011b4ddd6",
       "version_major": 2,
       "version_minor": 0
      },
      "text/html": [
       "<p>Failed to display Jupyter Widget of type <code>HBox</code>.</p>\n",
       "<p>\n",
       "  If you're reading this message in the Jupyter Notebook or JupyterLab Notebook, it may mean\n",
       "  that the widgets JavaScript is still loading. If this message persists, it\n",
       "  likely means that the widgets JavaScript library is either not installed or\n",
       "  not enabled. See the <a href=\"https://ipywidgets.readthedocs.io/en/stable/user_install.html\">Jupyter\n",
       "  Widgets Documentation</a> for setup instructions.\n",
       "</p>\n",
       "<p>\n",
       "  If you're reading this message in another frontend (for example, a static\n",
       "  rendering on GitHub or <a href=\"https://nbviewer.jupyter.org/\">NBViewer</a>),\n",
       "  it may mean that your frontend doesn't currently support widgets.\n",
       "</p>\n"
      ],
      "text/plain": [
       "HBox(children=(IntProgress(value=0, max=8000), HTML(value='')))"
      ]
     },
     "metadata": {},
     "output_type": "display_data"
    },
    {
     "name": "stdout",
     "output_type": "stream",
     "text": [
      "\n"
     ]
    },
    {
     "data": {
      "application/vnd.jupyter.widget-view+json": {
       "model_id": "707a2955cd1e4a18b8eb3c090b8787b0",
       "version_major": 2,
       "version_minor": 0
      },
      "text/html": [
       "<p>Failed to display Jupyter Widget of type <code>HBox</code>.</p>\n",
       "<p>\n",
       "  If you're reading this message in the Jupyter Notebook or JupyterLab Notebook, it may mean\n",
       "  that the widgets JavaScript is still loading. If this message persists, it\n",
       "  likely means that the widgets JavaScript library is either not installed or\n",
       "  not enabled. See the <a href=\"https://ipywidgets.readthedocs.io/en/stable/user_install.html\">Jupyter\n",
       "  Widgets Documentation</a> for setup instructions.\n",
       "</p>\n",
       "<p>\n",
       "  If you're reading this message in another frontend (for example, a static\n",
       "  rendering on GitHub or <a href=\"https://nbviewer.jupyter.org/\">NBViewer</a>),\n",
       "  it may mean that your frontend doesn't currently support widgets.\n",
       "</p>\n"
      ],
      "text/plain": [
       "HBox(children=(IntProgress(value=0, max=8000), HTML(value='')))"
      ]
     },
     "metadata": {},
     "output_type": "display_data"
    },
    {
     "name": "stdout",
     "output_type": "stream",
     "text": [
      "\n"
     ]
    },
    {
     "data": {
      "application/vnd.jupyter.widget-view+json": {
       "model_id": "b64ce640687a4c278612b9b9b28e9ba3",
       "version_major": 2,
       "version_minor": 0
      },
      "text/html": [
       "<p>Failed to display Jupyter Widget of type <code>HBox</code>.</p>\n",
       "<p>\n",
       "  If you're reading this message in the Jupyter Notebook or JupyterLab Notebook, it may mean\n",
       "  that the widgets JavaScript is still loading. If this message persists, it\n",
       "  likely means that the widgets JavaScript library is either not installed or\n",
       "  not enabled. See the <a href=\"https://ipywidgets.readthedocs.io/en/stable/user_install.html\">Jupyter\n",
       "  Widgets Documentation</a> for setup instructions.\n",
       "</p>\n",
       "<p>\n",
       "  If you're reading this message in another frontend (for example, a static\n",
       "  rendering on GitHub or <a href=\"https://nbviewer.jupyter.org/\">NBViewer</a>),\n",
       "  it may mean that your frontend doesn't currently support widgets.\n",
       "</p>\n"
      ],
      "text/plain": [
       "HBox(children=(IntProgress(value=0, max=1000), HTML(value='')))"
      ]
     },
     "metadata": {},
     "output_type": "display_data"
    },
    {
     "name": "stderr",
     "output_type": "stream",
     "text": [
      "2018-04-23 13:46:12,945 : INFO : loading Word2Vec object from word2vec/MPQADataset_200.model\n"
     ]
    },
    {
     "name": "stdout",
     "output_type": "stream",
     "text": [
      "\n",
      "0.8135 0.8180000000000001\n",
      "MPQADataset\n"
     ]
    },
    {
     "name": "stderr",
     "output_type": "stream",
     "text": [
      "2018-04-23 13:46:13,951 : INFO : loading wv recursively from word2vec/MPQADataset_200.model.wv.* with mmap=None\n",
      "2018-04-23 13:46:13,952 : INFO : setting ignored attribute syn0norm to None\n",
      "2018-04-23 13:46:13,952 : INFO : setting ignored attribute cum_table to None\n",
      "2018-04-23 13:46:13,953 : INFO : loaded word2vec/MPQADataset_200.model\n"
     ]
    },
    {
     "data": {
      "application/vnd.jupyter.widget-view+json": {
       "model_id": "876f86b12c964660bb08a4a0980f414c",
       "version_major": 2,
       "version_minor": 0
      },
      "text/html": [
       "<p>Failed to display Jupyter Widget of type <code>HBox</code>.</p>\n",
       "<p>\n",
       "  If you're reading this message in the Jupyter Notebook or JupyterLab Notebook, it may mean\n",
       "  that the widgets JavaScript is still loading. If this message persists, it\n",
       "  likely means that the widgets JavaScript library is either not installed or\n",
       "  not enabled. See the <a href=\"https://ipywidgets.readthedocs.io/en/stable/user_install.html\">Jupyter\n",
       "  Widgets Documentation</a> for setup instructions.\n",
       "</p>\n",
       "<p>\n",
       "  If you're reading this message in another frontend (for example, a static\n",
       "  rendering on GitHub or <a href=\"https://nbviewer.jupyter.org/\">NBViewer</a>),\n",
       "  it may mean that your frontend doesn't currently support widgets.\n",
       "</p>\n"
      ],
      "text/plain": [
       "HBox(children=(IntProgress(value=0, max=8484), HTML(value='')))"
      ]
     },
     "metadata": {},
     "output_type": "display_data"
    },
    {
     "name": "stdout",
     "output_type": "stream",
     "text": [
      "\n"
     ]
    },
    {
     "data": {
      "application/vnd.jupyter.widget-view+json": {
       "model_id": "60a88fc1f34f424fa39c3b3598f56755",
       "version_major": 2,
       "version_minor": 0
      },
      "text/html": [
       "<p>Failed to display Jupyter Widget of type <code>HBox</code>.</p>\n",
       "<p>\n",
       "  If you're reading this message in the Jupyter Notebook or JupyterLab Notebook, it may mean\n",
       "  that the widgets JavaScript is still loading. If this message persists, it\n",
       "  likely means that the widgets JavaScript library is either not installed or\n",
       "  not enabled. See the <a href=\"https://ipywidgets.readthedocs.io/en/stable/user_install.html\">Jupyter\n",
       "  Widgets Documentation</a> for setup instructions.\n",
       "</p>\n",
       "<p>\n",
       "  If you're reading this message in another frontend (for example, a static\n",
       "  rendering on GitHub or <a href=\"https://nbviewer.jupyter.org/\">NBViewer</a>),\n",
       "  it may mean that your frontend doesn't currently support widgets.\n",
       "</p>\n"
      ],
      "text/plain": [
       "HBox(children=(IntProgress(value=0, max=8484), HTML(value='')))"
      ]
     },
     "metadata": {},
     "output_type": "display_data"
    },
    {
     "name": "stdout",
     "output_type": "stream",
     "text": [
      "\n"
     ]
    },
    {
     "data": {
      "application/vnd.jupyter.widget-view+json": {
       "model_id": "ae5c2b75bfc948979558a48b3ff25662",
       "version_major": 2,
       "version_minor": 0
      },
      "text/html": [
       "<p>Failed to display Jupyter Widget of type <code>HBox</code>.</p>\n",
       "<p>\n",
       "  If you're reading this message in the Jupyter Notebook or JupyterLab Notebook, it may mean\n",
       "  that the widgets JavaScript is still loading. If this message persists, it\n",
       "  likely means that the widgets JavaScript library is either not installed or\n",
       "  not enabled. See the <a href=\"https://ipywidgets.readthedocs.io/en/stable/user_install.html\">Jupyter\n",
       "  Widgets Documentation</a> for setup instructions.\n",
       "</p>\n",
       "<p>\n",
       "  If you're reading this message in another frontend (for example, a static\n",
       "  rendering on GitHub or <a href=\"https://nbviewer.jupyter.org/\">NBViewer</a>),\n",
       "  it may mean that your frontend doesn't currently support widgets.\n",
       "</p>\n"
      ],
      "text/plain": [
       "HBox(children=(IntProgress(value=0, max=1061), HTML(value='')))"
      ]
     },
     "metadata": {},
     "output_type": "display_data"
    },
    {
     "name": "stderr",
     "output_type": "stream",
     "text": [
      "2018-04-23 13:46:14,698 : INFO : loading Word2Vec object from word2vec/MPQADataset_300.model\n"
     ]
    },
    {
     "name": "stdout",
     "output_type": "stream",
     "text": [
      "\n",
      "0.6877652050919378 0.6880301602262017\n",
      "MPQADataset\n"
     ]
    },
    {
     "name": "stderr",
     "output_type": "stream",
     "text": [
      "2018-04-23 13:46:15,759 : INFO : loading wv recursively from word2vec/MPQADataset_300.model.wv.* with mmap=None\n",
      "2018-04-23 13:46:15,760 : INFO : setting ignored attribute syn0norm to None\n",
      "2018-04-23 13:46:15,761 : INFO : setting ignored attribute cum_table to None\n",
      "2018-04-23 13:46:15,762 : INFO : loaded word2vec/MPQADataset_300.model\n"
     ]
    },
    {
     "data": {
      "application/vnd.jupyter.widget-view+json": {
       "model_id": "c3ff9995c6b74c24b33b06a06570d397",
       "version_major": 2,
       "version_minor": 0
      },
      "text/html": [
       "<p>Failed to display Jupyter Widget of type <code>HBox</code>.</p>\n",
       "<p>\n",
       "  If you're reading this message in the Jupyter Notebook or JupyterLab Notebook, it may mean\n",
       "  that the widgets JavaScript is still loading. If this message persists, it\n",
       "  likely means that the widgets JavaScript library is either not installed or\n",
       "  not enabled. See the <a href=\"https://ipywidgets.readthedocs.io/en/stable/user_install.html\">Jupyter\n",
       "  Widgets Documentation</a> for setup instructions.\n",
       "</p>\n",
       "<p>\n",
       "  If you're reading this message in another frontend (for example, a static\n",
       "  rendering on GitHub or <a href=\"https://nbviewer.jupyter.org/\">NBViewer</a>),\n",
       "  it may mean that your frontend doesn't currently support widgets.\n",
       "</p>\n"
      ],
      "text/plain": [
       "HBox(children=(IntProgress(value=0, max=8484), HTML(value='')))"
      ]
     },
     "metadata": {},
     "output_type": "display_data"
    },
    {
     "name": "stdout",
     "output_type": "stream",
     "text": [
      "\n"
     ]
    },
    {
     "data": {
      "application/vnd.jupyter.widget-view+json": {
       "model_id": "d5da4b361edf406996a9106b94062e87",
       "version_major": 2,
       "version_minor": 0
      },
      "text/html": [
       "<p>Failed to display Jupyter Widget of type <code>HBox</code>.</p>\n",
       "<p>\n",
       "  If you're reading this message in the Jupyter Notebook or JupyterLab Notebook, it may mean\n",
       "  that the widgets JavaScript is still loading. If this message persists, it\n",
       "  likely means that the widgets JavaScript library is either not installed or\n",
       "  not enabled. See the <a href=\"https://ipywidgets.readthedocs.io/en/stable/user_install.html\">Jupyter\n",
       "  Widgets Documentation</a> for setup instructions.\n",
       "</p>\n",
       "<p>\n",
       "  If you're reading this message in another frontend (for example, a static\n",
       "  rendering on GitHub or <a href=\"https://nbviewer.jupyter.org/\">NBViewer</a>),\n",
       "  it may mean that your frontend doesn't currently support widgets.\n",
       "</p>\n"
      ],
      "text/plain": [
       "HBox(children=(IntProgress(value=0, max=8484), HTML(value='')))"
      ]
     },
     "metadata": {},
     "output_type": "display_data"
    },
    {
     "name": "stdout",
     "output_type": "stream",
     "text": [
      "\n"
     ]
    },
    {
     "data": {
      "application/vnd.jupyter.widget-view+json": {
       "model_id": "406371e03c17440397f9c0147f3f9c7f",
       "version_major": 2,
       "version_minor": 0
      },
      "text/html": [
       "<p>Failed to display Jupyter Widget of type <code>HBox</code>.</p>\n",
       "<p>\n",
       "  If you're reading this message in the Jupyter Notebook or JupyterLab Notebook, it may mean\n",
       "  that the widgets JavaScript is still loading. If this message persists, it\n",
       "  likely means that the widgets JavaScript library is either not installed or\n",
       "  not enabled. See the <a href=\"https://ipywidgets.readthedocs.io/en/stable/user_install.html\">Jupyter\n",
       "  Widgets Documentation</a> for setup instructions.\n",
       "</p>\n",
       "<p>\n",
       "  If you're reading this message in another frontend (for example, a static\n",
       "  rendering on GitHub or <a href=\"https://nbviewer.jupyter.org/\">NBViewer</a>),\n",
       "  it may mean that your frontend doesn't currently support widgets.\n",
       "</p>\n"
      ],
      "text/plain": [
       "HBox(children=(IntProgress(value=0, max=1061), HTML(value='')))"
      ]
     },
     "metadata": {},
     "output_type": "display_data"
    },
    {
     "name": "stderr",
     "output_type": "stream",
     "text": [
      "2018-04-23 13:46:16,749 : INFO : loading Word2Vec object from word2vec/MPQADataset_400.model\n"
     ]
    },
    {
     "name": "stdout",
     "output_type": "stream",
     "text": [
      "\n",
      "0.6877652050919378 0.6880301602262017\n",
      "MPQADataset\n"
     ]
    },
    {
     "name": "stderr",
     "output_type": "stream",
     "text": [
      "2018-04-23 13:46:18,962 : INFO : loading wv recursively from word2vec/MPQADataset_400.model.wv.* with mmap=None\n",
      "2018-04-23 13:46:18,989 : INFO : setting ignored attribute syn0norm to None\n",
      "2018-04-23 13:46:18,990 : INFO : setting ignored attribute cum_table to None\n",
      "2018-04-23 13:46:18,991 : INFO : loaded word2vec/MPQADataset_400.model\n"
     ]
    },
    {
     "data": {
      "application/vnd.jupyter.widget-view+json": {
       "model_id": "55bc5a89ded8421cbe5251002bb283a0",
       "version_major": 2,
       "version_minor": 0
      },
      "text/html": [
       "<p>Failed to display Jupyter Widget of type <code>HBox</code>.</p>\n",
       "<p>\n",
       "  If you're reading this message in the Jupyter Notebook or JupyterLab Notebook, it may mean\n",
       "  that the widgets JavaScript is still loading. If this message persists, it\n",
       "  likely means that the widgets JavaScript library is either not installed or\n",
       "  not enabled. See the <a href=\"https://ipywidgets.readthedocs.io/en/stable/user_install.html\">Jupyter\n",
       "  Widgets Documentation</a> for setup instructions.\n",
       "</p>\n",
       "<p>\n",
       "  If you're reading this message in another frontend (for example, a static\n",
       "  rendering on GitHub or <a href=\"https://nbviewer.jupyter.org/\">NBViewer</a>),\n",
       "  it may mean that your frontend doesn't currently support widgets.\n",
       "</p>\n"
      ],
      "text/plain": [
       "HBox(children=(IntProgress(value=0, max=8484), HTML(value='')))"
      ]
     },
     "metadata": {},
     "output_type": "display_data"
    },
    {
     "name": "stdout",
     "output_type": "stream",
     "text": [
      "\n"
     ]
    },
    {
     "data": {
      "application/vnd.jupyter.widget-view+json": {
       "model_id": "cd642955504740509146b1680266ff2e",
       "version_major": 2,
       "version_minor": 0
      },
      "text/html": [
       "<p>Failed to display Jupyter Widget of type <code>HBox</code>.</p>\n",
       "<p>\n",
       "  If you're reading this message in the Jupyter Notebook or JupyterLab Notebook, it may mean\n",
       "  that the widgets JavaScript is still loading. If this message persists, it\n",
       "  likely means that the widgets JavaScript library is either not installed or\n",
       "  not enabled. See the <a href=\"https://ipywidgets.readthedocs.io/en/stable/user_install.html\">Jupyter\n",
       "  Widgets Documentation</a> for setup instructions.\n",
       "</p>\n",
       "<p>\n",
       "  If you're reading this message in another frontend (for example, a static\n",
       "  rendering on GitHub or <a href=\"https://nbviewer.jupyter.org/\">NBViewer</a>),\n",
       "  it may mean that your frontend doesn't currently support widgets.\n",
       "</p>\n"
      ],
      "text/plain": [
       "HBox(children=(IntProgress(value=0, max=8484), HTML(value='')))"
      ]
     },
     "metadata": {},
     "output_type": "display_data"
    },
    {
     "name": "stdout",
     "output_type": "stream",
     "text": [
      "\n"
     ]
    },
    {
     "data": {
      "application/vnd.jupyter.widget-view+json": {
       "model_id": "a751c13e1cad4b72a03bbffdd25a05da",
       "version_major": 2,
       "version_minor": 0
      },
      "text/html": [
       "<p>Failed to display Jupyter Widget of type <code>HBox</code>.</p>\n",
       "<p>\n",
       "  If you're reading this message in the Jupyter Notebook or JupyterLab Notebook, it may mean\n",
       "  that the widgets JavaScript is still loading. If this message persists, it\n",
       "  likely means that the widgets JavaScript library is either not installed or\n",
       "  not enabled. See the <a href=\"https://ipywidgets.readthedocs.io/en/stable/user_install.html\">Jupyter\n",
       "  Widgets Documentation</a> for setup instructions.\n",
       "</p>\n",
       "<p>\n",
       "  If you're reading this message in another frontend (for example, a static\n",
       "  rendering on GitHub or <a href=\"https://nbviewer.jupyter.org/\">NBViewer</a>),\n",
       "  it may mean that your frontend doesn't currently support widgets.\n",
       "</p>\n"
      ],
      "text/plain": [
       "HBox(children=(IntProgress(value=0, max=1061), HTML(value='')))"
      ]
     },
     "metadata": {},
     "output_type": "display_data"
    },
    {
     "name": "stderr",
     "output_type": "stream",
     "text": [
      "2018-04-23 13:46:20,351 : INFO : loading Word2Vec object from word2vec/TRECDataset-NUM_200.model\n"
     ]
    },
    {
     "name": "stdout",
     "output_type": "stream",
     "text": [
      "\n",
      "0.6877652050919378 0.6880301602262017\n",
      "TRECDataset-NUM\n"
     ]
    },
    {
     "name": "stderr",
     "output_type": "stream",
     "text": [
      "2018-04-23 13:46:21,136 : INFO : loading wv recursively from word2vec/TRECDataset-NUM_200.model.wv.* with mmap=None\n",
      "2018-04-23 13:46:21,137 : INFO : setting ignored attribute syn0norm to None\n",
      "2018-04-23 13:46:21,138 : INFO : setting ignored attribute cum_table to None\n",
      "2018-04-23 13:46:21,138 : INFO : loaded word2vec/TRECDataset-NUM_200.model\n"
     ]
    },
    {
     "data": {
      "application/vnd.jupyter.widget-view+json": {
       "model_id": "50d4e93279524f8687a3a98c43e86df2",
       "version_major": 2,
       "version_minor": 0
      },
      "text/html": [
       "<p>Failed to display Jupyter Widget of type <code>HBox</code>.</p>\n",
       "<p>\n",
       "  If you're reading this message in the Jupyter Notebook or JupyterLab Notebook, it may mean\n",
       "  that the widgets JavaScript is still loading. If this message persists, it\n",
       "  likely means that the widgets JavaScript library is either not installed or\n",
       "  not enabled. See the <a href=\"https://ipywidgets.readthedocs.io/en/stable/user_install.html\">Jupyter\n",
       "  Widgets Documentation</a> for setup instructions.\n",
       "</p>\n",
       "<p>\n",
       "  If you're reading this message in another frontend (for example, a static\n",
       "  rendering on GitHub or <a href=\"https://nbviewer.jupyter.org/\">NBViewer</a>),\n",
       "  it may mean that your frontend doesn't currently support widgets.\n",
       "</p>\n"
      ],
      "text/plain": [
       "HBox(children=(IntProgress(value=0, max=4761), HTML(value='')))"
      ]
     },
     "metadata": {},
     "output_type": "display_data"
    },
    {
     "name": "stdout",
     "output_type": "stream",
     "text": [
      "\n"
     ]
    },
    {
     "data": {
      "application/vnd.jupyter.widget-view+json": {
       "model_id": "671fde589d294883a942f57fcaf59f40",
       "version_major": 2,
       "version_minor": 0
      },
      "text/html": [
       "<p>Failed to display Jupyter Widget of type <code>HBox</code>.</p>\n",
       "<p>\n",
       "  If you're reading this message in the Jupyter Notebook or JupyterLab Notebook, it may mean\n",
       "  that the widgets JavaScript is still loading. If this message persists, it\n",
       "  likely means that the widgets JavaScript library is either not installed or\n",
       "  not enabled. See the <a href=\"https://ipywidgets.readthedocs.io/en/stable/user_install.html\">Jupyter\n",
       "  Widgets Documentation</a> for setup instructions.\n",
       "</p>\n",
       "<p>\n",
       "  If you're reading this message in another frontend (for example, a static\n",
       "  rendering on GitHub or <a href=\"https://nbviewer.jupyter.org/\">NBViewer</a>),\n",
       "  it may mean that your frontend doesn't currently support widgets.\n",
       "</p>\n"
      ],
      "text/plain": [
       "HBox(children=(IntProgress(value=0, max=4761), HTML(value='')))"
      ]
     },
     "metadata": {},
     "output_type": "display_data"
    },
    {
     "name": "stdout",
     "output_type": "stream",
     "text": [
      "\n"
     ]
    },
    {
     "data": {
      "application/vnd.jupyter.widget-view+json": {
       "model_id": "c266bd0ba640421dae13812db4ae9515",
       "version_major": 2,
       "version_minor": 0
      },
      "text/html": [
       "<p>Failed to display Jupyter Widget of type <code>HBox</code>.</p>\n",
       "<p>\n",
       "  If you're reading this message in the Jupyter Notebook or JupyterLab Notebook, it may mean\n",
       "  that the widgets JavaScript is still loading. If this message persists, it\n",
       "  likely means that the widgets JavaScript library is either not installed or\n",
       "  not enabled. See the <a href=\"https://ipywidgets.readthedocs.io/en/stable/user_install.html\">Jupyter\n",
       "  Widgets Documentation</a> for setup instructions.\n",
       "</p>\n",
       "<p>\n",
       "  If you're reading this message in another frontend (for example, a static\n",
       "  rendering on GitHub or <a href=\"https://nbviewer.jupyter.org/\">NBViewer</a>),\n",
       "  it may mean that your frontend doesn't currently support widgets.\n",
       "</p>\n"
      ],
      "text/plain": [
       "HBox(children=(IntProgress(value=0, max=596), HTML(value='')))"
      ]
     },
     "metadata": {},
     "output_type": "display_data"
    },
    {
     "name": "stderr",
     "output_type": "stream",
     "text": [
      "2018-04-23 13:46:21,962 : INFO : loading Word2Vec object from word2vec/TRECDataset-NUM_300.model\n"
     ]
    },
    {
     "name": "stdout",
     "output_type": "stream",
     "text": [
      "\n",
      "0.8756563747111952 0.8875838926174496\n",
      "TRECDataset-NUM\n"
     ]
    },
    {
     "name": "stderr",
     "output_type": "stream",
     "text": [
      "2018-04-23 13:46:22,930 : INFO : loading wv recursively from word2vec/TRECDataset-NUM_300.model.wv.* with mmap=None\n",
      "2018-04-23 13:46:22,945 : INFO : setting ignored attribute syn0norm to None\n",
      "2018-04-23 13:46:22,947 : INFO : setting ignored attribute cum_table to None\n",
      "2018-04-23 13:46:22,956 : INFO : loaded word2vec/TRECDataset-NUM_300.model\n"
     ]
    },
    {
     "data": {
      "application/vnd.jupyter.widget-view+json": {
       "model_id": "c8bda45b827c4b6aa9514741c3c909e1",
       "version_major": 2,
       "version_minor": 0
      },
      "text/html": [
       "<p>Failed to display Jupyter Widget of type <code>HBox</code>.</p>\n",
       "<p>\n",
       "  If you're reading this message in the Jupyter Notebook or JupyterLab Notebook, it may mean\n",
       "  that the widgets JavaScript is still loading. If this message persists, it\n",
       "  likely means that the widgets JavaScript library is either not installed or\n",
       "  not enabled. See the <a href=\"https://ipywidgets.readthedocs.io/en/stable/user_install.html\">Jupyter\n",
       "  Widgets Documentation</a> for setup instructions.\n",
       "</p>\n",
       "<p>\n",
       "  If you're reading this message in another frontend (for example, a static\n",
       "  rendering on GitHub or <a href=\"https://nbviewer.jupyter.org/\">NBViewer</a>),\n",
       "  it may mean that your frontend doesn't currently support widgets.\n",
       "</p>\n"
      ],
      "text/plain": [
       "HBox(children=(IntProgress(value=0, max=4761), HTML(value='')))"
      ]
     },
     "metadata": {},
     "output_type": "display_data"
    },
    {
     "name": "stdout",
     "output_type": "stream",
     "text": [
      "\n"
     ]
    },
    {
     "data": {
      "application/vnd.jupyter.widget-view+json": {
       "model_id": "a0573eebb85b4035a277cb43cddea495",
       "version_major": 2,
       "version_minor": 0
      },
      "text/html": [
       "<p>Failed to display Jupyter Widget of type <code>HBox</code>.</p>\n",
       "<p>\n",
       "  If you're reading this message in the Jupyter Notebook or JupyterLab Notebook, it may mean\n",
       "  that the widgets JavaScript is still loading. If this message persists, it\n",
       "  likely means that the widgets JavaScript library is either not installed or\n",
       "  not enabled. See the <a href=\"https://ipywidgets.readthedocs.io/en/stable/user_install.html\">Jupyter\n",
       "  Widgets Documentation</a> for setup instructions.\n",
       "</p>\n",
       "<p>\n",
       "  If you're reading this message in another frontend (for example, a static\n",
       "  rendering on GitHub or <a href=\"https://nbviewer.jupyter.org/\">NBViewer</a>),\n",
       "  it may mean that your frontend doesn't currently support widgets.\n",
       "</p>\n"
      ],
      "text/plain": [
       "HBox(children=(IntProgress(value=0, max=4761), HTML(value='')))"
      ]
     },
     "metadata": {},
     "output_type": "display_data"
    },
    {
     "name": "stdout",
     "output_type": "stream",
     "text": [
      "\n"
     ]
    },
    {
     "data": {
      "application/vnd.jupyter.widget-view+json": {
       "model_id": "c4b014ac95874e99958e3ef07c1bd9c6",
       "version_major": 2,
       "version_minor": 0
      },
      "text/html": [
       "<p>Failed to display Jupyter Widget of type <code>HBox</code>.</p>\n",
       "<p>\n",
       "  If you're reading this message in the Jupyter Notebook or JupyterLab Notebook, it may mean\n",
       "  that the widgets JavaScript is still loading. If this message persists, it\n",
       "  likely means that the widgets JavaScript library is either not installed or\n",
       "  not enabled. See the <a href=\"https://ipywidgets.readthedocs.io/en/stable/user_install.html\">Jupyter\n",
       "  Widgets Documentation</a> for setup instructions.\n",
       "</p>\n",
       "<p>\n",
       "  If you're reading this message in another frontend (for example, a static\n",
       "  rendering on GitHub or <a href=\"https://nbviewer.jupyter.org/\">NBViewer</a>),\n",
       "  it may mean that your frontend doesn't currently support widgets.\n",
       "</p>\n"
      ],
      "text/plain": [
       "HBox(children=(IntProgress(value=0, max=596), HTML(value='')))"
      ]
     },
     "metadata": {},
     "output_type": "display_data"
    },
    {
     "name": "stderr",
     "output_type": "stream",
     "text": [
      "2018-04-23 13:46:24,227 : INFO : loading Word2Vec object from word2vec/TRECDataset-NUM_400.model\n"
     ]
    },
    {
     "name": "stdout",
     "output_type": "stream",
     "text": [
      "\n",
      "0.8672547784078974 0.87751677852349\n",
      "TRECDataset-NUM\n"
     ]
    },
    {
     "name": "stderr",
     "output_type": "stream",
     "text": [
      "2018-04-23 13:46:25,801 : INFO : loading wv recursively from word2vec/TRECDataset-NUM_400.model.wv.* with mmap=None\n",
      "2018-04-23 13:46:25,817 : INFO : setting ignored attribute syn0norm to None\n",
      "2018-04-23 13:46:25,825 : INFO : setting ignored attribute cum_table to None\n",
      "2018-04-23 13:46:25,826 : INFO : loaded word2vec/TRECDataset-NUM_400.model\n"
     ]
    },
    {
     "data": {
      "application/vnd.jupyter.widget-view+json": {
       "model_id": "bfad86e75a9742ab8e829efbd0416790",
       "version_major": 2,
       "version_minor": 0
      },
      "text/html": [
       "<p>Failed to display Jupyter Widget of type <code>HBox</code>.</p>\n",
       "<p>\n",
       "  If you're reading this message in the Jupyter Notebook or JupyterLab Notebook, it may mean\n",
       "  that the widgets JavaScript is still loading. If this message persists, it\n",
       "  likely means that the widgets JavaScript library is either not installed or\n",
       "  not enabled. See the <a href=\"https://ipywidgets.readthedocs.io/en/stable/user_install.html\">Jupyter\n",
       "  Widgets Documentation</a> for setup instructions.\n",
       "</p>\n",
       "<p>\n",
       "  If you're reading this message in another frontend (for example, a static\n",
       "  rendering on GitHub or <a href=\"https://nbviewer.jupyter.org/\">NBViewer</a>),\n",
       "  it may mean that your frontend doesn't currently support widgets.\n",
       "</p>\n"
      ],
      "text/plain": [
       "HBox(children=(IntProgress(value=0, max=4761), HTML(value='')))"
      ]
     },
     "metadata": {},
     "output_type": "display_data"
    },
    {
     "name": "stdout",
     "output_type": "stream",
     "text": [
      "\n"
     ]
    },
    {
     "data": {
      "application/vnd.jupyter.widget-view+json": {
       "model_id": "b33244006de24060b566b287783e5940",
       "version_major": 2,
       "version_minor": 0
      },
      "text/html": [
       "<p>Failed to display Jupyter Widget of type <code>HBox</code>.</p>\n",
       "<p>\n",
       "  If you're reading this message in the Jupyter Notebook or JupyterLab Notebook, it may mean\n",
       "  that the widgets JavaScript is still loading. If this message persists, it\n",
       "  likely means that the widgets JavaScript library is either not installed or\n",
       "  not enabled. See the <a href=\"https://ipywidgets.readthedocs.io/en/stable/user_install.html\">Jupyter\n",
       "  Widgets Documentation</a> for setup instructions.\n",
       "</p>\n",
       "<p>\n",
       "  If you're reading this message in another frontend (for example, a static\n",
       "  rendering on GitHub or <a href=\"https://nbviewer.jupyter.org/\">NBViewer</a>),\n",
       "  it may mean that your frontend doesn't currently support widgets.\n",
       "</p>\n"
      ],
      "text/plain": [
       "HBox(children=(IntProgress(value=0, max=4761), HTML(value='')))"
      ]
     },
     "metadata": {},
     "output_type": "display_data"
    },
    {
     "name": "stdout",
     "output_type": "stream",
     "text": [
      "\n"
     ]
    },
    {
     "data": {
      "application/vnd.jupyter.widget-view+json": {
       "model_id": "c1605486611f4ddfa9779b1a99f3f423",
       "version_major": 2,
       "version_minor": 0
      },
      "text/html": [
       "<p>Failed to display Jupyter Widget of type <code>HBox</code>.</p>\n",
       "<p>\n",
       "  If you're reading this message in the Jupyter Notebook or JupyterLab Notebook, it may mean\n",
       "  that the widgets JavaScript is still loading. If this message persists, it\n",
       "  likely means that the widgets JavaScript library is either not installed or\n",
       "  not enabled. See the <a href=\"https://ipywidgets.readthedocs.io/en/stable/user_install.html\">Jupyter\n",
       "  Widgets Documentation</a> for setup instructions.\n",
       "</p>\n",
       "<p>\n",
       "  If you're reading this message in another frontend (for example, a static\n",
       "  rendering on GitHub or <a href=\"https://nbviewer.jupyter.org/\">NBViewer</a>),\n",
       "  it may mean that your frontend doesn't currently support widgets.\n",
       "</p>\n"
      ],
      "text/plain": [
       "HBox(children=(IntProgress(value=0, max=596), HTML(value='')))"
      ]
     },
     "metadata": {},
     "output_type": "display_data"
    },
    {
     "name": "stderr",
     "output_type": "stream",
     "text": [
      "2018-04-23 13:46:27,614 : INFO : loading Word2Vec object from word2vec/TRECDataset-ABBR_200.model\n"
     ]
    },
    {
     "name": "stdout",
     "output_type": "stream",
     "text": [
      "\n",
      "0.8651543793320731 0.8741610738255033\n",
      "TRECDataset-ABBR\n"
     ]
    },
    {
     "name": "stderr",
     "output_type": "stream",
     "text": [
      "2018-04-23 13:46:28,400 : INFO : loading wv recursively from word2vec/TRECDataset-ABBR_200.model.wv.* with mmap=None\n",
      "2018-04-23 13:46:28,402 : INFO : setting ignored attribute syn0norm to None\n",
      "2018-04-23 13:46:28,402 : INFO : setting ignored attribute cum_table to None\n",
      "2018-04-23 13:46:28,403 : INFO : loaded word2vec/TRECDataset-ABBR_200.model\n"
     ]
    },
    {
     "data": {
      "application/vnd.jupyter.widget-view+json": {
       "model_id": "da9cf683e0a346f580e60beb9e5fb820",
       "version_major": 2,
       "version_minor": 0
      },
      "text/html": [
       "<p>Failed to display Jupyter Widget of type <code>HBox</code>.</p>\n",
       "<p>\n",
       "  If you're reading this message in the Jupyter Notebook or JupyterLab Notebook, it may mean\n",
       "  that the widgets JavaScript is still loading. If this message persists, it\n",
       "  likely means that the widgets JavaScript library is either not installed or\n",
       "  not enabled. See the <a href=\"https://ipywidgets.readthedocs.io/en/stable/user_install.html\">Jupyter\n",
       "  Widgets Documentation</a> for setup instructions.\n",
       "</p>\n",
       "<p>\n",
       "  If you're reading this message in another frontend (for example, a static\n",
       "  rendering on GitHub or <a href=\"https://nbviewer.jupyter.org/\">NBViewer</a>),\n",
       "  it may mean that your frontend doesn't currently support widgets.\n",
       "</p>\n"
      ],
      "text/plain": [
       "HBox(children=(IntProgress(value=0, max=4761), HTML(value='')))"
      ]
     },
     "metadata": {},
     "output_type": "display_data"
    },
    {
     "name": "stdout",
     "output_type": "stream",
     "text": [
      "\n"
     ]
    },
    {
     "data": {
      "application/vnd.jupyter.widget-view+json": {
       "model_id": "e762367c1a9e4d65be3f7ee3a32d533c",
       "version_major": 2,
       "version_minor": 0
      },
      "text/html": [
       "<p>Failed to display Jupyter Widget of type <code>HBox</code>.</p>\n",
       "<p>\n",
       "  If you're reading this message in the Jupyter Notebook or JupyterLab Notebook, it may mean\n",
       "  that the widgets JavaScript is still loading. If this message persists, it\n",
       "  likely means that the widgets JavaScript library is either not installed or\n",
       "  not enabled. See the <a href=\"https://ipywidgets.readthedocs.io/en/stable/user_install.html\">Jupyter\n",
       "  Widgets Documentation</a> for setup instructions.\n",
       "</p>\n",
       "<p>\n",
       "  If you're reading this message in another frontend (for example, a static\n",
       "  rendering on GitHub or <a href=\"https://nbviewer.jupyter.org/\">NBViewer</a>),\n",
       "  it may mean that your frontend doesn't currently support widgets.\n",
       "</p>\n"
      ],
      "text/plain": [
       "HBox(children=(IntProgress(value=0, max=4761), HTML(value='')))"
      ]
     },
     "metadata": {},
     "output_type": "display_data"
    },
    {
     "name": "stdout",
     "output_type": "stream",
     "text": [
      "\n"
     ]
    },
    {
     "data": {
      "application/vnd.jupyter.widget-view+json": {
       "model_id": "3961c4e0b33e477fa6d97e15a41ff207",
       "version_major": 2,
       "version_minor": 0
      },
      "text/html": [
       "<p>Failed to display Jupyter Widget of type <code>HBox</code>.</p>\n",
       "<p>\n",
       "  If you're reading this message in the Jupyter Notebook or JupyterLab Notebook, it may mean\n",
       "  that the widgets JavaScript is still loading. If this message persists, it\n",
       "  likely means that the widgets JavaScript library is either not installed or\n",
       "  not enabled. See the <a href=\"https://ipywidgets.readthedocs.io/en/stable/user_install.html\">Jupyter\n",
       "  Widgets Documentation</a> for setup instructions.\n",
       "</p>\n",
       "<p>\n",
       "  If you're reading this message in another frontend (for example, a static\n",
       "  rendering on GitHub or <a href=\"https://nbviewer.jupyter.org/\">NBViewer</a>),\n",
       "  it may mean that your frontend doesn't currently support widgets.\n",
       "</p>\n"
      ],
      "text/plain": [
       "HBox(children=(IntProgress(value=0, max=596), HTML(value='')))"
      ]
     },
     "metadata": {},
     "output_type": "display_data"
    },
    {
     "name": "stderr",
     "output_type": "stream",
     "text": [
      "2018-04-23 13:46:29,203 : INFO : loading Word2Vec object from word2vec/TRECDataset-ABBR_300.model\n"
     ]
    },
    {
     "name": "stdout",
     "output_type": "stream",
     "text": [
      "\n",
      "0.9840369670237346 0.9832214765100671\n",
      "TRECDataset-ABBR\n"
     ]
    },
    {
     "name": "stderr",
     "output_type": "stream",
     "text": [
      "2018-04-23 13:46:29,983 : INFO : loading wv recursively from word2vec/TRECDataset-ABBR_300.model.wv.* with mmap=None\n",
      "2018-04-23 13:46:29,984 : INFO : setting ignored attribute syn0norm to None\n",
      "2018-04-23 13:46:29,985 : INFO : setting ignored attribute cum_table to None\n",
      "2018-04-23 13:46:29,985 : INFO : loaded word2vec/TRECDataset-ABBR_300.model\n"
     ]
    },
    {
     "data": {
      "application/vnd.jupyter.widget-view+json": {
       "model_id": "7ebe1595d577451db1c014186f943e0d",
       "version_major": 2,
       "version_minor": 0
      },
      "text/html": [
       "<p>Failed to display Jupyter Widget of type <code>HBox</code>.</p>\n",
       "<p>\n",
       "  If you're reading this message in the Jupyter Notebook or JupyterLab Notebook, it may mean\n",
       "  that the widgets JavaScript is still loading. If this message persists, it\n",
       "  likely means that the widgets JavaScript library is either not installed or\n",
       "  not enabled. See the <a href=\"https://ipywidgets.readthedocs.io/en/stable/user_install.html\">Jupyter\n",
       "  Widgets Documentation</a> for setup instructions.\n",
       "</p>\n",
       "<p>\n",
       "  If you're reading this message in another frontend (for example, a static\n",
       "  rendering on GitHub or <a href=\"https://nbviewer.jupyter.org/\">NBViewer</a>),\n",
       "  it may mean that your frontend doesn't currently support widgets.\n",
       "</p>\n"
      ],
      "text/plain": [
       "HBox(children=(IntProgress(value=0, max=4761), HTML(value='')))"
      ]
     },
     "metadata": {},
     "output_type": "display_data"
    },
    {
     "name": "stdout",
     "output_type": "stream",
     "text": [
      "\n"
     ]
    },
    {
     "data": {
      "application/vnd.jupyter.widget-view+json": {
       "model_id": "3f8a75025412451184095d01c843d5f0",
       "version_major": 2,
       "version_minor": 0
      },
      "text/html": [
       "<p>Failed to display Jupyter Widget of type <code>HBox</code>.</p>\n",
       "<p>\n",
       "  If you're reading this message in the Jupyter Notebook or JupyterLab Notebook, it may mean\n",
       "  that the widgets JavaScript is still loading. If this message persists, it\n",
       "  likely means that the widgets JavaScript library is either not installed or\n",
       "  not enabled. See the <a href=\"https://ipywidgets.readthedocs.io/en/stable/user_install.html\">Jupyter\n",
       "  Widgets Documentation</a> for setup instructions.\n",
       "</p>\n",
       "<p>\n",
       "  If you're reading this message in another frontend (for example, a static\n",
       "  rendering on GitHub or <a href=\"https://nbviewer.jupyter.org/\">NBViewer</a>),\n",
       "  it may mean that your frontend doesn't currently support widgets.\n",
       "</p>\n"
      ],
      "text/plain": [
       "HBox(children=(IntProgress(value=0, max=4761), HTML(value='')))"
      ]
     },
     "metadata": {},
     "output_type": "display_data"
    },
    {
     "name": "stdout",
     "output_type": "stream",
     "text": [
      "\n"
     ]
    },
    {
     "data": {
      "application/vnd.jupyter.widget-view+json": {
       "model_id": "eedfc48390654946bca8764785028491",
       "version_major": 2,
       "version_minor": 0
      },
      "text/html": [
       "<p>Failed to display Jupyter Widget of type <code>HBox</code>.</p>\n",
       "<p>\n",
       "  If you're reading this message in the Jupyter Notebook or JupyterLab Notebook, it may mean\n",
       "  that the widgets JavaScript is still loading. If this message persists, it\n",
       "  likely means that the widgets JavaScript library is either not installed or\n",
       "  not enabled. See the <a href=\"https://ipywidgets.readthedocs.io/en/stable/user_install.html\">Jupyter\n",
       "  Widgets Documentation</a> for setup instructions.\n",
       "</p>\n",
       "<p>\n",
       "  If you're reading this message in another frontend (for example, a static\n",
       "  rendering on GitHub or <a href=\"https://nbviewer.jupyter.org/\">NBViewer</a>),\n",
       "  it may mean that your frontend doesn't currently support widgets.\n",
       "</p>\n"
      ],
      "text/plain": [
       "HBox(children=(IntProgress(value=0, max=596), HTML(value='')))"
      ]
     },
     "metadata": {},
     "output_type": "display_data"
    },
    {
     "name": "stderr",
     "output_type": "stream",
     "text": [
      "2018-04-23 13:46:30,821 : INFO : loading Word2Vec object from word2vec/TRECDataset-ABBR_400.model\n"
     ]
    },
    {
     "name": "stdout",
     "output_type": "stream",
     "text": [
      "\n",
      "0.9840369670237346 0.9832214765100671\n",
      "TRECDataset-ABBR\n"
     ]
    },
    {
     "name": "stderr",
     "output_type": "stream",
     "text": [
      "2018-04-23 13:46:32,007 : INFO : loading wv recursively from word2vec/TRECDataset-ABBR_400.model.wv.* with mmap=None\n",
      "2018-04-23 13:46:32,011 : INFO : setting ignored attribute syn0norm to None\n",
      "2018-04-23 13:46:32,013 : INFO : setting ignored attribute cum_table to None\n",
      "2018-04-23 13:46:32,015 : INFO : loaded word2vec/TRECDataset-ABBR_400.model\n"
     ]
    },
    {
     "data": {
      "application/vnd.jupyter.widget-view+json": {
       "model_id": "81e99712be784cd99161eb24dc451f4d",
       "version_major": 2,
       "version_minor": 0
      },
      "text/html": [
       "<p>Failed to display Jupyter Widget of type <code>HBox</code>.</p>\n",
       "<p>\n",
       "  If you're reading this message in the Jupyter Notebook or JupyterLab Notebook, it may mean\n",
       "  that the widgets JavaScript is still loading. If this message persists, it\n",
       "  likely means that the widgets JavaScript library is either not installed or\n",
       "  not enabled. See the <a href=\"https://ipywidgets.readthedocs.io/en/stable/user_install.html\">Jupyter\n",
       "  Widgets Documentation</a> for setup instructions.\n",
       "</p>\n",
       "<p>\n",
       "  If you're reading this message in another frontend (for example, a static\n",
       "  rendering on GitHub or <a href=\"https://nbviewer.jupyter.org/\">NBViewer</a>),\n",
       "  it may mean that your frontend doesn't currently support widgets.\n",
       "</p>\n"
      ],
      "text/plain": [
       "HBox(children=(IntProgress(value=0, max=4761), HTML(value='')))"
      ]
     },
     "metadata": {},
     "output_type": "display_data"
    },
    {
     "name": "stdout",
     "output_type": "stream",
     "text": [
      "\n"
     ]
    },
    {
     "data": {
      "application/vnd.jupyter.widget-view+json": {
       "model_id": "26e22326f5f54eaba9089f1ec7bd2a6e",
       "version_major": 2,
       "version_minor": 0
      },
      "text/html": [
       "<p>Failed to display Jupyter Widget of type <code>HBox</code>.</p>\n",
       "<p>\n",
       "  If you're reading this message in the Jupyter Notebook or JupyterLab Notebook, it may mean\n",
       "  that the widgets JavaScript is still loading. If this message persists, it\n",
       "  likely means that the widgets JavaScript library is either not installed or\n",
       "  not enabled. See the <a href=\"https://ipywidgets.readthedocs.io/en/stable/user_install.html\">Jupyter\n",
       "  Widgets Documentation</a> for setup instructions.\n",
       "</p>\n",
       "<p>\n",
       "  If you're reading this message in another frontend (for example, a static\n",
       "  rendering on GitHub or <a href=\"https://nbviewer.jupyter.org/\">NBViewer</a>),\n",
       "  it may mean that your frontend doesn't currently support widgets.\n",
       "</p>\n"
      ],
      "text/plain": [
       "HBox(children=(IntProgress(value=0, max=4761), HTML(value='')))"
      ]
     },
     "metadata": {},
     "output_type": "display_data"
    },
    {
     "name": "stdout",
     "output_type": "stream",
     "text": [
      "\n"
     ]
    },
    {
     "data": {
      "application/vnd.jupyter.widget-view+json": {
       "model_id": "a367607d01114c8c965a44f239ab49ac",
       "version_major": 2,
       "version_minor": 0
      },
      "text/html": [
       "<p>Failed to display Jupyter Widget of type <code>HBox</code>.</p>\n",
       "<p>\n",
       "  If you're reading this message in the Jupyter Notebook or JupyterLab Notebook, it may mean\n",
       "  that the widgets JavaScript is still loading. If this message persists, it\n",
       "  likely means that the widgets JavaScript library is either not installed or\n",
       "  not enabled. See the <a href=\"https://ipywidgets.readthedocs.io/en/stable/user_install.html\">Jupyter\n",
       "  Widgets Documentation</a> for setup instructions.\n",
       "</p>\n",
       "<p>\n",
       "  If you're reading this message in another frontend (for example, a static\n",
       "  rendering on GitHub or <a href=\"https://nbviewer.jupyter.org/\">NBViewer</a>),\n",
       "  it may mean that your frontend doesn't currently support widgets.\n",
       "</p>\n"
      ],
      "text/plain": [
       "HBox(children=(IntProgress(value=0, max=596), HTML(value='')))"
      ]
     },
     "metadata": {},
     "output_type": "display_data"
    },
    {
     "name": "stderr",
     "output_type": "stream",
     "text": [
      "2018-04-23 13:46:33,628 : INFO : loading Word2Vec object from word2vec/TRECDataset-DESC_200.model\n"
     ]
    },
    {
     "name": "stdout",
     "output_type": "stream",
     "text": [
      "\n",
      "0.9840369670237346 0.9832214765100671\n",
      "TRECDataset-DESC\n"
     ]
    },
    {
     "name": "stderr",
     "output_type": "stream",
     "text": [
      "2018-04-23 13:46:35,313 : INFO : loading wv recursively from word2vec/TRECDataset-DESC_200.model.wv.* with mmap=None\n",
      "2018-04-23 13:46:35,315 : INFO : setting ignored attribute syn0norm to None\n",
      "2018-04-23 13:46:35,315 : INFO : setting ignored attribute cum_table to None\n",
      "2018-04-23 13:46:35,315 : INFO : loaded word2vec/TRECDataset-DESC_200.model\n"
     ]
    },
    {
     "data": {
      "application/vnd.jupyter.widget-view+json": {
       "model_id": "49e27b04f7fd406f843b7a27cb6dba29",
       "version_major": 2,
       "version_minor": 0
      },
      "text/html": [
       "<p>Failed to display Jupyter Widget of type <code>HBox</code>.</p>\n",
       "<p>\n",
       "  If you're reading this message in the Jupyter Notebook or JupyterLab Notebook, it may mean\n",
       "  that the widgets JavaScript is still loading. If this message persists, it\n",
       "  likely means that the widgets JavaScript library is either not installed or\n",
       "  not enabled. See the <a href=\"https://ipywidgets.readthedocs.io/en/stable/user_install.html\">Jupyter\n",
       "  Widgets Documentation</a> for setup instructions.\n",
       "</p>\n",
       "<p>\n",
       "  If you're reading this message in another frontend (for example, a static\n",
       "  rendering on GitHub or <a href=\"https://nbviewer.jupyter.org/\">NBViewer</a>),\n",
       "  it may mean that your frontend doesn't currently support widgets.\n",
       "</p>\n"
      ],
      "text/plain": [
       "HBox(children=(IntProgress(value=0, max=4761), HTML(value='')))"
      ]
     },
     "metadata": {},
     "output_type": "display_data"
    },
    {
     "name": "stdout",
     "output_type": "stream",
     "text": [
      "\n"
     ]
    },
    {
     "data": {
      "application/vnd.jupyter.widget-view+json": {
       "model_id": "d740b782beb94ab588e4bfa9eef72651",
       "version_major": 2,
       "version_minor": 0
      },
      "text/html": [
       "<p>Failed to display Jupyter Widget of type <code>HBox</code>.</p>\n",
       "<p>\n",
       "  If you're reading this message in the Jupyter Notebook or JupyterLab Notebook, it may mean\n",
       "  that the widgets JavaScript is still loading. If this message persists, it\n",
       "  likely means that the widgets JavaScript library is either not installed or\n",
       "  not enabled. See the <a href=\"https://ipywidgets.readthedocs.io/en/stable/user_install.html\">Jupyter\n",
       "  Widgets Documentation</a> for setup instructions.\n",
       "</p>\n",
       "<p>\n",
       "  If you're reading this message in another frontend (for example, a static\n",
       "  rendering on GitHub or <a href=\"https://nbviewer.jupyter.org/\">NBViewer</a>),\n",
       "  it may mean that your frontend doesn't currently support widgets.\n",
       "</p>\n"
      ],
      "text/plain": [
       "HBox(children=(IntProgress(value=0, max=4761), HTML(value='')))"
      ]
     },
     "metadata": {},
     "output_type": "display_data"
    },
    {
     "name": "stdout",
     "output_type": "stream",
     "text": [
      "\n"
     ]
    },
    {
     "data": {
      "application/vnd.jupyter.widget-view+json": {
       "model_id": "e7496b6a75f14f7aa99901edda11c005",
       "version_major": 2,
       "version_minor": 0
      },
      "text/html": [
       "<p>Failed to display Jupyter Widget of type <code>HBox</code>.</p>\n",
       "<p>\n",
       "  If you're reading this message in the Jupyter Notebook or JupyterLab Notebook, it may mean\n",
       "  that the widgets JavaScript is still loading. If this message persists, it\n",
       "  likely means that the widgets JavaScript library is either not installed or\n",
       "  not enabled. See the <a href=\"https://ipywidgets.readthedocs.io/en/stable/user_install.html\">Jupyter\n",
       "  Widgets Documentation</a> for setup instructions.\n",
       "</p>\n",
       "<p>\n",
       "  If you're reading this message in another frontend (for example, a static\n",
       "  rendering on GitHub or <a href=\"https://nbviewer.jupyter.org/\">NBViewer</a>),\n",
       "  it may mean that your frontend doesn't currently support widgets.\n",
       "</p>\n"
      ],
      "text/plain": [
       "HBox(children=(IntProgress(value=0, max=596), HTML(value='')))"
      ]
     },
     "metadata": {},
     "output_type": "display_data"
    },
    {
     "name": "stderr",
     "output_type": "stream",
     "text": [
      "2018-04-23 13:46:36,218 : INFO : loading Word2Vec object from word2vec/TRECDataset-DESC_300.model\n"
     ]
    },
    {
     "name": "stdout",
     "output_type": "stream",
     "text": [
      "\n",
      "0.7868094938038227 0.785234899328859\n",
      "TRECDataset-DESC\n"
     ]
    },
    {
     "name": "stderr",
     "output_type": "stream",
     "text": [
      "2018-04-23 13:46:38,505 : INFO : loading wv recursively from word2vec/TRECDataset-DESC_300.model.wv.* with mmap=None\n",
      "2018-04-23 13:46:38,521 : INFO : setting ignored attribute syn0norm to None\n",
      "2018-04-23 13:46:38,524 : INFO : setting ignored attribute cum_table to None\n",
      "2018-04-23 13:46:38,527 : INFO : loaded word2vec/TRECDataset-DESC_300.model\n"
     ]
    },
    {
     "data": {
      "application/vnd.jupyter.widget-view+json": {
       "model_id": "9110447d2f7146ae80a5bc6f3c8b352b",
       "version_major": 2,
       "version_minor": 0
      },
      "text/html": [
       "<p>Failed to display Jupyter Widget of type <code>HBox</code>.</p>\n",
       "<p>\n",
       "  If you're reading this message in the Jupyter Notebook or JupyterLab Notebook, it may mean\n",
       "  that the widgets JavaScript is still loading. If this message persists, it\n",
       "  likely means that the widgets JavaScript library is either not installed or\n",
       "  not enabled. See the <a href=\"https://ipywidgets.readthedocs.io/en/stable/user_install.html\">Jupyter\n",
       "  Widgets Documentation</a> for setup instructions.\n",
       "</p>\n",
       "<p>\n",
       "  If you're reading this message in another frontend (for example, a static\n",
       "  rendering on GitHub or <a href=\"https://nbviewer.jupyter.org/\">NBViewer</a>),\n",
       "  it may mean that your frontend doesn't currently support widgets.\n",
       "</p>\n"
      ],
      "text/plain": [
       "HBox(children=(IntProgress(value=0, max=4761), HTML(value='')))"
      ]
     },
     "metadata": {},
     "output_type": "display_data"
    },
    {
     "name": "stdout",
     "output_type": "stream",
     "text": [
      "\n"
     ]
    },
    {
     "data": {
      "application/vnd.jupyter.widget-view+json": {
       "model_id": "764b561745d94a28b5687af1a59d52a1",
       "version_major": 2,
       "version_minor": 0
      },
      "text/html": [
       "<p>Failed to display Jupyter Widget of type <code>HBox</code>.</p>\n",
       "<p>\n",
       "  If you're reading this message in the Jupyter Notebook or JupyterLab Notebook, it may mean\n",
       "  that the widgets JavaScript is still loading. If this message persists, it\n",
       "  likely means that the widgets JavaScript library is either not installed or\n",
       "  not enabled. See the <a href=\"https://ipywidgets.readthedocs.io/en/stable/user_install.html\">Jupyter\n",
       "  Widgets Documentation</a> for setup instructions.\n",
       "</p>\n",
       "<p>\n",
       "  If you're reading this message in another frontend (for example, a static\n",
       "  rendering on GitHub or <a href=\"https://nbviewer.jupyter.org/\">NBViewer</a>),\n",
       "  it may mean that your frontend doesn't currently support widgets.\n",
       "</p>\n"
      ],
      "text/plain": [
       "HBox(children=(IntProgress(value=0, max=4761), HTML(value='')))"
      ]
     },
     "metadata": {},
     "output_type": "display_data"
    },
    {
     "name": "stdout",
     "output_type": "stream",
     "text": [
      "\n"
     ]
    },
    {
     "data": {
      "application/vnd.jupyter.widget-view+json": {
       "model_id": "01775f6278634502973d33f1fc00490c",
       "version_major": 2,
       "version_minor": 0
      },
      "text/html": [
       "<p>Failed to display Jupyter Widget of type <code>HBox</code>.</p>\n",
       "<p>\n",
       "  If you're reading this message in the Jupyter Notebook or JupyterLab Notebook, it may mean\n",
       "  that the widgets JavaScript is still loading. If this message persists, it\n",
       "  likely means that the widgets JavaScript library is either not installed or\n",
       "  not enabled. See the <a href=\"https://ipywidgets.readthedocs.io/en/stable/user_install.html\">Jupyter\n",
       "  Widgets Documentation</a> for setup instructions.\n",
       "</p>\n",
       "<p>\n",
       "  If you're reading this message in another frontend (for example, a static\n",
       "  rendering on GitHub or <a href=\"https://nbviewer.jupyter.org/\">NBViewer</a>),\n",
       "  it may mean that your frontend doesn't currently support widgets.\n",
       "</p>\n"
      ],
      "text/plain": [
       "HBox(children=(IntProgress(value=0, max=596), HTML(value='')))"
      ]
     },
     "metadata": {},
     "output_type": "display_data"
    },
    {
     "name": "stderr",
     "output_type": "stream",
     "text": [
      "2018-04-23 13:46:40,027 : INFO : loading Word2Vec object from word2vec/TRECDataset-DESC_400.model\n"
     ]
    },
    {
     "name": "stdout",
     "output_type": "stream",
     "text": [
      "\n",
      "0.784078975005251 0.7869127516778524\n",
      "TRECDataset-DESC\n"
     ]
    },
    {
     "name": "stderr",
     "output_type": "stream",
     "text": [
      "2018-04-23 13:46:43,088 : INFO : loading wv recursively from word2vec/TRECDataset-DESC_400.model.wv.* with mmap=None\n",
      "2018-04-23 13:46:43,090 : INFO : setting ignored attribute syn0norm to None\n",
      "2018-04-23 13:46:43,091 : INFO : setting ignored attribute cum_table to None\n",
      "2018-04-23 13:46:43,091 : INFO : loaded word2vec/TRECDataset-DESC_400.model\n"
     ]
    },
    {
     "data": {
      "application/vnd.jupyter.widget-view+json": {
       "model_id": "ffbd037a14c046ac9410b5f097d426d5",
       "version_major": 2,
       "version_minor": 0
      },
      "text/html": [
       "<p>Failed to display Jupyter Widget of type <code>HBox</code>.</p>\n",
       "<p>\n",
       "  If you're reading this message in the Jupyter Notebook or JupyterLab Notebook, it may mean\n",
       "  that the widgets JavaScript is still loading. If this message persists, it\n",
       "  likely means that the widgets JavaScript library is either not installed or\n",
       "  not enabled. See the <a href=\"https://ipywidgets.readthedocs.io/en/stable/user_install.html\">Jupyter\n",
       "  Widgets Documentation</a> for setup instructions.\n",
       "</p>\n",
       "<p>\n",
       "  If you're reading this message in another frontend (for example, a static\n",
       "  rendering on GitHub or <a href=\"https://nbviewer.jupyter.org/\">NBViewer</a>),\n",
       "  it may mean that your frontend doesn't currently support widgets.\n",
       "</p>\n"
      ],
      "text/plain": [
       "HBox(children=(IntProgress(value=0, max=4761), HTML(value='')))"
      ]
     },
     "metadata": {},
     "output_type": "display_data"
    },
    {
     "name": "stdout",
     "output_type": "stream",
     "text": [
      "\n"
     ]
    },
    {
     "data": {
      "application/vnd.jupyter.widget-view+json": {
       "model_id": "0573b99c5e4f4055919f9ff3761a48eb",
       "version_major": 2,
       "version_minor": 0
      },
      "text/html": [
       "<p>Failed to display Jupyter Widget of type <code>HBox</code>.</p>\n",
       "<p>\n",
       "  If you're reading this message in the Jupyter Notebook or JupyterLab Notebook, it may mean\n",
       "  that the widgets JavaScript is still loading. If this message persists, it\n",
       "  likely means that the widgets JavaScript library is either not installed or\n",
       "  not enabled. See the <a href=\"https://ipywidgets.readthedocs.io/en/stable/user_install.html\">Jupyter\n",
       "  Widgets Documentation</a> for setup instructions.\n",
       "</p>\n",
       "<p>\n",
       "  If you're reading this message in another frontend (for example, a static\n",
       "  rendering on GitHub or <a href=\"https://nbviewer.jupyter.org/\">NBViewer</a>),\n",
       "  it may mean that your frontend doesn't currently support widgets.\n",
       "</p>\n"
      ],
      "text/plain": [
       "HBox(children=(IntProgress(value=0, max=4761), HTML(value='')))"
      ]
     },
     "metadata": {},
     "output_type": "display_data"
    },
    {
     "name": "stdout",
     "output_type": "stream",
     "text": [
      "\n"
     ]
    },
    {
     "data": {
      "application/vnd.jupyter.widget-view+json": {
       "model_id": "4ef0fd7cc875419783daf056d67f868c",
       "version_major": 2,
       "version_minor": 0
      },
      "text/html": [
       "<p>Failed to display Jupyter Widget of type <code>HBox</code>.</p>\n",
       "<p>\n",
       "  If you're reading this message in the Jupyter Notebook or JupyterLab Notebook, it may mean\n",
       "  that the widgets JavaScript is still loading. If this message persists, it\n",
       "  likely means that the widgets JavaScript library is either not installed or\n",
       "  not enabled. See the <a href=\"https://ipywidgets.readthedocs.io/en/stable/user_install.html\">Jupyter\n",
       "  Widgets Documentation</a> for setup instructions.\n",
       "</p>\n",
       "<p>\n",
       "  If you're reading this message in another frontend (for example, a static\n",
       "  rendering on GitHub or <a href=\"https://nbviewer.jupyter.org/\">NBViewer</a>),\n",
       "  it may mean that your frontend doesn't currently support widgets.\n",
       "</p>\n"
      ],
      "text/plain": [
       "HBox(children=(IntProgress(value=0, max=596), HTML(value='')))"
      ]
     },
     "metadata": {},
     "output_type": "display_data"
    },
    {
     "name": "stderr",
     "output_type": "stream",
     "text": [
      "2018-04-23 13:46:44,107 : INFO : loading Word2Vec object from word2vec/TRECDataset-LOC_200.model\n"
     ]
    },
    {
     "name": "stdout",
     "output_type": "stream",
     "text": [
      "\n",
      "0.7832388153749212 0.785234899328859\n",
      "TRECDataset-LOC\n"
     ]
    },
    {
     "name": "stderr",
     "output_type": "stream",
     "text": [
      "2018-04-23 13:46:45,316 : INFO : loading wv recursively from word2vec/TRECDataset-LOC_200.model.wv.* with mmap=None\n",
      "2018-04-23 13:46:45,325 : INFO : setting ignored attribute syn0norm to None\n",
      "2018-04-23 13:46:45,331 : INFO : setting ignored attribute cum_table to None\n",
      "2018-04-23 13:46:45,334 : INFO : loaded word2vec/TRECDataset-LOC_200.model\n"
     ]
    },
    {
     "data": {
      "application/vnd.jupyter.widget-view+json": {
       "model_id": "d61084f45e384d2bab139424c9b965b3",
       "version_major": 2,
       "version_minor": 0
      },
      "text/html": [
       "<p>Failed to display Jupyter Widget of type <code>HBox</code>.</p>\n",
       "<p>\n",
       "  If you're reading this message in the Jupyter Notebook or JupyterLab Notebook, it may mean\n",
       "  that the widgets JavaScript is still loading. If this message persists, it\n",
       "  likely means that the widgets JavaScript library is either not installed or\n",
       "  not enabled. See the <a href=\"https://ipywidgets.readthedocs.io/en/stable/user_install.html\">Jupyter\n",
       "  Widgets Documentation</a> for setup instructions.\n",
       "</p>\n",
       "<p>\n",
       "  If you're reading this message in another frontend (for example, a static\n",
       "  rendering on GitHub or <a href=\"https://nbviewer.jupyter.org/\">NBViewer</a>),\n",
       "  it may mean that your frontend doesn't currently support widgets.\n",
       "</p>\n"
      ],
      "text/plain": [
       "HBox(children=(IntProgress(value=0, max=4761), HTML(value='')))"
      ]
     },
     "metadata": {},
     "output_type": "display_data"
    },
    {
     "name": "stdout",
     "output_type": "stream",
     "text": [
      "\n"
     ]
    },
    {
     "data": {
      "application/vnd.jupyter.widget-view+json": {
       "model_id": "34be2c44ba1b40fcb81f88ff7e4cedc4",
       "version_major": 2,
       "version_minor": 0
      },
      "text/html": [
       "<p>Failed to display Jupyter Widget of type <code>HBox</code>.</p>\n",
       "<p>\n",
       "  If you're reading this message in the Jupyter Notebook or JupyterLab Notebook, it may mean\n",
       "  that the widgets JavaScript is still loading. If this message persists, it\n",
       "  likely means that the widgets JavaScript library is either not installed or\n",
       "  not enabled. See the <a href=\"https://ipywidgets.readthedocs.io/en/stable/user_install.html\">Jupyter\n",
       "  Widgets Documentation</a> for setup instructions.\n",
       "</p>\n",
       "<p>\n",
       "  If you're reading this message in another frontend (for example, a static\n",
       "  rendering on GitHub or <a href=\"https://nbviewer.jupyter.org/\">NBViewer</a>),\n",
       "  it may mean that your frontend doesn't currently support widgets.\n",
       "</p>\n"
      ],
      "text/plain": [
       "HBox(children=(IntProgress(value=0, max=4761), HTML(value='')))"
      ]
     },
     "metadata": {},
     "output_type": "display_data"
    },
    {
     "name": "stdout",
     "output_type": "stream",
     "text": [
      "\n"
     ]
    },
    {
     "data": {
      "application/vnd.jupyter.widget-view+json": {
       "model_id": "c4dcfad103914299b702f18c4563e901",
       "version_major": 2,
       "version_minor": 0
      },
      "text/html": [
       "<p>Failed to display Jupyter Widget of type <code>HBox</code>.</p>\n",
       "<p>\n",
       "  If you're reading this message in the Jupyter Notebook or JupyterLab Notebook, it may mean\n",
       "  that the widgets JavaScript is still loading. If this message persists, it\n",
       "  likely means that the widgets JavaScript library is either not installed or\n",
       "  not enabled. See the <a href=\"https://ipywidgets.readthedocs.io/en/stable/user_install.html\">Jupyter\n",
       "  Widgets Documentation</a> for setup instructions.\n",
       "</p>\n",
       "<p>\n",
       "  If you're reading this message in another frontend (for example, a static\n",
       "  rendering on GitHub or <a href=\"https://nbviewer.jupyter.org/\">NBViewer</a>),\n",
       "  it may mean that your frontend doesn't currently support widgets.\n",
       "</p>\n"
      ],
      "text/plain": [
       "HBox(children=(IntProgress(value=0, max=596), HTML(value='')))"
      ]
     },
     "metadata": {},
     "output_type": "display_data"
    },
    {
     "name": "stderr",
     "output_type": "stream",
     "text": [
      "2018-04-23 13:46:46,581 : INFO : loading Word2Vec object from word2vec/TRECDataset-LOC_300.model\n"
     ]
    },
    {
     "name": "stdout",
     "output_type": "stream",
     "text": [
      "\n",
      "0.8485612266330602 0.8506711409395973\n",
      "TRECDataset-LOC\n"
     ]
    },
    {
     "name": "stderr",
     "output_type": "stream",
     "text": [
      "2018-04-23 13:46:50,927 : INFO : loading wv recursively from word2vec/TRECDataset-LOC_300.model.wv.* with mmap=None\n",
      "2018-04-23 13:46:50,928 : INFO : setting ignored attribute syn0norm to None\n",
      "2018-04-23 13:46:50,929 : INFO : setting ignored attribute cum_table to None\n",
      "2018-04-23 13:46:50,929 : INFO : loaded word2vec/TRECDataset-LOC_300.model\n"
     ]
    },
    {
     "data": {
      "application/vnd.jupyter.widget-view+json": {
       "model_id": "d0fe5e1b90a542efb0193c3b9ecd53b0",
       "version_major": 2,
       "version_minor": 0
      },
      "text/html": [
       "<p>Failed to display Jupyter Widget of type <code>HBox</code>.</p>\n",
       "<p>\n",
       "  If you're reading this message in the Jupyter Notebook or JupyterLab Notebook, it may mean\n",
       "  that the widgets JavaScript is still loading. If this message persists, it\n",
       "  likely means that the widgets JavaScript library is either not installed or\n",
       "  not enabled. See the <a href=\"https://ipywidgets.readthedocs.io/en/stable/user_install.html\">Jupyter\n",
       "  Widgets Documentation</a> for setup instructions.\n",
       "</p>\n",
       "<p>\n",
       "  If you're reading this message in another frontend (for example, a static\n",
       "  rendering on GitHub or <a href=\"https://nbviewer.jupyter.org/\">NBViewer</a>),\n",
       "  it may mean that your frontend doesn't currently support widgets.\n",
       "</p>\n"
      ],
      "text/plain": [
       "HBox(children=(IntProgress(value=0, max=4761), HTML(value='')))"
      ]
     },
     "metadata": {},
     "output_type": "display_data"
    },
    {
     "name": "stdout",
     "output_type": "stream",
     "text": [
      "\n"
     ]
    },
    {
     "data": {
      "application/vnd.jupyter.widget-view+json": {
       "model_id": "8d582b55d39e4087866197c66d456f15",
       "version_major": 2,
       "version_minor": 0
      },
      "text/html": [
       "<p>Failed to display Jupyter Widget of type <code>HBox</code>.</p>\n",
       "<p>\n",
       "  If you're reading this message in the Jupyter Notebook or JupyterLab Notebook, it may mean\n",
       "  that the widgets JavaScript is still loading. If this message persists, it\n",
       "  likely means that the widgets JavaScript library is either not installed or\n",
       "  not enabled. See the <a href=\"https://ipywidgets.readthedocs.io/en/stable/user_install.html\">Jupyter\n",
       "  Widgets Documentation</a> for setup instructions.\n",
       "</p>\n",
       "<p>\n",
       "  If you're reading this message in another frontend (for example, a static\n",
       "  rendering on GitHub or <a href=\"https://nbviewer.jupyter.org/\">NBViewer</a>),\n",
       "  it may mean that your frontend doesn't currently support widgets.\n",
       "</p>\n"
      ],
      "text/plain": [
       "HBox(children=(IntProgress(value=0, max=4761), HTML(value='')))"
      ]
     },
     "metadata": {},
     "output_type": "display_data"
    },
    {
     "name": "stdout",
     "output_type": "stream",
     "text": [
      "\n"
     ]
    },
    {
     "data": {
      "application/vnd.jupyter.widget-view+json": {
       "model_id": "dc6c05b3b9f144a3bc874196dfca3f39",
       "version_major": 2,
       "version_minor": 0
      },
      "text/html": [
       "<p>Failed to display Jupyter Widget of type <code>HBox</code>.</p>\n",
       "<p>\n",
       "  If you're reading this message in the Jupyter Notebook or JupyterLab Notebook, it may mean\n",
       "  that the widgets JavaScript is still loading. If this message persists, it\n",
       "  likely means that the widgets JavaScript library is either not installed or\n",
       "  not enabled. See the <a href=\"https://ipywidgets.readthedocs.io/en/stable/user_install.html\">Jupyter\n",
       "  Widgets Documentation</a> for setup instructions.\n",
       "</p>\n",
       "<p>\n",
       "  If you're reading this message in another frontend (for example, a static\n",
       "  rendering on GitHub or <a href=\"https://nbviewer.jupyter.org/\">NBViewer</a>),\n",
       "  it may mean that your frontend doesn't currently support widgets.\n",
       "</p>\n"
      ],
      "text/plain": [
       "HBox(children=(IntProgress(value=0, max=596), HTML(value='')))"
      ]
     },
     "metadata": {},
     "output_type": "display_data"
    },
    {
     "name": "stdout",
     "output_type": "stream",
     "text": [
      "\n"
     ]
    },
    {
     "name": "stderr",
     "output_type": "stream",
     "text": [
      "2018-04-23 13:46:52,020 : INFO : loading Word2Vec object from word2vec/TRECDataset-LOC_400.model\n"
     ]
    },
    {
     "name": "stdout",
     "output_type": "stream",
     "text": [
      "0.846040747742071 0.8456375838926175\n",
      "TRECDataset-LOC\n"
     ]
    },
    {
     "name": "stderr",
     "output_type": "stream",
     "text": [
      "2018-04-23 13:46:53,569 : INFO : loading wv recursively from word2vec/TRECDataset-LOC_400.model.wv.* with mmap=None\n",
      "2018-04-23 13:46:53,571 : INFO : setting ignored attribute syn0norm to None\n",
      "2018-04-23 13:46:53,571 : INFO : setting ignored attribute cum_table to None\n",
      "2018-04-23 13:46:53,571 : INFO : loaded word2vec/TRECDataset-LOC_400.model\n"
     ]
    },
    {
     "data": {
      "application/vnd.jupyter.widget-view+json": {
       "model_id": "d46d3849679d47adab8d202550eb8c7d",
       "version_major": 2,
       "version_minor": 0
      },
      "text/html": [
       "<p>Failed to display Jupyter Widget of type <code>HBox</code>.</p>\n",
       "<p>\n",
       "  If you're reading this message in the Jupyter Notebook or JupyterLab Notebook, it may mean\n",
       "  that the widgets JavaScript is still loading. If this message persists, it\n",
       "  likely means that the widgets JavaScript library is either not installed or\n",
       "  not enabled. See the <a href=\"https://ipywidgets.readthedocs.io/en/stable/user_install.html\">Jupyter\n",
       "  Widgets Documentation</a> for setup instructions.\n",
       "</p>\n",
       "<p>\n",
       "  If you're reading this message in another frontend (for example, a static\n",
       "  rendering on GitHub or <a href=\"https://nbviewer.jupyter.org/\">NBViewer</a>),\n",
       "  it may mean that your frontend doesn't currently support widgets.\n",
       "</p>\n"
      ],
      "text/plain": [
       "HBox(children=(IntProgress(value=0, max=4761), HTML(value='')))"
      ]
     },
     "metadata": {},
     "output_type": "display_data"
    },
    {
     "name": "stdout",
     "output_type": "stream",
     "text": [
      "\n"
     ]
    },
    {
     "data": {
      "application/vnd.jupyter.widget-view+json": {
       "model_id": "acf329a5e159420b8d4fc686e957b03d",
       "version_major": 2,
       "version_minor": 0
      },
      "text/html": [
       "<p>Failed to display Jupyter Widget of type <code>HBox</code>.</p>\n",
       "<p>\n",
       "  If you're reading this message in the Jupyter Notebook or JupyterLab Notebook, it may mean\n",
       "  that the widgets JavaScript is still loading. If this message persists, it\n",
       "  likely means that the widgets JavaScript library is either not installed or\n",
       "  not enabled. See the <a href=\"https://ipywidgets.readthedocs.io/en/stable/user_install.html\">Jupyter\n",
       "  Widgets Documentation</a> for setup instructions.\n",
       "</p>\n",
       "<p>\n",
       "  If you're reading this message in another frontend (for example, a static\n",
       "  rendering on GitHub or <a href=\"https://nbviewer.jupyter.org/\">NBViewer</a>),\n",
       "  it may mean that your frontend doesn't currently support widgets.\n",
       "</p>\n"
      ],
      "text/plain": [
       "HBox(children=(IntProgress(value=0, max=4761), HTML(value='')))"
      ]
     },
     "metadata": {},
     "output_type": "display_data"
    },
    {
     "name": "stdout",
     "output_type": "stream",
     "text": [
      "\n"
     ]
    },
    {
     "data": {
      "application/vnd.jupyter.widget-view+json": {
       "model_id": "a8c035a2078641bca3c6d886a11486a4",
       "version_major": 2,
       "version_minor": 0
      },
      "text/html": [
       "<p>Failed to display Jupyter Widget of type <code>HBox</code>.</p>\n",
       "<p>\n",
       "  If you're reading this message in the Jupyter Notebook or JupyterLab Notebook, it may mean\n",
       "  that the widgets JavaScript is still loading. If this message persists, it\n",
       "  likely means that the widgets JavaScript library is either not installed or\n",
       "  not enabled. See the <a href=\"https://ipywidgets.readthedocs.io/en/stable/user_install.html\">Jupyter\n",
       "  Widgets Documentation</a> for setup instructions.\n",
       "</p>\n",
       "<p>\n",
       "  If you're reading this message in another frontend (for example, a static\n",
       "  rendering on GitHub or <a href=\"https://nbviewer.jupyter.org/\">NBViewer</a>),\n",
       "  it may mean that your frontend doesn't currently support widgets.\n",
       "</p>\n"
      ],
      "text/plain": [
       "HBox(children=(IntProgress(value=0, max=596), HTML(value='')))"
      ]
     },
     "metadata": {},
     "output_type": "display_data"
    },
    {
     "name": "stderr",
     "output_type": "stream",
     "text": [
      "2018-04-23 13:46:54,514 : INFO : loading Word2Vec object from word2vec/TRECDataset-HUM_200.model\n"
     ]
    },
    {
     "name": "stdout",
     "output_type": "stream",
     "text": [
      "\n",
      "0.846040747742071 0.8456375838926175\n",
      "TRECDataset-HUM\n"
     ]
    },
    {
     "name": "stderr",
     "output_type": "stream",
     "text": [
      "2018-04-23 13:46:55,375 : INFO : loading wv recursively from word2vec/TRECDataset-HUM_200.model.wv.* with mmap=None\n",
      "2018-04-23 13:46:55,380 : INFO : setting ignored attribute syn0norm to None\n",
      "2018-04-23 13:46:55,382 : INFO : setting ignored attribute cum_table to None\n",
      "2018-04-23 13:46:55,385 : INFO : loaded word2vec/TRECDataset-HUM_200.model\n"
     ]
    },
    {
     "data": {
      "application/vnd.jupyter.widget-view+json": {
       "model_id": "41ec28544728480ab163134e4fb4a109",
       "version_major": 2,
       "version_minor": 0
      },
      "text/html": [
       "<p>Failed to display Jupyter Widget of type <code>HBox</code>.</p>\n",
       "<p>\n",
       "  If you're reading this message in the Jupyter Notebook or JupyterLab Notebook, it may mean\n",
       "  that the widgets JavaScript is still loading. If this message persists, it\n",
       "  likely means that the widgets JavaScript library is either not installed or\n",
       "  not enabled. See the <a href=\"https://ipywidgets.readthedocs.io/en/stable/user_install.html\">Jupyter\n",
       "  Widgets Documentation</a> for setup instructions.\n",
       "</p>\n",
       "<p>\n",
       "  If you're reading this message in another frontend (for example, a static\n",
       "  rendering on GitHub or <a href=\"https://nbviewer.jupyter.org/\">NBViewer</a>),\n",
       "  it may mean that your frontend doesn't currently support widgets.\n",
       "</p>\n"
      ],
      "text/plain": [
       "HBox(children=(IntProgress(value=0, max=4761), HTML(value='')))"
      ]
     },
     "metadata": {},
     "output_type": "display_data"
    },
    {
     "name": "stdout",
     "output_type": "stream",
     "text": [
      "\n"
     ]
    },
    {
     "data": {
      "application/vnd.jupyter.widget-view+json": {
       "model_id": "1b02f0b1040240e18757a0db71dc896c",
       "version_major": 2,
       "version_minor": 0
      },
      "text/html": [
       "<p>Failed to display Jupyter Widget of type <code>HBox</code>.</p>\n",
       "<p>\n",
       "  If you're reading this message in the Jupyter Notebook or JupyterLab Notebook, it may mean\n",
       "  that the widgets JavaScript is still loading. If this message persists, it\n",
       "  likely means that the widgets JavaScript library is either not installed or\n",
       "  not enabled. See the <a href=\"https://ipywidgets.readthedocs.io/en/stable/user_install.html\">Jupyter\n",
       "  Widgets Documentation</a> for setup instructions.\n",
       "</p>\n",
       "<p>\n",
       "  If you're reading this message in another frontend (for example, a static\n",
       "  rendering on GitHub or <a href=\"https://nbviewer.jupyter.org/\">NBViewer</a>),\n",
       "  it may mean that your frontend doesn't currently support widgets.\n",
       "</p>\n"
      ],
      "text/plain": [
       "HBox(children=(IntProgress(value=0, max=4761), HTML(value='')))"
      ]
     },
     "metadata": {},
     "output_type": "display_data"
    },
    {
     "name": "stdout",
     "output_type": "stream",
     "text": [
      "\n"
     ]
    },
    {
     "data": {
      "application/vnd.jupyter.widget-view+json": {
       "model_id": "4960ca838fcf4d38ae4f9dea617b8556",
       "version_major": 2,
       "version_minor": 0
      },
      "text/html": [
       "<p>Failed to display Jupyter Widget of type <code>HBox</code>.</p>\n",
       "<p>\n",
       "  If you're reading this message in the Jupyter Notebook or JupyterLab Notebook, it may mean\n",
       "  that the widgets JavaScript is still loading. If this message persists, it\n",
       "  likely means that the widgets JavaScript library is either not installed or\n",
       "  not enabled. See the <a href=\"https://ipywidgets.readthedocs.io/en/stable/user_install.html\">Jupyter\n",
       "  Widgets Documentation</a> for setup instructions.\n",
       "</p>\n",
       "<p>\n",
       "  If you're reading this message in another frontend (for example, a static\n",
       "  rendering on GitHub or <a href=\"https://nbviewer.jupyter.org/\">NBViewer</a>),\n",
       "  it may mean that your frontend doesn't currently support widgets.\n",
       "</p>\n"
      ],
      "text/plain": [
       "HBox(children=(IntProgress(value=0, max=596), HTML(value='')))"
      ]
     },
     "metadata": {},
     "output_type": "display_data"
    },
    {
     "name": "stdout",
     "output_type": "stream",
     "text": [
      "\n"
     ]
    },
    {
     "name": "stderr",
     "output_type": "stream",
     "text": [
      "2018-04-23 13:46:56,811 : INFO : loading Word2Vec object from word2vec/TRECDataset-HUM_300.model\n"
     ]
    },
    {
     "name": "stdout",
     "output_type": "stream",
     "text": [
      "0.8071833648393194 0.8120805369127517\n",
      "TRECDataset-HUM\n"
     ]
    },
    {
     "name": "stderr",
     "output_type": "stream",
     "text": [
      "2018-04-23 13:46:57,962 : INFO : loading wv recursively from word2vec/TRECDataset-HUM_300.model.wv.* with mmap=None\n",
      "2018-04-23 13:46:57,963 : INFO : setting ignored attribute syn0norm to None\n",
      "2018-04-23 13:46:57,964 : INFO : setting ignored attribute cum_table to None\n",
      "2018-04-23 13:46:57,964 : INFO : loaded word2vec/TRECDataset-HUM_300.model\n"
     ]
    },
    {
     "data": {
      "application/vnd.jupyter.widget-view+json": {
       "model_id": "cba740290c4745e4aea2f4fc34b8f235",
       "version_major": 2,
       "version_minor": 0
      },
      "text/html": [
       "<p>Failed to display Jupyter Widget of type <code>HBox</code>.</p>\n",
       "<p>\n",
       "  If you're reading this message in the Jupyter Notebook or JupyterLab Notebook, it may mean\n",
       "  that the widgets JavaScript is still loading. If this message persists, it\n",
       "  likely means that the widgets JavaScript library is either not installed or\n",
       "  not enabled. See the <a href=\"https://ipywidgets.readthedocs.io/en/stable/user_install.html\">Jupyter\n",
       "  Widgets Documentation</a> for setup instructions.\n",
       "</p>\n",
       "<p>\n",
       "  If you're reading this message in another frontend (for example, a static\n",
       "  rendering on GitHub or <a href=\"https://nbviewer.jupyter.org/\">NBViewer</a>),\n",
       "  it may mean that your frontend doesn't currently support widgets.\n",
       "</p>\n"
      ],
      "text/plain": [
       "HBox(children=(IntProgress(value=0, max=4761), HTML(value='')))"
      ]
     },
     "metadata": {},
     "output_type": "display_data"
    },
    {
     "name": "stdout",
     "output_type": "stream",
     "text": [
      "\n"
     ]
    },
    {
     "data": {
      "application/vnd.jupyter.widget-view+json": {
       "model_id": "07ee92daa98c473ebdf80463d8ea84da",
       "version_major": 2,
       "version_minor": 0
      },
      "text/html": [
       "<p>Failed to display Jupyter Widget of type <code>HBox</code>.</p>\n",
       "<p>\n",
       "  If you're reading this message in the Jupyter Notebook or JupyterLab Notebook, it may mean\n",
       "  that the widgets JavaScript is still loading. If this message persists, it\n",
       "  likely means that the widgets JavaScript library is either not installed or\n",
       "  not enabled. See the <a href=\"https://ipywidgets.readthedocs.io/en/stable/user_install.html\">Jupyter\n",
       "  Widgets Documentation</a> for setup instructions.\n",
       "</p>\n",
       "<p>\n",
       "  If you're reading this message in another frontend (for example, a static\n",
       "  rendering on GitHub or <a href=\"https://nbviewer.jupyter.org/\">NBViewer</a>),\n",
       "  it may mean that your frontend doesn't currently support widgets.\n",
       "</p>\n"
      ],
      "text/plain": [
       "HBox(children=(IntProgress(value=0, max=4761), HTML(value='')))"
      ]
     },
     "metadata": {},
     "output_type": "display_data"
    },
    {
     "name": "stdout",
     "output_type": "stream",
     "text": [
      "\n"
     ]
    },
    {
     "data": {
      "application/vnd.jupyter.widget-view+json": {
       "model_id": "aa2c1910d5d64f72942ee9a82e739659",
       "version_major": 2,
       "version_minor": 0
      },
      "text/html": [
       "<p>Failed to display Jupyter Widget of type <code>HBox</code>.</p>\n",
       "<p>\n",
       "  If you're reading this message in the Jupyter Notebook or JupyterLab Notebook, it may mean\n",
       "  that the widgets JavaScript is still loading. If this message persists, it\n",
       "  likely means that the widgets JavaScript library is either not installed or\n",
       "  not enabled. See the <a href=\"https://ipywidgets.readthedocs.io/en/stable/user_install.html\">Jupyter\n",
       "  Widgets Documentation</a> for setup instructions.\n",
       "</p>\n",
       "<p>\n",
       "  If you're reading this message in another frontend (for example, a static\n",
       "  rendering on GitHub or <a href=\"https://nbviewer.jupyter.org/\">NBViewer</a>),\n",
       "  it may mean that your frontend doesn't currently support widgets.\n",
       "</p>\n"
      ],
      "text/plain": [
       "HBox(children=(IntProgress(value=0, max=596), HTML(value='')))"
      ]
     },
     "metadata": {},
     "output_type": "display_data"
    },
    {
     "name": "stderr",
     "output_type": "stream",
     "text": [
      "2018-04-23 13:46:58,889 : INFO : loading Word2Vec object from word2vec/TRECDataset-HUM_400.model\n"
     ]
    },
    {
     "name": "stdout",
     "output_type": "stream",
     "text": [
      "\n",
      "0.7971014492753623 0.7969798657718121\n",
      "TRECDataset-HUM\n"
     ]
    },
    {
     "name": "stderr",
     "output_type": "stream",
     "text": [
      "2018-04-23 13:47:00,729 : INFO : loading wv recursively from word2vec/TRECDataset-HUM_400.model.wv.* with mmap=None\n",
      "2018-04-23 13:47:00,734 : INFO : setting ignored attribute syn0norm to None\n",
      "2018-04-23 13:47:00,736 : INFO : setting ignored attribute cum_table to None\n",
      "2018-04-23 13:47:00,739 : INFO : loaded word2vec/TRECDataset-HUM_400.model\n"
     ]
    },
    {
     "data": {
      "application/vnd.jupyter.widget-view+json": {
       "model_id": "a995dd5271524842bee6148279de3492",
       "version_major": 2,
       "version_minor": 0
      },
      "text/html": [
       "<p>Failed to display Jupyter Widget of type <code>HBox</code>.</p>\n",
       "<p>\n",
       "  If you're reading this message in the Jupyter Notebook or JupyterLab Notebook, it may mean\n",
       "  that the widgets JavaScript is still loading. If this message persists, it\n",
       "  likely means that the widgets JavaScript library is either not installed or\n",
       "  not enabled. See the <a href=\"https://ipywidgets.readthedocs.io/en/stable/user_install.html\">Jupyter\n",
       "  Widgets Documentation</a> for setup instructions.\n",
       "</p>\n",
       "<p>\n",
       "  If you're reading this message in another frontend (for example, a static\n",
       "  rendering on GitHub or <a href=\"https://nbviewer.jupyter.org/\">NBViewer</a>),\n",
       "  it may mean that your frontend doesn't currently support widgets.\n",
       "</p>\n"
      ],
      "text/plain": [
       "HBox(children=(IntProgress(value=0, max=4761), HTML(value='')))"
      ]
     },
     "metadata": {},
     "output_type": "display_data"
    },
    {
     "name": "stdout",
     "output_type": "stream",
     "text": [
      "\n"
     ]
    },
    {
     "data": {
      "application/vnd.jupyter.widget-view+json": {
       "model_id": "01c3460a599e4837b51875687b6e3bbd",
       "version_major": 2,
       "version_minor": 0
      },
      "text/html": [
       "<p>Failed to display Jupyter Widget of type <code>HBox</code>.</p>\n",
       "<p>\n",
       "  If you're reading this message in the Jupyter Notebook or JupyterLab Notebook, it may mean\n",
       "  that the widgets JavaScript is still loading. If this message persists, it\n",
       "  likely means that the widgets JavaScript library is either not installed or\n",
       "  not enabled. See the <a href=\"https://ipywidgets.readthedocs.io/en/stable/user_install.html\">Jupyter\n",
       "  Widgets Documentation</a> for setup instructions.\n",
       "</p>\n",
       "<p>\n",
       "  If you're reading this message in another frontend (for example, a static\n",
       "  rendering on GitHub or <a href=\"https://nbviewer.jupyter.org/\">NBViewer</a>),\n",
       "  it may mean that your frontend doesn't currently support widgets.\n",
       "</p>\n"
      ],
      "text/plain": [
       "HBox(children=(IntProgress(value=0, max=4761), HTML(value='')))"
      ]
     },
     "metadata": {},
     "output_type": "display_data"
    },
    {
     "name": "stdout",
     "output_type": "stream",
     "text": [
      "\n"
     ]
    },
    {
     "data": {
      "application/vnd.jupyter.widget-view+json": {
       "model_id": "510fe2af440c435dbf2136296751325a",
       "version_major": 2,
       "version_minor": 0
      },
      "text/html": [
       "<p>Failed to display Jupyter Widget of type <code>HBox</code>.</p>\n",
       "<p>\n",
       "  If you're reading this message in the Jupyter Notebook or JupyterLab Notebook, it may mean\n",
       "  that the widgets JavaScript is still loading. If this message persists, it\n",
       "  likely means that the widgets JavaScript library is either not installed or\n",
       "  not enabled. See the <a href=\"https://ipywidgets.readthedocs.io/en/stable/user_install.html\">Jupyter\n",
       "  Widgets Documentation</a> for setup instructions.\n",
       "</p>\n",
       "<p>\n",
       "  If you're reading this message in another frontend (for example, a static\n",
       "  rendering on GitHub or <a href=\"https://nbviewer.jupyter.org/\">NBViewer</a>),\n",
       "  it may mean that your frontend doesn't currently support widgets.\n",
       "</p>\n"
      ],
      "text/plain": [
       "HBox(children=(IntProgress(value=0, max=596), HTML(value='')))"
      ]
     },
     "metadata": {},
     "output_type": "display_data"
    },
    {
     "name": "stderr",
     "output_type": "stream",
     "text": [
      "2018-04-23 13:47:01,822 : INFO : loading Word2Vec object from word2vec/TRECDataset-ENTY_200.model\n"
     ]
    },
    {
     "name": "stdout",
     "output_type": "stream",
     "text": [
      "\n",
      "0.7899600924175594 0.7869127516778524\n",
      "TRECDataset-ENTY\n"
     ]
    },
    {
     "name": "stderr",
     "output_type": "stream",
     "text": [
      "2018-04-23 13:47:02,511 : INFO : loading wv recursively from word2vec/TRECDataset-ENTY_200.model.wv.* with mmap=None\n",
      "2018-04-23 13:47:02,512 : INFO : setting ignored attribute syn0norm to None\n",
      "2018-04-23 13:47:02,513 : INFO : setting ignored attribute cum_table to None\n",
      "2018-04-23 13:47:02,513 : INFO : loaded word2vec/TRECDataset-ENTY_200.model\n"
     ]
    },
    {
     "data": {
      "application/vnd.jupyter.widget-view+json": {
       "model_id": "83583cf9b5fe4be891f0de0ba09a3dc3",
       "version_major": 2,
       "version_minor": 0
      },
      "text/html": [
       "<p>Failed to display Jupyter Widget of type <code>HBox</code>.</p>\n",
       "<p>\n",
       "  If you're reading this message in the Jupyter Notebook or JupyterLab Notebook, it may mean\n",
       "  that the widgets JavaScript is still loading. If this message persists, it\n",
       "  likely means that the widgets JavaScript library is either not installed or\n",
       "  not enabled. See the <a href=\"https://ipywidgets.readthedocs.io/en/stable/user_install.html\">Jupyter\n",
       "  Widgets Documentation</a> for setup instructions.\n",
       "</p>\n",
       "<p>\n",
       "  If you're reading this message in another frontend (for example, a static\n",
       "  rendering on GitHub or <a href=\"https://nbviewer.jupyter.org/\">NBViewer</a>),\n",
       "  it may mean that your frontend doesn't currently support widgets.\n",
       "</p>\n"
      ],
      "text/plain": [
       "HBox(children=(IntProgress(value=0, max=4761), HTML(value='')))"
      ]
     },
     "metadata": {},
     "output_type": "display_data"
    },
    {
     "name": "stdout",
     "output_type": "stream",
     "text": [
      "\n"
     ]
    },
    {
     "data": {
      "application/vnd.jupyter.widget-view+json": {
       "model_id": "870a72f913f74464b05bdfd0cba20afe",
       "version_major": 2,
       "version_minor": 0
      },
      "text/html": [
       "<p>Failed to display Jupyter Widget of type <code>HBox</code>.</p>\n",
       "<p>\n",
       "  If you're reading this message in the Jupyter Notebook or JupyterLab Notebook, it may mean\n",
       "  that the widgets JavaScript is still loading. If this message persists, it\n",
       "  likely means that the widgets JavaScript library is either not installed or\n",
       "  not enabled. See the <a href=\"https://ipywidgets.readthedocs.io/en/stable/user_install.html\">Jupyter\n",
       "  Widgets Documentation</a> for setup instructions.\n",
       "</p>\n",
       "<p>\n",
       "  If you're reading this message in another frontend (for example, a static\n",
       "  rendering on GitHub or <a href=\"https://nbviewer.jupyter.org/\">NBViewer</a>),\n",
       "  it may mean that your frontend doesn't currently support widgets.\n",
       "</p>\n"
      ],
      "text/plain": [
       "HBox(children=(IntProgress(value=0, max=4761), HTML(value='')))"
      ]
     },
     "metadata": {},
     "output_type": "display_data"
    },
    {
     "name": "stdout",
     "output_type": "stream",
     "text": [
      "\n"
     ]
    },
    {
     "data": {
      "application/vnd.jupyter.widget-view+json": {
       "model_id": "fd2faf28614e4515902e6ba7f24fbd12",
       "version_major": 2,
       "version_minor": 0
      },
      "text/html": [
       "<p>Failed to display Jupyter Widget of type <code>HBox</code>.</p>\n",
       "<p>\n",
       "  If you're reading this message in the Jupyter Notebook or JupyterLab Notebook, it may mean\n",
       "  that the widgets JavaScript is still loading. If this message persists, it\n",
       "  likely means that the widgets JavaScript library is either not installed or\n",
       "  not enabled. See the <a href=\"https://ipywidgets.readthedocs.io/en/stable/user_install.html\">Jupyter\n",
       "  Widgets Documentation</a> for setup instructions.\n",
       "</p>\n",
       "<p>\n",
       "  If you're reading this message in another frontend (for example, a static\n",
       "  rendering on GitHub or <a href=\"https://nbviewer.jupyter.org/\">NBViewer</a>),\n",
       "  it may mean that your frontend doesn't currently support widgets.\n",
       "</p>\n"
      ],
      "text/plain": [
       "HBox(children=(IntProgress(value=0, max=596), HTML(value='')))"
      ]
     },
     "metadata": {},
     "output_type": "display_data"
    },
    {
     "name": "stdout",
     "output_type": "stream",
     "text": [
      "\n"
     ]
    },
    {
     "name": "stderr",
     "output_type": "stream",
     "text": [
      "2018-04-23 13:47:03,483 : INFO : loading Word2Vec object from word2vec/TRECDataset-ENTY_300.model\n"
     ]
    },
    {
     "name": "stdout",
     "output_type": "stream",
     "text": [
      "0.7735769796261289 0.7734899328859061\n",
      "TRECDataset-ENTY\n"
     ]
    },
    {
     "name": "stderr",
     "output_type": "stream",
     "text": [
      "2018-04-23 13:47:04,711 : INFO : loading wv recursively from word2vec/TRECDataset-ENTY_300.model.wv.* with mmap=None\n",
      "2018-04-23 13:47:04,749 : INFO : setting ignored attribute syn0norm to None\n",
      "2018-04-23 13:47:04,750 : INFO : setting ignored attribute cum_table to None\n",
      "2018-04-23 13:47:04,751 : INFO : loaded word2vec/TRECDataset-ENTY_300.model\n"
     ]
    },
    {
     "data": {
      "application/vnd.jupyter.widget-view+json": {
       "model_id": "9df401935d574f7cb9aa6930a3fed108",
       "version_major": 2,
       "version_minor": 0
      },
      "text/html": [
       "<p>Failed to display Jupyter Widget of type <code>HBox</code>.</p>\n",
       "<p>\n",
       "  If you're reading this message in the Jupyter Notebook or JupyterLab Notebook, it may mean\n",
       "  that the widgets JavaScript is still loading. If this message persists, it\n",
       "  likely means that the widgets JavaScript library is either not installed or\n",
       "  not enabled. See the <a href=\"https://ipywidgets.readthedocs.io/en/stable/user_install.html\">Jupyter\n",
       "  Widgets Documentation</a> for setup instructions.\n",
       "</p>\n",
       "<p>\n",
       "  If you're reading this message in another frontend (for example, a static\n",
       "  rendering on GitHub or <a href=\"https://nbviewer.jupyter.org/\">NBViewer</a>),\n",
       "  it may mean that your frontend doesn't currently support widgets.\n",
       "</p>\n"
      ],
      "text/plain": [
       "HBox(children=(IntProgress(value=0, max=4761), HTML(value='')))"
      ]
     },
     "metadata": {},
     "output_type": "display_data"
    },
    {
     "name": "stdout",
     "output_type": "stream",
     "text": [
      "\n"
     ]
    },
    {
     "data": {
      "application/vnd.jupyter.widget-view+json": {
       "model_id": "9c96c5fea2084429b117a6306411145c",
       "version_major": 2,
       "version_minor": 0
      },
      "text/html": [
       "<p>Failed to display Jupyter Widget of type <code>HBox</code>.</p>\n",
       "<p>\n",
       "  If you're reading this message in the Jupyter Notebook or JupyterLab Notebook, it may mean\n",
       "  that the widgets JavaScript is still loading. If this message persists, it\n",
       "  likely means that the widgets JavaScript library is either not installed or\n",
       "  not enabled. See the <a href=\"https://ipywidgets.readthedocs.io/en/stable/user_install.html\">Jupyter\n",
       "  Widgets Documentation</a> for setup instructions.\n",
       "</p>\n",
       "<p>\n",
       "  If you're reading this message in another frontend (for example, a static\n",
       "  rendering on GitHub or <a href=\"https://nbviewer.jupyter.org/\">NBViewer</a>),\n",
       "  it may mean that your frontend doesn't currently support widgets.\n",
       "</p>\n"
      ],
      "text/plain": [
       "HBox(children=(IntProgress(value=0, max=4761), HTML(value='')))"
      ]
     },
     "metadata": {},
     "output_type": "display_data"
    },
    {
     "name": "stdout",
     "output_type": "stream",
     "text": [
      "\n"
     ]
    },
    {
     "data": {
      "application/vnd.jupyter.widget-view+json": {
       "model_id": "99b97661c3844260a146cd6ec36f7363",
       "version_major": 2,
       "version_minor": 0
      },
      "text/html": [
       "<p>Failed to display Jupyter Widget of type <code>HBox</code>.</p>\n",
       "<p>\n",
       "  If you're reading this message in the Jupyter Notebook or JupyterLab Notebook, it may mean\n",
       "  that the widgets JavaScript is still loading. If this message persists, it\n",
       "  likely means that the widgets JavaScript library is either not installed or\n",
       "  not enabled. See the <a href=\"https://ipywidgets.readthedocs.io/en/stable/user_install.html\">Jupyter\n",
       "  Widgets Documentation</a> for setup instructions.\n",
       "</p>\n",
       "<p>\n",
       "  If you're reading this message in another frontend (for example, a static\n",
       "  rendering on GitHub or <a href=\"https://nbviewer.jupyter.org/\">NBViewer</a>),\n",
       "  it may mean that your frontend doesn't currently support widgets.\n",
       "</p>\n"
      ],
      "text/plain": [
       "HBox(children=(IntProgress(value=0, max=596), HTML(value='')))"
      ]
     },
     "metadata": {},
     "output_type": "display_data"
    },
    {
     "name": "stderr",
     "output_type": "stream",
     "text": [
      "2018-04-23 13:47:05,779 : INFO : loading Word2Vec object from word2vec/TRECDataset-ENTY_400.model\n"
     ]
    },
    {
     "name": "stdout",
     "output_type": "stream",
     "text": [
      "\n",
      "0.7737870195337114 0.7734899328859061\n",
      "TRECDataset-ENTY\n"
     ]
    },
    {
     "name": "stderr",
     "output_type": "stream",
     "text": [
      "2018-04-23 13:47:07,490 : INFO : loading wv recursively from word2vec/TRECDataset-ENTY_400.model.wv.* with mmap=None\n",
      "2018-04-23 13:47:07,509 : INFO : setting ignored attribute syn0norm to None\n",
      "2018-04-23 13:47:07,510 : INFO : setting ignored attribute cum_table to None\n",
      "2018-04-23 13:47:07,511 : INFO : loaded word2vec/TRECDataset-ENTY_400.model\n"
     ]
    },
    {
     "data": {
      "application/vnd.jupyter.widget-view+json": {
       "model_id": "e8d1144c9331415f93f6b6c0f7485092",
       "version_major": 2,
       "version_minor": 0
      },
      "text/html": [
       "<p>Failed to display Jupyter Widget of type <code>HBox</code>.</p>\n",
       "<p>\n",
       "  If you're reading this message in the Jupyter Notebook or JupyterLab Notebook, it may mean\n",
       "  that the widgets JavaScript is still loading. If this message persists, it\n",
       "  likely means that the widgets JavaScript library is either not installed or\n",
       "  not enabled. See the <a href=\"https://ipywidgets.readthedocs.io/en/stable/user_install.html\">Jupyter\n",
       "  Widgets Documentation</a> for setup instructions.\n",
       "</p>\n",
       "<p>\n",
       "  If you're reading this message in another frontend (for example, a static\n",
       "  rendering on GitHub or <a href=\"https://nbviewer.jupyter.org/\">NBViewer</a>),\n",
       "  it may mean that your frontend doesn't currently support widgets.\n",
       "</p>\n"
      ],
      "text/plain": [
       "HBox(children=(IntProgress(value=0, max=4761), HTML(value='')))"
      ]
     },
     "metadata": {},
     "output_type": "display_data"
    },
    {
     "name": "stdout",
     "output_type": "stream",
     "text": [
      "\n"
     ]
    },
    {
     "data": {
      "application/vnd.jupyter.widget-view+json": {
       "model_id": "3db3e6cee5384adab090d52e7d63ca70",
       "version_major": 2,
       "version_minor": 0
      },
      "text/html": [
       "<p>Failed to display Jupyter Widget of type <code>HBox</code>.</p>\n",
       "<p>\n",
       "  If you're reading this message in the Jupyter Notebook or JupyterLab Notebook, it may mean\n",
       "  that the widgets JavaScript is still loading. If this message persists, it\n",
       "  likely means that the widgets JavaScript library is either not installed or\n",
       "  not enabled. See the <a href=\"https://ipywidgets.readthedocs.io/en/stable/user_install.html\">Jupyter\n",
       "  Widgets Documentation</a> for setup instructions.\n",
       "</p>\n",
       "<p>\n",
       "  If you're reading this message in another frontend (for example, a static\n",
       "  rendering on GitHub or <a href=\"https://nbviewer.jupyter.org/\">NBViewer</a>),\n",
       "  it may mean that your frontend doesn't currently support widgets.\n",
       "</p>\n"
      ],
      "text/plain": [
       "HBox(children=(IntProgress(value=0, max=4761), HTML(value='')))"
      ]
     },
     "metadata": {},
     "output_type": "display_data"
    },
    {
     "name": "stdout",
     "output_type": "stream",
     "text": [
      "\n"
     ]
    },
    {
     "data": {
      "application/vnd.jupyter.widget-view+json": {
       "model_id": "8186b85866cc44eabf029b429c75a55a",
       "version_major": 2,
       "version_minor": 0
      },
      "text/html": [
       "<p>Failed to display Jupyter Widget of type <code>HBox</code>.</p>\n",
       "<p>\n",
       "  If you're reading this message in the Jupyter Notebook or JupyterLab Notebook, it may mean\n",
       "  that the widgets JavaScript is still loading. If this message persists, it\n",
       "  likely means that the widgets JavaScript library is either not installed or\n",
       "  not enabled. See the <a href=\"https://ipywidgets.readthedocs.io/en/stable/user_install.html\">Jupyter\n",
       "  Widgets Documentation</a> for setup instructions.\n",
       "</p>\n",
       "<p>\n",
       "  If you're reading this message in another frontend (for example, a static\n",
       "  rendering on GitHub or <a href=\"https://nbviewer.jupyter.org/\">NBViewer</a>),\n",
       "  it may mean that your frontend doesn't currently support widgets.\n",
       "</p>\n"
      ],
      "text/plain": [
       "HBox(children=(IntProgress(value=0, max=596), HTML(value='')))"
      ]
     },
     "metadata": {},
     "output_type": "display_data"
    },
    {
     "name": "stdout",
     "output_type": "stream",
     "text": [
      "\n",
      "0.7737870195337114 0.7718120805369127\n"
     ]
    }
   ],
   "source": [
    "for dataset in datasets.ALL_DATASETS+datasets.TREC_DATASETS:\n",
    "    for dims in [200,300,400]:\n",
    "        print(dataset.name())\n",
    "        model = TrainedWordVectorModel(dims, dataset,classify.SkClassifier())\n",
    "        model.fit(dataset.train_samples(), dataset.train_labels())\n",
    "        train_p = model.score(dataset.train_samples(), dataset.train_labels())\n",
    "        test_p = model.score(dataset.test_samples(), dataset.test_labels())\n",
    "        results[dataset.name()][('logistic', str(dims), 'train')] = train_p\n",
    "        results[dataset.name()][('logistic', str(dims), 'test')] = test_p\n",
    "        print(train_p, test_p)\n",
    "    "
   ]
  },
  {
   "cell_type": "code",
   "execution_count": 39,
   "metadata": {},
   "outputs": [],
   "source": [
    "to_file = 'dumps/trained_wordvec_results.pickle'\n",
    "if False:\n",
    "    pickle.dump(results, open(to_file, 'wb'))"
   ]
  },
  {
   "cell_type": "code",
   "execution_count": 42,
   "metadata": {},
   "outputs": [],
   "source": [
    "loaded = pickle.load(open(to_file, 'rb'))"
   ]
  },
  {
   "cell_type": "code",
   "execution_count": null,
   "metadata": {},
   "outputs": [],
   "source": []
  },
  {
   "cell_type": "code",
   "execution_count": 43,
   "metadata": {},
   "outputs": [
    {
     "data": {
      "text/html": [
       "<div>\n",
       "<style scoped>\n",
       "    .dataframe tbody tr th:only-of-type {\n",
       "        vertical-align: middle;\n",
       "    }\n",
       "\n",
       "    .dataframe tbody tr th {\n",
       "        vertical-align: top;\n",
       "    }\n",
       "\n",
       "    .dataframe thead th {\n",
       "        text-align: right;\n",
       "    }\n",
       "</style>\n",
       "<table border=\"1\" class=\"dataframe\">\n",
       "  <thead>\n",
       "    <tr style=\"text-align: right;\">\n",
       "      <th></th>\n",
       "      <th></th>\n",
       "      <th></th>\n",
       "      <th>CRDataset</th>\n",
       "      <th>MPQADataset</th>\n",
       "      <th>MRDataset</th>\n",
       "      <th>SUBJDataset</th>\n",
       "      <th>TRECDataset-ABBR</th>\n",
       "      <th>TRECDataset-DESC</th>\n",
       "      <th>TRECDataset-ENTY</th>\n",
       "      <th>TRECDataset-HUM</th>\n",
       "      <th>TRECDataset-LOC</th>\n",
       "      <th>TRECDataset-NUM</th>\n",
       "    </tr>\n",
       "  </thead>\n",
       "  <tbody>\n",
       "    <tr>\n",
       "      <th rowspan=\"6\" valign=\"top\">logistic</th>\n",
       "      <th rowspan=\"2\" valign=\"top\">200</th>\n",
       "      <th>test</th>\n",
       "      <td>0.029051</td>\n",
       "      <td>0.000306</td>\n",
       "      <td>0.098875</td>\n",
       "      <td>0.307000</td>\n",
       "      <td>-0.000818</td>\n",
       "      <td>0.003649</td>\n",
       "      <td>-0.000704</td>\n",
       "      <td>0.028478</td>\n",
       "      <td>0.004569</td>\n",
       "      <td>0.057107</td>\n",
       "    </tr>\n",
       "    <tr>\n",
       "      <th>train</th>\n",
       "      <td>0.031258</td>\n",
       "      <td>0.000041</td>\n",
       "      <td>0.111561</td>\n",
       "      <td>0.309625</td>\n",
       "      <td>-0.000002</td>\n",
       "      <td>0.005223</td>\n",
       "      <td>-0.000617</td>\n",
       "      <td>0.023581</td>\n",
       "      <td>0.002459</td>\n",
       "      <td>0.045179</td>\n",
       "    </tr>\n",
       "    <tr>\n",
       "      <th rowspan=\"2\" valign=\"top\">300</th>\n",
       "      <th>test</th>\n",
       "      <td>0.007887</td>\n",
       "      <td>0.000306</td>\n",
       "      <td>0.085754</td>\n",
       "      <td>0.310000</td>\n",
       "      <td>-0.000818</td>\n",
       "      <td>0.005327</td>\n",
       "      <td>-0.000704</td>\n",
       "      <td>0.013378</td>\n",
       "      <td>-0.000465</td>\n",
       "      <td>0.047040</td>\n",
       "    </tr>\n",
       "    <tr>\n",
       "      <th>train</th>\n",
       "      <td>0.020993</td>\n",
       "      <td>0.000041</td>\n",
       "      <td>0.106402</td>\n",
       "      <td>0.307250</td>\n",
       "      <td>-0.000002</td>\n",
       "      <td>0.002493</td>\n",
       "      <td>-0.000407</td>\n",
       "      <td>0.013499</td>\n",
       "      <td>-0.000061</td>\n",
       "      <td>0.036778</td>\n",
       "    </tr>\n",
       "    <tr>\n",
       "      <th rowspan=\"2\" valign=\"top\">400</th>\n",
       "      <th>test</th>\n",
       "      <td>0.005241</td>\n",
       "      <td>0.000306</td>\n",
       "      <td>0.092315</td>\n",
       "      <td>0.318000</td>\n",
       "      <td>-0.000818</td>\n",
       "      <td>0.003649</td>\n",
       "      <td>-0.002381</td>\n",
       "      <td>0.003311</td>\n",
       "      <td>-0.000465</td>\n",
       "      <td>0.043684</td>\n",
       "    </tr>\n",
       "    <tr>\n",
       "      <th>train</th>\n",
       "      <td>0.022649</td>\n",
       "      <td>0.000041</td>\n",
       "      <td>0.107926</td>\n",
       "      <td>0.313500</td>\n",
       "      <td>-0.000002</td>\n",
       "      <td>0.001653</td>\n",
       "      <td>-0.000407</td>\n",
       "      <td>0.006358</td>\n",
       "      <td>-0.000061</td>\n",
       "      <td>0.034677</td>\n",
       "    </tr>\n",
       "    <tr>\n",
       "      <th rowspan=\"6\" valign=\"top\">svc</th>\n",
       "      <th rowspan=\"2\" valign=\"top\">200</th>\n",
       "      <th>test</th>\n",
       "      <td>-0.000050</td>\n",
       "      <td>0.000306</td>\n",
       "      <td>0.052015</td>\n",
       "      <td>0.172000</td>\n",
       "      <td>-0.000818</td>\n",
       "      <td>0.000293</td>\n",
       "      <td>-0.000704</td>\n",
       "      <td>-0.000045</td>\n",
       "      <td>-0.000465</td>\n",
       "      <td>0.000060</td>\n",
       "    </tr>\n",
       "    <tr>\n",
       "      <th>train</th>\n",
       "      <td>0.003444</td>\n",
       "      <td>0.000041</td>\n",
       "      <td>0.084359</td>\n",
       "      <td>0.194375</td>\n",
       "      <td>-0.000002</td>\n",
       "      <td>-0.000028</td>\n",
       "      <td>0.000014</td>\n",
       "      <td>0.000057</td>\n",
       "      <td>-0.000061</td>\n",
       "      <td>0.000021</td>\n",
       "    </tr>\n",
       "    <tr>\n",
       "      <th rowspan=\"2\" valign=\"top\">300</th>\n",
       "      <th>test</th>\n",
       "      <td>-0.000050</td>\n",
       "      <td>0.000306</td>\n",
       "      <td>0.047329</td>\n",
       "      <td>0.163000</td>\n",
       "      <td>-0.000818</td>\n",
       "      <td>0.000293</td>\n",
       "      <td>-0.000704</td>\n",
       "      <td>-0.000045</td>\n",
       "      <td>-0.000465</td>\n",
       "      <td>0.000060</td>\n",
       "    </tr>\n",
       "    <tr>\n",
       "      <th>train</th>\n",
       "      <td>0.002781</td>\n",
       "      <td>0.000041</td>\n",
       "      <td>0.079083</td>\n",
       "      <td>0.176750</td>\n",
       "      <td>-0.000002</td>\n",
       "      <td>-0.000028</td>\n",
       "      <td>0.000014</td>\n",
       "      <td>0.000057</td>\n",
       "      <td>-0.000061</td>\n",
       "      <td>0.000021</td>\n",
       "    </tr>\n",
       "    <tr>\n",
       "      <th rowspan=\"2\" valign=\"top\">400</th>\n",
       "      <th>test</th>\n",
       "      <td>-0.000050</td>\n",
       "      <td>0.000306</td>\n",
       "      <td>0.046392</td>\n",
       "      <td>0.135000</td>\n",
       "      <td>-0.000818</td>\n",
       "      <td>0.000293</td>\n",
       "      <td>-0.000704</td>\n",
       "      <td>-0.000045</td>\n",
       "      <td>-0.000465</td>\n",
       "      <td>0.000060</td>\n",
       "    </tr>\n",
       "    <tr>\n",
       "      <th>train</th>\n",
       "      <td>0.002450</td>\n",
       "      <td>0.000041</td>\n",
       "      <td>0.077442</td>\n",
       "      <td>0.159250</td>\n",
       "      <td>-0.000002</td>\n",
       "      <td>-0.000028</td>\n",
       "      <td>0.000014</td>\n",
       "      <td>0.000057</td>\n",
       "      <td>-0.000061</td>\n",
       "      <td>0.000021</td>\n",
       "    </tr>\n",
       "  </tbody>\n",
       "</table>\n",
       "</div>"
      ],
      "text/plain": [
       "                    CRDataset  MPQADataset  MRDataset  SUBJDataset  \\\n",
       "logistic 200 test    0.029051     0.000306   0.098875     0.307000   \n",
       "             train   0.031258     0.000041   0.111561     0.309625   \n",
       "         300 test    0.007887     0.000306   0.085754     0.310000   \n",
       "             train   0.020993     0.000041   0.106402     0.307250   \n",
       "         400 test    0.005241     0.000306   0.092315     0.318000   \n",
       "             train   0.022649     0.000041   0.107926     0.313500   \n",
       "svc      200 test   -0.000050     0.000306   0.052015     0.172000   \n",
       "             train   0.003444     0.000041   0.084359     0.194375   \n",
       "         300 test   -0.000050     0.000306   0.047329     0.163000   \n",
       "             train   0.002781     0.000041   0.079083     0.176750   \n",
       "         400 test   -0.000050     0.000306   0.046392     0.135000   \n",
       "             train   0.002450     0.000041   0.077442     0.159250   \n",
       "\n",
       "                    TRECDataset-ABBR  TRECDataset-DESC  TRECDataset-ENTY  \\\n",
       "logistic 200 test          -0.000818          0.003649         -0.000704   \n",
       "             train         -0.000002          0.005223         -0.000617   \n",
       "         300 test          -0.000818          0.005327         -0.000704   \n",
       "             train         -0.000002          0.002493         -0.000407   \n",
       "         400 test          -0.000818          0.003649         -0.002381   \n",
       "             train         -0.000002          0.001653         -0.000407   \n",
       "svc      200 test          -0.000818          0.000293         -0.000704   \n",
       "             train         -0.000002         -0.000028          0.000014   \n",
       "         300 test          -0.000818          0.000293         -0.000704   \n",
       "             train         -0.000002         -0.000028          0.000014   \n",
       "         400 test          -0.000818          0.000293         -0.000704   \n",
       "             train         -0.000002         -0.000028          0.000014   \n",
       "\n",
       "                    TRECDataset-HUM  TRECDataset-LOC  TRECDataset-NUM  \n",
       "logistic 200 test          0.028478         0.004569         0.057107  \n",
       "             train         0.023581         0.002459         0.045179  \n",
       "         300 test          0.013378        -0.000465         0.047040  \n",
       "             train         0.013499        -0.000061         0.036778  \n",
       "         400 test          0.003311        -0.000465         0.043684  \n",
       "             train         0.006358        -0.000061         0.034677  \n",
       "svc      200 test         -0.000045        -0.000465         0.000060  \n",
       "             train         0.000057        -0.000061         0.000021  \n",
       "         300 test         -0.000045        -0.000465         0.000060  \n",
       "             train         0.000057        -0.000061         0.000021  \n",
       "         400 test         -0.000045        -0.000465         0.000060  \n",
       "             train         0.000057        -0.000061         0.000021  "
      ]
     },
     "execution_count": 43,
     "metadata": {},
     "output_type": "execute_result"
    }
   ],
   "source": [
    "df = pd.DataFrame(loaded)\n",
    "subtract_baseline(df)\n",
    "df"
   ]
  },
  {
   "cell_type": "code",
   "execution_count": 49,
   "metadata": {},
   "outputs": [],
   "source": [
    "df = pd.DataFrame(loaded)\n",
    "subtract_baseline(df)\n",
    "nottrec = [x for x in df.columns if 'TREC' not in x] \n",
    "trec = [x for x in df.columns if 'TREC' in x]"
   ]
  },
  {
   "cell_type": "code",
   "execution_count": 2,
   "metadata": {},
   "outputs": [
    {
     "ename": "NameError",
     "evalue": "name 'df' is not defined",
     "output_type": "error",
     "traceback": [
      "\u001b[0;31m---------------------------------------------------------------------------\u001b[0m",
      "\u001b[0;31mNameError\u001b[0m                                 Traceback (most recent call last)",
      "\u001b[0;32m<ipython-input-2-a9f97cee2d4a>\u001b[0m in \u001b[0;36m<module>\u001b[0;34m()\u001b[0m\n\u001b[0;32m----> 1\u001b[0;31m \u001b[0mlatex\u001b[0m \u001b[0;34m=\u001b[0m \u001b[0mdf\u001b[0m\u001b[0;34m[\u001b[0m\u001b[0mnottrec\u001b[0m\u001b[0;34m]\u001b[0m\u001b[0;34m.\u001b[0m\u001b[0mround\u001b[0m\u001b[0;34m(\u001b[0m\u001b[0;36m2\u001b[0m\u001b[0;34m)\u001b[0m\u001b[0;34m.\u001b[0m\u001b[0mto_latex\u001b[0m\u001b[0;34m(\u001b[0m\u001b[0;34m)\u001b[0m\u001b[0;34m\u001b[0m\u001b[0m\n\u001b[0m\u001b[1;32m      2\u001b[0m \u001b[0mlatex\u001b[0m \u001b[0;34m=\u001b[0m \u001b[0mlatex\u001b[0m\u001b[0;34m.\u001b[0m\u001b[0mreplace\u001b[0m\u001b[0;34m(\u001b[0m\u001b[0;34m'Dataset'\u001b[0m\u001b[0;34m,\u001b[0m\u001b[0;34m''\u001b[0m\u001b[0;34m)\u001b[0m\u001b[0;34m\u001b[0m\u001b[0m\n\u001b[1;32m      3\u001b[0m \u001b[0mlatex\u001b[0m \u001b[0;34m=\u001b[0m \u001b[0mlatex\u001b[0m\u001b[0;34m.\u001b[0m\u001b[0mreplace\u001b[0m\u001b[0;34m(\u001b[0m\u001b[0;34m'  '\u001b[0m\u001b[0;34m,\u001b[0m\u001b[0;34m''\u001b[0m\u001b[0;34m)\u001b[0m\u001b[0;34m\u001b[0m\u001b[0m\n\u001b[1;32m      4\u001b[0m \u001b[0mprint\u001b[0m\u001b[0;34m(\u001b[0m\u001b[0mtabular\u001b[0m\u001b[0;34m(\u001b[0m\u001b[0mlatex\u001b[0m\u001b[0;34m)\u001b[0m\u001b[0;34m)\u001b[0m\u001b[0;34m\u001b[0m\u001b[0m\n",
      "\u001b[0;31mNameError\u001b[0m: name 'df' is not defined"
     ]
    }
   ],
   "source": [
    "latex = df[nottrec].round(2).to_latex()\n",
    "latex = latex.replace('Dataset','')\n",
    "latex = latex.replace('  ','')\n",
    "print(latex)"
   ]
  },
  {
   "cell_type": "code",
   "execution_count": 51,
   "metadata": {},
   "outputs": [
    {
     "name": "stdout",
     "output_type": "stream",
     "text": [
      "\\begin{tabular}{lllrrrrrr}\n",
      "\\toprule\n",
      " & &&ABBR &DESC &ENTY &HUM &LOC &NUM \\\\\n",
      "\\midrule\n",
      "logistic & 200 & test &-0.0 &0.00 &-0.0 & 0.03 &0.0 & 0.06 \\\\\n",
      " & & train &-0.0 &0.01 &-0.0 & 0.02 &0.0 & 0.05 \\\\\n",
      " & 300 & test &-0.0 &0.01 &-0.0 & 0.01 & -0.0 & 0.05 \\\\\n",
      " & & train &-0.0 &0.00 &-0.0 & 0.01 & -0.0 & 0.04 \\\\\n",
      " & 400 & test &-0.0 &0.00 &-0.0 & 0.00 & -0.0 & 0.04 \\\\\n",
      " & & train &-0.0 &0.00 &-0.0 & 0.01 & -0.0 & 0.03 \\\\\n",
      "svc & 200 & test &-0.0 &0.00 &-0.0 &-0.00 & -0.0 & 0.00 \\\\\n",
      " & & train &-0.0 & -0.00 & 0.0 & 0.00 & -0.0 & 0.00 \\\\\n",
      " & 300 & test &-0.0 &0.00 &-0.0 &-0.00 & -0.0 & 0.00 \\\\\n",
      " & & train &-0.0 & -0.00 & 0.0 & 0.00 & -0.0 & 0.00 \\\\\n",
      " & 400 & test &-0.0 &0.00 &-0.0 &-0.00 & -0.0 & 0.00 \\\\\n",
      " & & train &-0.0 & -0.00 & 0.0 & 0.00 & -0.0 & 0.00 \\\\\n",
      "\\bottomrule\n",
      "\\end{tabular}\n",
      "\n"
     ]
    }
   ],
   "source": [
    "trec_df = df[trec]\n",
    "latex = trec_df.round(2).to_latex()\n",
    "latex = latex.replace('Dataset','')\n",
    "latex = latex.replace('TREC-','')\n",
    "latex = latex.replace('  ','')\n",
    "print(latex)"
   ]
  },
  {
   "cell_type": "code",
   "execution_count": 78,
   "metadata": {},
   "outputs": [
    {
     "data": {
      "text/html": [
       "<div>\n",
       "<style scoped>\n",
       "    .dataframe tbody tr th:only-of-type {\n",
       "        vertical-align: middle;\n",
       "    }\n",
       "\n",
       "    .dataframe tbody tr th {\n",
       "        vertical-align: top;\n",
       "    }\n",
       "\n",
       "    .dataframe thead th {\n",
       "        text-align: right;\n",
       "    }\n",
       "</style>\n",
       "<table border=\"1\" class=\"dataframe\">\n",
       "  <thead>\n",
       "    <tr style=\"text-align: right;\">\n",
       "      <th></th>\n",
       "      <th></th>\n",
       "      <th>TRECDataset-ABBR</th>\n",
       "      <th>TRECDataset-DESC</th>\n",
       "      <th>TRECDataset-ENTY</th>\n",
       "      <th>TRECDataset-HUM</th>\n",
       "      <th>TRECDataset-LOC</th>\n",
       "      <th>TRECDataset-NUM</th>\n",
       "    </tr>\n",
       "  </thead>\n",
       "  <tbody>\n",
       "    <tr>\n",
       "      <th rowspan=\"2\" valign=\"top\">logistic</th>\n",
       "      <th>test</th>\n",
       "      <td>0.983221</td>\n",
       "      <td>0.783557</td>\n",
       "      <td>0.770134</td>\n",
       "      <td>0.785235</td>\n",
       "      <td>0.845638</td>\n",
       "      <td>0.879195</td>\n",
       "    </tr>\n",
       "    <tr>\n",
       "      <th>train</th>\n",
       "      <td>0.984037</td>\n",
       "      <td>0.783029</td>\n",
       "      <td>0.773787</td>\n",
       "      <td>0.789330</td>\n",
       "      <td>0.847091</td>\n",
       "      <td>0.866415</td>\n",
       "    </tr>\n",
       "    <tr>\n",
       "      <th rowspan=\"2\" valign=\"top\">svc</th>\n",
       "      <th>test</th>\n",
       "      <td>0.983221</td>\n",
       "      <td>0.781879</td>\n",
       "      <td>0.773490</td>\n",
       "      <td>0.783557</td>\n",
       "      <td>0.845638</td>\n",
       "      <td>0.830537</td>\n",
       "    </tr>\n",
       "    <tr>\n",
       "      <th>train</th>\n",
       "      <td>0.984037</td>\n",
       "      <td>0.781558</td>\n",
       "      <td>0.774207</td>\n",
       "      <td>0.783659</td>\n",
       "      <td>0.846041</td>\n",
       "      <td>0.830498</td>\n",
       "    </tr>\n",
       "  </tbody>\n",
       "</table>\n",
       "</div>"
      ],
      "text/plain": [
       "                TRECDataset-ABBR  TRECDataset-DESC  TRECDataset-ENTY  \\\n",
       "logistic test           0.983221          0.783557          0.770134   \n",
       "         train          0.984037          0.783029          0.773787   \n",
       "svc      test           0.983221          0.781879          0.773490   \n",
       "         train          0.984037          0.781558          0.774207   \n",
       "\n",
       "                TRECDataset-HUM  TRECDataset-LOC  TRECDataset-NUM  \n",
       "logistic test          0.785235         0.845638         0.879195  \n",
       "         train         0.789330         0.847091         0.866415  \n",
       "svc      test          0.783557         0.845638         0.830537  \n",
       "         train         0.783659         0.846041         0.830498  "
      ]
     },
     "execution_count": 78,
     "metadata": {},
     "output_type": "execute_result"
    }
   ],
   "source": [
    "trec_df"
   ]
  },
  {
   "cell_type": "code",
   "execution_count": null,
   "metadata": {},
   "outputs": [],
   "source": []
  }
 ],
 "metadata": {
  "kernelspec": {
   "display_name": "diplomka",
   "language": "python",
   "name": "diplomka"
  },
  "language_info": {
   "codemirror_mode": {
    "name": "ipython",
    "version": 3
   },
   "file_extension": ".py",
   "mimetype": "text/x-python",
   "name": "python",
   "nbconvert_exporter": "python",
   "pygments_lexer": "ipython3",
   "version": "3.5.2"
  }
 },
 "nbformat": 4,
 "nbformat_minor": 2
}
